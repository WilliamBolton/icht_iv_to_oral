{
  "cells": [
    {
      "cell_type": "code",
      "execution_count": null,
      "metadata": {
        "gather": {
          "logged": 1687770600261
        }
      },
      "outputs": [],
      "source": [
        "# Libraries\n",
        "import pandas as pd\n",
        "pd.set_option('display.max_columns', 40)\n",
        "pd.set_option('display.width', 2000)\n",
        "from IPython.core.interactiveshell import InteractiveShell\n",
        "InteractiveShell.ast_node_interactivity = \"all\""
      ]
    },
    {
      "cell_type": "code",
      "execution_count": null,
      "metadata": {
        "gather": {
          "logged": 1687771876844
        },
        "jupyter": {
          "outputs_hidden": false,
          "source_hidden": false
        },
        "nteract": {
          "transient": {
            "deleting": false
          }
        }
      },
      "outputs": [],
      "source": [
        "import json, snowflake.connector\n",
        "\n",
        "# establish the connection to snowflake\n",
        "ctx = snowflake.connector.connect( \n",
        "    **json.load(open('/opt/ich/python-snowflake-defaults.json')))\n",
        "    \n",
        "# verify and test if connection is working\n",
        "try: \n",
        "    cs = ctx.cursor() \n",
        "    cs.execute('SELECT current_version(), current_role(), current_warehouse()')\n",
        "    print(cs.fetchone())\n",
        "finally: \n",
        "    cs.close()"
      ]
    },
    {
      "cell_type": "code",
      "execution_count": 3,
      "metadata": {
        "gather": {
          "logged": 1687771944298
        },
        "jupyter": {
          "outputs_hidden": false,
          "source_hidden": false
        },
        "nteract": {
          "transient": {
            "deleting": false
          }
        }
      },
      "outputs": [],
      "source": [
        "# Import \n",
        "query = '''\n",
        "SELECT * from ICHT_SANDBOX_PROD.COVOAM_22016.ANTI_INFECTIVE_ADMINISTRATION\n",
        "'''\n",
        "cur = ctx.cursor().execute(query)\n",
        "drug_df = pd.DataFrame.from_records(iter(cur), columns=[x[0] for x in cur.description])"
      ]
    },
    {
      "cell_type": "code",
      "execution_count": 4,
      "metadata": {
        "gather": {
          "logged": 1687772005030
        },
        "jupyter": {
          "outputs_hidden": false,
          "source_hidden": false
        },
        "nteract": {
          "transient": {
            "deleting": false
          }
        }
      },
      "outputs": [],
      "source": [
        "# Import \n",
        "query = '''\n",
        "SELECT * from ICHT_SANDBOX_PROD.COVOAM_22016.ANTI_INFECTIVE_ADMINISTRATION_2023\n",
        "'''\n",
        "cur = ctx.cursor().execute(query)\n",
        "drug_df2 = pd.DataFrame.from_records(iter(cur), columns=[x[0] for x in cur.description])"
      ]
    },
    {
      "cell_type": "code",
      "execution_count": 31,
      "metadata": {
        "gather": {
          "logged": 1687773312123
        },
        "jupyter": {
          "outputs_hidden": false,
          "source_hidden": false
        },
        "nteract": {
          "transient": {
            "deleting": false
          }
        }
      },
      "outputs": [],
      "source": [
        "# Merge and drop duplicates to only get new examples\n",
        "# Merge drug_df twice so all of its examples are removed as well as overlap with drug_df2\n",
        "drug_df3 = pd.concat([drug_df, drug_df, drug_df2])\n",
        "# Need to filter columns as update column changed\n",
        "drug_df3 = drug_df3[['SUBJECT', 'PRESCRIPTION_ORDER_ID', 'THERAPEUTICAL_CLASS', 'MEDICATION_NAME_SHORT', 'MEDICATION_NAME', 'ADMINISTRATION_DATETIME', 'DOSAGE_UNIT', 'ROUTE']]\n",
        "drug_df3.drop_duplicates(keep=False, inplace=True)"
      ]
    },
    {
      "cell_type": "code",
      "execution_count": 32,
      "metadata": {
        "gather": {
          "logged": 1687773313005
        },
        "jupyter": {
          "outputs_hidden": false,
          "source_hidden": false
        },
        "nteract": {
          "transient": {
            "deleting": false
          }
        }
      },
      "outputs": [],
      "source": [
        "# Filter based on date - much easier this way and ensures prospective \n",
        "antibiotics = drug_df3.loc[(drug_df3['ADMINISTRATION_DATETIME'] >= '2022')]"
      ]
    },
    {
      "cell_type": "code",
      "execution_count": 33,
      "metadata": {
        "gather": {
          "logged": 1687773313928
        },
        "jupyter": {
          "outputs_hidden": false,
          "source_hidden": false
        },
        "nteract": {
          "transient": {
            "deleting": false
          }
        }
      },
      "outputs": [
        {
          "data": {
            "text/plain": [
              "Timestamp('2023-06-01 00:00:00')"
            ]
          },
          "execution_count": 33,
          "metadata": {},
          "output_type": "execute_result"
        },
        {
          "data": {
            "text/plain": [
              "Timestamp('2022-01-01 00:00:00')"
            ]
          },
          "execution_count": 33,
          "metadata": {},
          "output_type": "execute_result"
        }
      ],
      "source": [
        "antibiotics.ADMINISTRATION_DATETIME.max()\n",
        "antibiotics.ADMINISTRATION_DATETIME.min()"
      ]
    },
    {
      "cell_type": "code",
      "execution_count": 34,
      "metadata": {
        "gather": {
          "logged": 1687773314538
        },
        "jupyter": {
          "outputs_hidden": false,
          "source_hidden": false
        },
        "nteract": {
          "transient": {
            "deleting": false
          }
        }
      },
      "outputs": [],
      "source": [
        "# Import\n",
        "path = r'switch_data/anti_infectives_flag_final.csv'\n",
        "anti_infectives_flag_final = pd.read_csv(path)"
      ]
    },
    {
      "cell_type": "code",
      "execution_count": 35,
      "metadata": {
        "gather": {
          "logged": 1687773315847
        },
        "jupyter": {
          "outputs_hidden": false,
          "source_hidden": false
        },
        "nteract": {
          "transient": {
            "deleting": false
          }
        }
      },
      "outputs": [],
      "source": [
        "# Filter for relevant delivery methods\n",
        "antibiotics = antibiotics.groupby('ROUTE').filter(lambda x: len(x) > 3000)\n",
        "antibiotics['ROUTE'] = antibiotics['ROUTE'].replace({'oral': 'PO', 'enteral':'PO', 'oromucosal':'PO', 'oral/NG':'PO', 'NG': 'PO'})\n",
        "antibiotics['ADMINISTRATION_DATETIME'] = pd.to_datetime(antibiotics['ADMINISTRATION_DATETIME']).dt.date"
      ]
    },
    {
      "cell_type": "code",
      "execution_count": 36,
      "metadata": {
        "gather": {
          "logged": 1687773316109
        },
        "jupyter": {
          "outputs_hidden": false,
          "source_hidden": false
        },
        "nteract": {
          "transient": {
            "deleting": false
          }
        }
      },
      "outputs": [
        {
          "data": {
            "text/plain": [
              "73"
            ]
          },
          "execution_count": 36,
          "metadata": {},
          "output_type": "execute_result"
        }
      ],
      "source": [
        "# Get list of antibiotics\n",
        "antibiotic_list = anti_infectives_flag_final[anti_infectives_flag_final['switch_antibiotic_flag'] == 'Yes']['MEDICATION_NAME_SHORT'].to_list()\n",
        "len(antibiotic_list)"
      ]
    },
    {
      "cell_type": "code",
      "execution_count": 37,
      "metadata": {
        "gather": {
          "logged": 1687773327167
        },
        "jupyter": {
          "outputs_hidden": false,
          "source_hidden": false
        },
        "nteract": {
          "transient": {
            "deleting": false
          }
        }
      },
      "outputs": [],
      "source": [
        "# Filter for antibiotics\n",
        "antibiotics = antibiotics[antibiotics['MEDICATION_NAME_SHORT'].isin(antibiotic_list)]"
      ]
    },
    {
      "cell_type": "code",
      "execution_count": 38,
      "metadata": {
        "gather": {
          "logged": 1687773340272
        },
        "jupyter": {
          "outputs_hidden": false,
          "source_hidden": false
        },
        "nteract": {
          "transient": {
            "deleting": false
          }
        }
      },
      "outputs": [],
      "source": [
        "# Filter columns\n",
        "antibiotics = antibiotics[['SUBJECT', 'ADMINISTRATION_DATETIME', 'ROUTE']]"
      ]
    },
    {
      "cell_type": "code",
      "execution_count": 39,
      "metadata": {
        "gather": {
          "logged": 1687773341215
        },
        "jupyter": {
          "outputs_hidden": false,
          "source_hidden": false
        },
        "nteract": {
          "transient": {
            "deleting": false
          }
        }
      },
      "outputs": [
        {
          "data": {
            "text/plain": [
              "25523"
            ]
          },
          "execution_count": 39,
          "metadata": {},
          "output_type": "execute_result"
        }
      ],
      "source": [
        "antibiotics.SUBJECT.nunique()"
      ]
    },
    {
      "cell_type": "code",
      "execution_count": 40,
      "metadata": {
        "gather": {
          "logged": 1687773350735
        },
        "jupyter": {
          "outputs_hidden": false,
          "source_hidden": false
        },
        "nteract": {
          "transient": {
            "deleting": false
          }
        }
      },
      "outputs": [
        {
          "data": {
            "text/plain": [
              "IV    153770\n",
              "PO     92966\n",
              "Name: ROUTE, dtype: int64"
            ]
          },
          "execution_count": 40,
          "metadata": {},
          "output_type": "execute_result"
        }
      ],
      "source": [
        "antibiotics.ROUTE.value_counts()"
      ]
    },
    {
      "cell_type": "code",
      "execution_count": 41,
      "metadata": {
        "gather": {
          "logged": 1687773374571
        },
        "jupyter": {
          "outputs_hidden": false,
          "source_hidden": false
        },
        "nteract": {
          "transient": {
            "deleting": false
          }
        }
      },
      "outputs": [],
      "source": [
        "# Filter for those with IV and PO\n",
        "filtered_antibiotics = antibiotics[antibiotics['SUBJECT'].isin((antibiotics.groupby(['SUBJECT'])['ROUTE'].nunique() > 1).loc[lambda x : x == True].index.to_list())]"
      ]
    },
    {
      "cell_type": "code",
      "execution_count": 42,
      "metadata": {
        "gather": {
          "logged": 1687773379177
        },
        "jupyter": {
          "outputs_hidden": false,
          "source_hidden": false
        },
        "nteract": {
          "transient": {
            "deleting": false
          }
        }
      },
      "outputs": [
        {
          "data": {
            "text/plain": [
              "5485"
            ]
          },
          "execution_count": 42,
          "metadata": {},
          "output_type": "execute_result"
        }
      ],
      "source": [
        "filtered_antibiotics.SUBJECT.nunique()"
      ]
    },
    {
      "cell_type": "code",
      "execution_count": 48,
      "metadata": {
        "gather": {
          "logged": 1687773477666
        },
        "jupyter": {
          "outputs_hidden": false,
          "source_hidden": false
        },
        "nteract": {
          "transient": {
            "deleting": false
          }
        }
      },
      "outputs": [],
      "source": [
        "# Import \n",
        "query = '''\n",
        "SELECT * from ICHT_PROD.ICHT_COVID.EPISODES_2023\n",
        "'''\n",
        "cur = ctx.cursor().execute(query)\n",
        "episodes = pd.DataFrame.from_records(iter(cur), columns=[x[0] for x in cur.description])"
      ]
    },
    {
      "cell_type": "code",
      "execution_count": 49,
      "metadata": {
        "gather": {
          "logged": 1687773490133
        },
        "jupyter": {
          "outputs_hidden": false,
          "source_hidden": false
        },
        "nteract": {
          "transient": {
            "deleting": false
          }
        }
      },
      "outputs": [],
      "source": [
        "# Merge with episodes\n",
        "antibiotic_episodes = pd.merge(filtered_antibiotics, episodes[['SUBJECT', 'SPELL_IDENTIFIER', 'ADMISSION_DATE_TIME', 'DISCHARGE_DATE_TIME']])"
      ]
    },
    {
      "cell_type": "code",
      "execution_count": 50,
      "metadata": {
        "gather": {
          "logged": 1687773491061
        },
        "jupyter": {
          "outputs_hidden": false,
          "source_hidden": false
        },
        "nteract": {
          "transient": {
            "deleting": false
          }
        }
      },
      "outputs": [],
      "source": [
        "antibiotic_episodes['ADMISSION_DATE_TIME'] = pd.to_datetime(antibiotic_episodes['ADMISSION_DATE_TIME']).dt.date\n",
        "antibiotic_episodes['DISCHARGE_DATE_TIME'] = pd.to_datetime(antibiotic_episodes['DISCHARGE_DATE_TIME']).dt.date"
      ]
    },
    {
      "cell_type": "code",
      "execution_count": 51,
      "metadata": {
        "gather": {
          "logged": 1687773492851
        },
        "jupyter": {
          "outputs_hidden": false,
          "source_hidden": false
        },
        "nteract": {
          "transient": {
            "deleting": false
          }
        }
      },
      "outputs": [],
      "source": [
        "# Filter for where antibiotic date in spell date range \n",
        "antibiotic_episodes = antibiotic_episodes[(antibiotic_episodes['ADMINISTRATION_DATETIME'] >= antibiotic_episodes['ADMISSION_DATE_TIME']) & (antibiotic_episodes['ADMINISTRATION_DATETIME'] <= antibiotic_episodes['DISCHARGE_DATE_TIME'])]\n",
        "antibiotic_episodes.drop_duplicates(inplace=True)"
      ]
    },
    {
      "cell_type": "code",
      "execution_count": 53,
      "metadata": {
        "gather": {
          "logged": 1687773516288
        },
        "jupyter": {
          "outputs_hidden": false,
          "source_hidden": false
        },
        "nteract": {
          "transient": {
            "deleting": false
          }
        }
      },
      "outputs": [],
      "source": [
        "# Filter for those with IV and PO in same spell\n",
        "filtered_antibiotic_episodes = antibiotic_episodes[antibiotic_episodes['SPELL_IDENTIFIER'].isin((antibiotic_episodes.groupby(['SUBJECT', 'SPELL_IDENTIFIER'])['ROUTE'].nunique() > 1).loc[lambda x : x == True].index.get_level_values(1).to_list())]"
      ]
    },
    {
      "cell_type": "code",
      "execution_count": null,
      "metadata": {
        "gather": {
          "logged": 1687773519617
        },
        "jupyter": {
          "outputs_hidden": false,
          "source_hidden": false
        },
        "nteract": {
          "transient": {
            "deleting": false
          }
        }
      },
      "outputs": [],
      "source": [
        "# Order\n",
        "filtered_antibiotic_episodes.sort_values(by=['SUBJECT', 'SPELL_IDENTIFIER', 'ADMISSION_DATE_TIME', 'ADMINISTRATION_DATETIME', 'ROUTE'], inplace=True)"
      ]
    },
    {
      "cell_type": "code",
      "execution_count": null,
      "metadata": {
        "gather": {
          "logged": 1687773542753
        },
        "jupyter": {
          "outputs_hidden": false,
          "source_hidden": false
        },
        "nteract": {
          "transient": {
            "deleting": false
          }
        }
      },
      "outputs": [],
      "source": [
        "# Create po_flag\n",
        "def po_flag_fun(row):\n",
        "    if row['ROUTE'] == 'IV':\n",
        "        return 0\n",
        "    elif row['ROUTE'] == 'PO':\n",
        "        return 1\n",
        "\n",
        "filtered_antibiotic_episodes['po_flag'] =  filtered_antibiotic_episodes.apply (lambda row: po_flag_fun(row), axis=1)\n",
        "\n",
        "filtered_antibiotic_episodes.drop_duplicates(subset=['SUBJECT', 'ADMINISTRATION_DATETIME', 'SPELL_IDENTIFIER', 'ADMISSION_DATE_TIME', 'DISCHARGE_DATE_TIME'], inplace=True)"
      ]
    },
    {
      "cell_type": "code",
      "execution_count": 57,
      "metadata": {
        "gather": {
          "logged": 1687773597651
        },
        "jupyter": {
          "outputs_hidden": false,
          "source_hidden": false
        },
        "nteract": {
          "transient": {
            "deleting": false
          }
        }
      },
      "outputs": [
        {
          "data": {
            "text/html": [
              "<div>\n",
              "<style scoped>\n",
              "    .dataframe tbody tr th:only-of-type {\n",
              "        vertical-align: middle;\n",
              "    }\n",
              "\n",
              "    .dataframe tbody tr th {\n",
              "        vertical-align: top;\n",
              "    }\n",
              "\n",
              "    .dataframe thead th {\n",
              "        text-align: right;\n",
              "    }\n",
              "</style>\n",
              "<table border=\"1\" class=\"dataframe\">\n",
              "  <thead>\n",
              "    <tr style=\"text-align: right;\">\n",
              "      <th></th>\n",
              "      <th>SUBJECT</th>\n",
              "      <th>ADMINISTRATION_DATETIME</th>\n",
              "      <th>ROUTE</th>\n",
              "      <th>SPELL_IDENTIFIER</th>\n",
              "      <th>ADMISSION_DATE_TIME</th>\n",
              "      <th>DISCHARGE_DATE_TIME</th>\n",
              "      <th>po_flag</th>\n",
              "    </tr>\n",
              "  </thead>\n",
              "  <tbody>\n",
              "  </tbody>\n",
              "</table>\n",
              "</div>"
            ],
            "text/plain": [
              "Empty DataFrame\n",
              "Columns: [SUBJECT, ADMINISTRATION_DATETIME, ROUTE, SPELL_IDENTIFIER, ADMISSION_DATE_TIME, DISCHARGE_DATE_TIME, po_flag]\n",
              "Index: []"
            ]
          },
          "execution_count": 57,
          "metadata": {},
          "output_type": "execute_result"
        }
      ],
      "source": [
        "# Check nonthing weird got thorugh\n",
        "filtered_antibiotic_episodes[(filtered_antibiotic_episodes['po_flag'] == 1) & (filtered_antibiotic_episodes['ROUTE'] == 'IV')]"
      ]
    },
    {
      "cell_type": "code",
      "execution_count": 58,
      "metadata": {
        "gather": {
          "logged": 1687773612736
        },
        "jupyter": {
          "outputs_hidden": false,
          "source_hidden": false
        },
        "nteract": {
          "transient": {
            "deleting": false
          }
        }
      },
      "outputs": [],
      "source": [
        "def drop_po_first_fun(data):\n",
        "    bad_codes = []\n",
        "    for stay_id, sub_df in data.groupby('SPELL_IDENTIFIER'):\n",
        "        #print(stay_id)\n",
        "        sub_df.reset_index(inplace=True, drop=True)\n",
        "        for x in range(len(sub_df)):\n",
        "            if sub_df.iloc[x]['po_flag'] == 1:\n",
        "                #print(sub_df.iloc[x])\n",
        "                bad_codes.append(sub_df.iloc[x]['SPELL_IDENTIFIER'])\n",
        "            else:\n",
        "                break\n",
        "    new_data = data[~data['SPELL_IDENTIFIER'].isin(bad_codes)]\n",
        "    new_data.reset_index(inplace= True, drop=True)\n",
        "    return new_data"
      ]
    },
    {
      "cell_type": "code",
      "execution_count": 59,
      "metadata": {
        "gather": {
          "logged": 1687773615759
        },
        "jupyter": {
          "outputs_hidden": false,
          "source_hidden": false
        },
        "nteract": {
          "transient": {
            "deleting": false
          }
        }
      },
      "outputs": [],
      "source": [
        "# Remove those who have oral first\n",
        "filtered_antibiotic_episodes_2 = drop_po_first_fun(filtered_antibiotic_episodes)"
      ]
    },
    {
      "cell_type": "code",
      "execution_count": 60,
      "metadata": {
        "gather": {
          "logged": 1687773625809
        },
        "jupyter": {
          "outputs_hidden": false,
          "source_hidden": false
        },
        "nteract": {
          "transient": {
            "deleting": false
          }
        }
      },
      "outputs": [
        {
          "data": {
            "text/plain": [
              "4606"
            ]
          },
          "execution_count": 60,
          "metadata": {},
          "output_type": "execute_result"
        },
        {
          "data": {
            "text/plain": [
              "4226"
            ]
          },
          "execution_count": 60,
          "metadata": {},
          "output_type": "execute_result"
        }
      ],
      "source": [
        "filtered_antibiotic_episodes_2.SPELL_IDENTIFIER.nunique()\n",
        "filtered_antibiotic_episodes_2.SUBJECT.nunique()"
      ]
    },
    {
      "cell_type": "code",
      "execution_count": 61,
      "metadata": {
        "gather": {
          "logged": 1687773642604
        },
        "jupyter": {
          "outputs_hidden": false,
          "source_hidden": false
        },
        "nteract": {
          "transient": {
            "deleting": false
          }
        }
      },
      "outputs": [],
      "source": [
        "# Filter for those with IV and PO in same spell\n",
        "# Need to do this again as combined days where IV and PO may have been given together \n",
        "filtered_antibiotic_episodes_2 = filtered_antibiotic_episodes_2[filtered_antibiotic_episodes_2['SPELL_IDENTIFIER'].isin((filtered_antibiotic_episodes_2.groupby('SPELL_IDENTIFIER')['po_flag'].nunique() > 1).loc[lambda x : x == True].index.to_list())]"
      ]
    },
    {
      "cell_type": "code",
      "execution_count": 62,
      "metadata": {
        "gather": {
          "logged": 1687773647413
        },
        "jupyter": {
          "outputs_hidden": false,
          "source_hidden": false
        },
        "nteract": {
          "transient": {
            "deleting": false
          }
        }
      },
      "outputs": [
        {
          "data": {
            "text/plain": [
              "3910"
            ]
          },
          "execution_count": 62,
          "metadata": {},
          "output_type": "execute_result"
        },
        {
          "data": {
            "text/plain": [
              "3618"
            ]
          },
          "execution_count": 62,
          "metadata": {},
          "output_type": "execute_result"
        }
      ],
      "source": [
        "filtered_antibiotic_episodes_2.SPELL_IDENTIFIER.nunique()\n",
        "filtered_antibiotic_episodes_2.SUBJECT.nunique()"
      ]
    },
    {
      "cell_type": "code",
      "execution_count": 63,
      "metadata": {
        "gather": {
          "logged": 1687773664307
        },
        "jupyter": {
          "outputs_hidden": false,
          "source_hidden": false
        },
        "nteract": {
          "transient": {
            "deleting": false
          }
        }
      },
      "outputs": [],
      "source": [
        "# Change iv_treatment length to prior days treatment length \n",
        "\n",
        "# For only having one positive switch day per stay\n",
        "def iv_treatment_length_fun(data):\n",
        "    # iv_treatment_length\n",
        "    cumcount = []\n",
        "    count = 0\n",
        "    pos = -1\n",
        "    flag = 0\n",
        "\n",
        "    for x in range(len(data)):\n",
        "        pos += 1\n",
        "        if pos == len(data) - 1:\n",
        "            cumcount.append(count) # add count to last one\n",
        "            break # end\n",
        "        elif pos == 0:\n",
        "            cumcount.append(count) # add 0 to first one\n",
        "            count += 1\n",
        "        elif data.iloc[x]['SPELL_IDENTIFIER'] == data.iloc[x+1]['SPELL_IDENTIFIER']:\n",
        "            if data.iloc[x]['ROUTE'] == 'IV':\n",
        "                cumcount.append(count)\n",
        "                count += 1\n",
        "                flag = 0\n",
        "            elif flag == 1:\n",
        "                cumcount.append(999)\n",
        "                count = 0\n",
        "                flag = 1\n",
        "            elif data.iloc[x]['SPELL_IDENTIFIER'] != data.iloc[x-1]['SPELL_IDENTIFIER']:\n",
        "                cumcount.append(999)\n",
        "                count = 0\n",
        "                print('hi')\n",
        "                print(x)\n",
        "            else:\n",
        "                cumcount.append(count)\n",
        "                count = 0\n",
        "                flag = 1\n",
        "        else:\n",
        "            if data.iloc[x]['ROUTE'] == 'IV':\n",
        "                cumcount.append(count)\n",
        "                count = 0\n",
        "            elif flag == 1:\n",
        "                cumcount.append(999)\n",
        "                count = 0\n",
        "                flag = 0\n",
        "            else:\n",
        "                cumcount.append(count)\n",
        "                count = 0\n",
        "                flag = 0\n",
        "                \n",
        "    print(len(cumcount))\n",
        "\n",
        "    data['iv_treatment_length'] = cumcount\n",
        "    \n",
        "    return data"
      ]
    },
    {
      "cell_type": "code",
      "execution_count": 64,
      "metadata": {
        "gather": {
          "logged": 1687773684160
        },
        "jupyter": {
          "outputs_hidden": false,
          "source_hidden": false
        },
        "nteract": {
          "transient": {
            "deleting": false
          }
        }
      },
      "outputs": [
        {
          "name": "stdout",
          "output_type": "stream",
          "text": [
            "27219\n"
          ]
        }
      ],
      "source": [
        "filtered_antibiotic_episodes_2 = iv_treatment_length_fun(filtered_antibiotic_episodes_2)"
      ]
    },
    {
      "cell_type": "code",
      "execution_count": 65,
      "metadata": {
        "gather": {
          "logged": 1687773690543
        },
        "jupyter": {
          "outputs_hidden": false,
          "source_hidden": false
        },
        "nteract": {
          "transient": {
            "deleting": false
          }
        }
      },
      "outputs": [],
      "source": [
        "# Re order columns\n",
        "filtered_antibiotic_episodes_2 = filtered_antibiotic_episodes_2[['SUBJECT', 'SPELL_IDENTIFIER', 'ADMISSION_DATE_TIME', 'DISCHARGE_DATE_TIME', 'ADMINISTRATION_DATETIME', 'ROUTE', 'po_flag', 'iv_treatment_length']]"
      ]
    },
    {
      "cell_type": "code",
      "execution_count": 66,
      "metadata": {
        "gather": {
          "logged": 1687773791043
        },
        "jupyter": {
          "outputs_hidden": false,
          "source_hidden": false
        },
        "nteract": {
          "transient": {
            "deleting": false
          }
        }
      },
      "outputs": [
        {
          "data": {
            "text/plain": [
              "270"
            ]
          },
          "execution_count": 66,
          "metadata": {},
          "output_type": "execute_result"
        }
      ],
      "source": [
        "# Set max iv treatment length\n",
        "long_stay_list = filtered_antibiotic_episodes_2[(filtered_antibiotic_episodes_2['iv_treatment_length'] > 8) & (filtered_antibiotic_episodes_2['iv_treatment_length'] < 999)]['SPELL_IDENTIFIER'].unique().tolist()\n",
        "len(long_stay_list)\n",
        "# Remove those with iv longer than 7 days\n",
        "filtered_antibiotic_episodes_3 = filtered_antibiotic_episodes_2[~filtered_antibiotic_episodes_2['SPELL_IDENTIFIER'].isin(long_stay_list)]"
      ]
    },
    {
      "cell_type": "code",
      "execution_count": 67,
      "metadata": {
        "gather": {
          "logged": 1687773796070
        },
        "jupyter": {
          "outputs_hidden": false,
          "source_hidden": false
        },
        "nteract": {
          "transient": {
            "deleting": false
          }
        }
      },
      "outputs": [],
      "source": [
        "def iv_post_po_fun(data):\n",
        "\n",
        "    cumcount = []\n",
        "    flag = 0\n",
        "    pos = -1\n",
        "\n",
        "    for x in range(len(data)):\n",
        "        pos += 1\n",
        "        if pos == len(data) - 1:\n",
        "            continue # end\n",
        "        if data.iloc[x]['SPELL_IDENTIFIER'] == data.iloc[x+1]['SPELL_IDENTIFIER']:\n",
        "            if data.iloc[x]['ROUTE'] == 'IV':\n",
        "                if flag == 1:\n",
        "                    cumcount.append(data.iloc[x]['SPELL_IDENTIFIER'])\n",
        "                else:\n",
        "                    continue\n",
        "            elif data.iloc[x]['ROUTE'] == 'PO':\n",
        "                flag = 1\n",
        "                continue\n",
        "        else:\n",
        "            if data.iloc[x]['ROUTE'] == 'IV':\n",
        "                if flag == 1:\n",
        "                    cumcount.append(data.iloc[x]['SPELL_IDENTIFIER'])\n",
        "                    flag = 0\n",
        "                else:\n",
        "                    continue\n",
        "                    flag = 0\n",
        "            elif data.iloc[x]['ROUTE'] == 'PO':\n",
        "                flag = 0\n",
        "                continue\n",
        "\n",
        "    print(len(cumcount))\n",
        "\n",
        "    data = data[~data['SPELL_IDENTIFIER'].isin(cumcount)]\n",
        "    \n",
        "    return data"
      ]
    },
    {
      "cell_type": "code",
      "execution_count": 68,
      "metadata": {
        "gather": {
          "logged": 1687773818208
        },
        "jupyter": {
          "outputs_hidden": false,
          "source_hidden": false
        },
        "nteract": {
          "transient": {
            "deleting": false
          }
        }
      },
      "outputs": [
        {
          "name": "stdout",
          "output_type": "stream",
          "text": [
            "724\n"
          ]
        }
      ],
      "source": [
        "# Remove those who have IV after oral\n",
        "filtered_antibiotic_episodes_4 = iv_post_po_fun(filtered_antibiotic_episodes_3)"
      ]
    },
    {
      "cell_type": "code",
      "execution_count": 71,
      "metadata": {
        "gather": {
          "logged": 1687773902575
        },
        "jupyter": {
          "outputs_hidden": false,
          "source_hidden": false
        },
        "nteract": {
          "transient": {
            "deleting": false
          }
        }
      },
      "outputs": [
        {
          "data": {
            "text/plain": [
              "3217"
            ]
          },
          "execution_count": 71,
          "metadata": {},
          "output_type": "execute_result"
        },
        {
          "data": {
            "text/plain": [
              "3431"
            ]
          },
          "execution_count": 71,
          "metadata": {},
          "output_type": "execute_result"
        },
        {
          "data": {
            "text/plain": [
              "1    9672\n",
              "0    9443\n",
              "Name: po_flag, dtype: int64"
            ]
          },
          "execution_count": 71,
          "metadata": {},
          "output_type": "execute_result"
        },
        {
          "data": {
            "text/plain": [
              "999    6240\n",
              "0      3432\n",
              "1      3431\n",
              "2      2211\n",
              "3      1557\n",
              "4      1023\n",
              "5       615\n",
              "6       352\n",
              "7       185\n",
              "8        69\n",
              "Name: iv_treatment_length, dtype: int64"
            ]
          },
          "execution_count": 71,
          "metadata": {},
          "output_type": "execute_result"
        }
      ],
      "source": [
        "filtered_antibiotic_episodes_4.SUBJECT.nunique()\n",
        "filtered_antibiotic_episodes_4.SPELL_IDENTIFIER.nunique()\n",
        "filtered_antibiotic_episodes_4.po_flag.value_counts()\n",
        "filtered_antibiotic_episodes_4.iv_treatment_length.value_counts()"
      ]
    },
    {
      "cell_type": "code",
      "execution_count": 72,
      "metadata": {
        "gather": {
          "logged": 1687773914821
        },
        "jupyter": {
          "outputs_hidden": false,
          "source_hidden": false
        },
        "nteract": {
          "transient": {
            "deleting": false
          }
        }
      },
      "outputs": [],
      "source": [
        "# Save\n",
        "#filtered_antibiotic_episodes_4.to_csv('switch_data/antibiotic_po_flag_2023.csv', index=False)"
      ]
    }
  ],
  "metadata": {
    "kernel_info": {
      "name": "python310-sdkv2"
    },
    "kernelspec": {
      "display_name": "Python 3.10 - SDK v2",
      "language": "python",
      "name": "python310-sdkv2"
    },
    "language_info": {
      "codemirror_mode": {
        "name": "ipython",
        "version": 3
      },
      "file_extension": ".py",
      "mimetype": "text/x-python",
      "name": "python",
      "nbconvert_exporter": "python",
      "pygments_lexer": "ipython3",
      "version": "3.10.11"
    },
    "microsoft": {
      "host": {
        "AzureML": {
          "notebookHasBeenCompleted": true
        }
      },
      "ms_spell_check": {
        "ms_spell_check_language": "en"
      }
    },
    "nteract": {
      "version": "nteract-front-end@1.0.0"
    }
  },
  "nbformat": 4,
  "nbformat_minor": 2
}
