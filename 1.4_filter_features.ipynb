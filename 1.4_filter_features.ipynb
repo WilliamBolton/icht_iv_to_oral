{
  "cells": [
    {
      "cell_type": "code",
      "execution_count": 1,
      "metadata": {
        "gather": {
          "logged": 1705676142839
        }
      },
      "outputs": [
        {
          "name": "stderr",
          "output_type": "stream",
          "text": [
            "/anaconda/envs/azureml_py38_PT_TF/lib/python3.8/site-packages/tqdm/auto.py:21: TqdmWarning: IProgress not found. Please update jupyter and ipywidgets. See https://ipywidgets.readthedocs.io/en/stable/user_install.html\n",
            "  from .autonotebook import tqdm as notebook_tqdm\n"
          ]
        }
      ],
      "source": [
        "# Libraries\n",
        "import numpy as np\n",
        "import pandas as pd\n",
        "pd.set_option('display.max_columns', 40)\n",
        "pd.set_option('display.width', 2000)\n",
        "import math\n",
        "import time\n",
        "import random\n",
        "import random\n",
        "import shap\n",
        "import torch\n",
        "\n",
        "from IPython.core.interactiveshell import InteractiveShell\n",
        "InteractiveShell.ast_node_interactivity = \"all\""
      ]
    },
    {
      "cell_type": "code",
      "execution_count": 2,
      "metadata": {
        "gather": {
          "logged": 1705676145260
        },
        "jupyter": {
          "outputs_hidden": false,
          "source_hidden": false
        },
        "nteract": {
          "transient": {
            "deleting": false
          }
        }
      },
      "outputs": [
        {
          "data": {
            "text/plain": [
              "<torch._C.Generator at 0x7fa6d0972350>"
            ]
          },
          "execution_count": 2,
          "metadata": {},
          "output_type": "execute_result"
        },
        {
          "name": "stdout",
          "output_type": "stream",
          "text": [
            "GPU not available, CPU used\n"
          ]
        }
      ],
      "source": [
        "# Set the random seeds for deterministic results.\n",
        "SEED = 0\n",
        "random.seed(SEED)\n",
        "np.random.seed(SEED)\n",
        "torch.manual_seed(SEED)\n",
        "torch.cuda.manual_seed(SEED)\n",
        "torch.backends.cudnn.deterministic = True\n",
        "\n",
        "# Set device\n",
        "if torch.cuda.is_available():\n",
        "    device = torch.device(\"cuda\")\n",
        "    print(\"GPU is available\")\n",
        "else:\n",
        "    device = torch.device(\"cpu\")\n",
        "    print(\"GPU not available, CPU used\")"
      ]
    },
    {
      "cell_type": "code",
      "execution_count": 3,
      "metadata": {
        "gather": {
          "logged": 1705676180799
        },
        "jupyter": {
          "outputs_hidden": false,
          "source_hidden": false
        },
        "nteract": {
          "transient": {
            "deleting": false
          }
        }
      },
      "outputs": [],
      "source": [
        "# Import\n",
        "path = r'switch_data/c22_all_with_diff.csv'\n",
        "c22_df = pd.read_csv(path)"
      ]
    },
    {
      "cell_type": "code",
      "execution_count": 5,
      "metadata": {
        "gather": {
          "logged": 1705676196986
        },
        "jupyter": {
          "outputs_hidden": false,
          "source_hidden": false
        },
        "nteract": {
          "transient": {
            "deleting": false
          }
        }
      },
      "outputs": [],
      "source": [
        "# Import\n",
        "path = r'switch_data/antibiotic_po_flag.csv'\n",
        "antibiotic_df = pd.read_csv(path)"
      ]
    },
    {
      "cell_type": "code",
      "execution_count": 6,
      "metadata": {
        "gather": {
          "logged": 1705676198819
        },
        "jupyter": {
          "outputs_hidden": false,
          "source_hidden": false
        },
        "nteract": {
          "transient": {
            "deleting": false
          }
        }
      },
      "outputs": [],
      "source": [
        "# Rename\n",
        "antibiotic_df.rename(columns={'ADMINISTRATION_DATETIME': 'date'}, inplace=True)"
      ]
    },
    {
      "cell_type": "code",
      "execution_count": 8,
      "metadata": {
        "gather": {
          "logged": 1705676209836
        },
        "jupyter": {
          "outputs_hidden": false,
          "source_hidden": false
        },
        "nteract": {
          "transient": {
            "deleting": false
          }
        }
      },
      "outputs": [],
      "source": [
        "# Merge features and labels\n",
        "icare_df = pd.merge(antibiotic_df[['SPELL_IDENTIFIER', 'date', 'ROUTE', 'po_flag', 'iv_treatment_length']], c22_df)"
      ]
    },
    {
      "cell_type": "code",
      "execution_count": 9,
      "metadata": {
        "gather": {
          "logged": 1705676210652
        },
        "jupyter": {
          "outputs_hidden": false,
          "source_hidden": false
        },
        "nteract": {
          "transient": {
            "deleting": false
          }
        }
      },
      "outputs": [],
      "source": [
        "# Order\n",
        "icare_df.sort_values(by=['SPELL_IDENTIFIER', 'date'], inplace=True)"
      ]
    },
    {
      "cell_type": "code",
      "execution_count": 10,
      "metadata": {
        "gather": {
          "logged": 1705676211089
        },
        "jupyter": {
          "outputs_hidden": false,
          "source_hidden": false
        },
        "nteract": {
          "transient": {
            "deleting": false
          }
        }
      },
      "outputs": [],
      "source": [
        "# Reset index \n",
        "icare_df.reset_index(inplace=True, drop=True)"
      ]
    },
    {
      "cell_type": "code",
      "execution_count": 25,
      "metadata": {
        "gather": {
          "logged": 1678099574184
        },
        "jupyter": {
          "outputs_hidden": false,
          "source_hidden": false
        },
        "nteract": {
          "transient": {
            "deleting": false
          }
        }
      },
      "outputs": [],
      "source": [
        "# Save\n",
        "#icare_df.to_csv('switch_data/icare_switch_data.csv', index=False)"
      ]
    },
    {
      "cell_type": "code",
      "execution_count": 6,
      "metadata": {
        "gather": {
          "logged": 1678104975661
        },
        "jupyter": {
          "outputs_hidden": false,
          "source_hidden": false
        },
        "nteract": {
          "transient": {
            "deleting": false
          }
        }
      },
      "outputs": [],
      "source": [
        "# Import\n",
        "path = r'switch_data/icare_switch_data.csv'\n",
        "icare_df = pd.read_csv(path)"
      ]
    },
    {
      "cell_type": "code",
      "execution_count": 12,
      "metadata": {
        "gather": {
          "logged": 1705676258117
        },
        "jupyter": {
          "outputs_hidden": false,
          "source_hidden": false
        },
        "nteract": {
          "transient": {
            "deleting": false
          }
        }
      },
      "outputs": [],
      "source": [
        "mean_col_list = ['Diastolic Blood Pressure22',\n",
        " 'Diastolic Blood Pressure22_current_stay',\n",
        " 'Glasgow Coma Score22',\n",
        " 'Glasgow Coma Score22_current_stay',\n",
        " 'Heart Rate22',\n",
        " 'Heart Rate22_current_stay',\n",
        " 'Mean Arterial Pressure22',\n",
        " 'Mean Arterial Pressure22_current_stay',\n",
        " 'NEWS Conscious Level Score22',\n",
        " 'NEWS Conscious Level Score22_current_stay',\n",
        " 'NEWS Supplemental Oxygen Calc22',\n",
        " 'NEWS Supplemental Oxygen Calc22_current_stay',\n",
        " 'Respiratory Rate22',\n",
        " 'Respiratory Rate22_current_stay',\n",
        " 'SpO222',\n",
        " 'SpO222_current_stay',\n",
        " 'Systolic Blood Pressure22',\n",
        " 'Systolic Blood Pressure22_current_stay',\n",
        " 'Temperature22',\n",
        " 'Temperature22_current_stay',\n",
        " 'Diastolic Blood Pressure22_difference',\n",
        " 'Diastolic Blood Pressure22_current_stay_difference',\n",
        " 'Glasgow Coma Score22_difference',\n",
        " 'Glasgow Coma Score22_current_stay_difference',\n",
        " 'Heart Rate22_difference',\n",
        " 'Heart Rate22_current_stay_difference',\n",
        " 'Mean Arterial Pressure22_difference',\n",
        " 'Mean Arterial Pressure22_current_stay_difference',\n",
        " 'NEWS Conscious Level Score22_difference',\n",
        " 'NEWS Conscious Level Score22_current_stay_difference',\n",
        " 'NEWS Supplemental Oxygen Calc22_difference',\n",
        " 'NEWS Supplemental Oxygen Calc22_current_stay_difference',\n",
        " 'Respiratory Rate22_difference',\n",
        " 'Respiratory Rate22_current_stay_difference',\n",
        " 'SpO222_difference',\n",
        " 'SpO222_current_stay_difference',\n",
        " 'Systolic Blood Pressure22_difference',\n",
        " 'Systolic Blood Pressure22_current_stay_difference',\n",
        " 'Temperature22_difference',\n",
        " 'Temperature22_current_stay_difference']\n",
        "\n",
        "std_col_list = ['Diastolic Blood Pressure23',\n",
        " 'Diastolic Blood Pressure23_current_stay',\n",
        " 'Glasgow Coma Score23',\n",
        " 'Glasgow Coma Score23_current_stay',\n",
        " 'Heart Rate23',\n",
        " 'Heart Rate23_current_stay',\n",
        " 'Mean Arterial Pressure23',\n",
        " 'Mean Arterial Pressure23_current_stay',\n",
        " 'NEWS Conscious Level Score23',\n",
        " 'NEWS Conscious Level Score23_current_stay',\n",
        " 'NEWS Supplemental Oxygen Calc23',\n",
        " 'NEWS Supplemental Oxygen Calc23_current_stay',\n",
        " 'Respiratory Rate23',\n",
        " 'Respiratory Rate23_current_stay',\n",
        " 'SpO223',\n",
        " 'SpO223_current_stay',\n",
        " 'Systolic Blood Pressure23',\n",
        " 'Systolic Blood Pressure23_current_stay',\n",
        " 'Temperature23',\n",
        " 'Temperature23_current_stay',\n",
        " 'Diastolic Blood Pressure23_difference',\n",
        " 'Diastolic Blood Pressure23_current_stay_difference',\n",
        " 'Glasgow Coma Score23_difference',\n",
        " 'Glasgow Coma Score23_current_stay_difference',\n",
        " 'Heart Rate23_difference',\n",
        " 'Heart Rate23_current_stay_difference',\n",
        " 'Mean Arterial Pressure23_difference',\n",
        " 'Mean Arterial Pressure23_current_stay_difference',\n",
        " 'NEWS Conscious Level Score23_difference',\n",
        " 'NEWS Conscious Level Score23_current_stay_difference',\n",
        " 'NEWS Supplemental Oxygen Calc23_difference',\n",
        " 'NEWS Supplemental Oxygen Calc23_current_stay_difference',\n",
        " 'Respiratory Rate23_difference',\n",
        " 'Respiratory Rate23_current_stay_difference',\n",
        " 'SpO223_difference',\n",
        " 'SpO223_current_stay_difference',\n",
        " 'Systolic Blood Pressure23_difference',\n",
        " 'Systolic Blood Pressure23_current_stay_difference',\n",
        " 'Temperature23_difference',\n",
        " 'Temperature23_current_stay_difference']"
      ]
    },
    {
      "cell_type": "code",
      "execution_count": 13,
      "metadata": {
        "gather": {
          "logged": 1705676267694
        },
        "jupyter": {
          "outputs_hidden": false,
          "source_hidden": false
        },
        "nteract": {
          "transient": {
            "deleting": false
          }
        }
      },
      "outputs": [],
      "source": [
        "### TRIMMING FEATURES ###\n",
        "# Remove columns based on proportion of values that are the same\n",
        "# Set a threshold for the proportion of unique values\n",
        "threshold = 0.1\n",
        "# Filter columns based on the threshold\n",
        "columns_to_drop = icare_df.columns[icare_df.apply(lambda col: col.nunique() / len(col) <= threshold)].to_list()\n",
        "columns_to_drop = [i for i in columns_to_drop if i not in mean_col_list]\n",
        "columns_to_drop = [i for i in columns_to_drop if i not in std_col_list]\n",
        "columns_to_drop = [i for i in columns_to_drop if i not in ['SPELL_IDENTIFIER', 'date', 'ROUTE', 'po_flag', 'iv_treatment_length', '24_hour_flag', '48_hour_flag']]\n",
        "\n",
        "#filtered_columns = list(set(filtered_columns + mean_col_list + std_col_list))\n",
        "#filtered_columns = ['SPELL_IDENTIFIER', 'date', 'ROUTE', 'po_flag', 'iv_treatment_length', '24_hour_flag', '48_hour_flag'] + filtered_columns\n",
        "\n",
        "# Drop columns that do not meet the criteria\n",
        "icare_df_filtered = icare_df.drop(columns=columns_to_drop)"
      ]
    },
    {
      "cell_type": "code",
      "execution_count": 34,
      "metadata": {
        "gather": {
          "logged": 1705679597139
        },
        "jupyter": {
          "outputs_hidden": false,
          "source_hidden": false
        },
        "nteract": {
          "transient": {
            "deleting": false
          }
        }
      },
      "outputs": [
        {
          "data": {
            "text/plain": [
              "['Diastolic Blood Pressure2',\n",
              " 'Diastolic Blood Pressure3',\n",
              " 'Diastolic Blood Pressure4',\n",
              " 'Diastolic Blood Pressure5',\n",
              " 'Diastolic Blood Pressure6',\n",
              " 'Diastolic Blood Pressure7',\n",
              " 'Diastolic Blood Pressure8',\n",
              " 'Diastolic Blood Pressure9',\n",
              " 'Diastolic Blood Pressure11',\n",
              " 'Diastolic Blood Pressure12',\n",
              " 'Diastolic Blood Pressure13',\n",
              " 'Diastolic Blood Pressure14',\n",
              " 'Diastolic Blood Pressure15',\n",
              " 'Diastolic Blood Pressure16',\n",
              " 'Diastolic Blood Pressure18',\n",
              " 'Diastolic Blood Pressure19',\n",
              " 'Diastolic Blood Pressure20',\n",
              " 'Diastolic Blood Pressure21',\n",
              " 'Diastolic Blood Pressure2_current_stay',\n",
              " 'Diastolic Blood Pressure3_current_stay',\n",
              " 'Diastolic Blood Pressure4_current_stay',\n",
              " 'Diastolic Blood Pressure5_current_stay',\n",
              " 'Diastolic Blood Pressure6_current_stay',\n",
              " 'Diastolic Blood Pressure8_current_stay',\n",
              " 'Diastolic Blood Pressure12_current_stay',\n",
              " 'Diastolic Blood Pressure13_current_stay',\n",
              " 'Diastolic Blood Pressure14_current_stay',\n",
              " 'Diastolic Blood Pressure16_current_stay',\n",
              " 'Diastolic Blood Pressure18_current_stay',\n",
              " 'Diastolic Blood Pressure19_current_stay',\n",
              " 'Diastolic Blood Pressure20_current_stay',\n",
              " 'Diastolic Blood Pressure21_current_stay',\n",
              " 'Glasgow Coma Score0',\n",
              " 'Glasgow Coma Score1',\n",
              " 'Glasgow Coma Score2',\n",
              " 'Glasgow Coma Score3',\n",
              " 'Glasgow Coma Score4',\n",
              " 'Glasgow Coma Score5',\n",
              " 'Glasgow Coma Score6',\n",
              " 'Glasgow Coma Score7',\n",
              " 'Glasgow Coma Score8',\n",
              " 'Glasgow Coma Score9',\n",
              " 'Glasgow Coma Score10',\n",
              " 'Glasgow Coma Score11',\n",
              " 'Glasgow Coma Score12',\n",
              " 'Glasgow Coma Score13',\n",
              " 'Glasgow Coma Score14',\n",
              " 'Glasgow Coma Score15',\n",
              " 'Glasgow Coma Score16',\n",
              " 'Glasgow Coma Score17',\n",
              " 'Glasgow Coma Score18',\n",
              " 'Glasgow Coma Score19',\n",
              " 'Glasgow Coma Score20',\n",
              " 'Glasgow Coma Score21',\n",
              " 'Glasgow Coma Score0_current_stay',\n",
              " 'Glasgow Coma Score1_current_stay',\n",
              " 'Glasgow Coma Score2_current_stay',\n",
              " 'Glasgow Coma Score3_current_stay',\n",
              " 'Glasgow Coma Score4_current_stay',\n",
              " 'Glasgow Coma Score5_current_stay',\n",
              " 'Glasgow Coma Score6_current_stay',\n",
              " 'Glasgow Coma Score7_current_stay',\n",
              " 'Glasgow Coma Score8_current_stay',\n",
              " 'Glasgow Coma Score10_current_stay',\n",
              " 'Glasgow Coma Score11_current_stay',\n",
              " 'Glasgow Coma Score12_current_stay',\n",
              " 'Glasgow Coma Score13_current_stay',\n",
              " 'Glasgow Coma Score14_current_stay',\n",
              " 'Glasgow Coma Score15_current_stay',\n",
              " 'Glasgow Coma Score16_current_stay',\n",
              " 'Glasgow Coma Score17_current_stay',\n",
              " 'Glasgow Coma Score18_current_stay',\n",
              " 'Glasgow Coma Score19_current_stay',\n",
              " 'Glasgow Coma Score20_current_stay',\n",
              " 'Glasgow Coma Score21_current_stay',\n",
              " 'Heart Rate2',\n",
              " 'Heart Rate3',\n",
              " 'Heart Rate4',\n",
              " 'Heart Rate5',\n",
              " 'Heart Rate6',\n",
              " 'Heart Rate7',\n",
              " 'Heart Rate8',\n",
              " 'Heart Rate9',\n",
              " 'Heart Rate11',\n",
              " 'Heart Rate12',\n",
              " 'Heart Rate13',\n",
              " 'Heart Rate14',\n",
              " 'Heart Rate15',\n",
              " 'Heart Rate16',\n",
              " 'Heart Rate18',\n",
              " 'Heart Rate19',\n",
              " 'Heart Rate20',\n",
              " 'Heart Rate21',\n",
              " 'Heart Rate2_current_stay',\n",
              " 'Heart Rate3_current_stay',\n",
              " 'Heart Rate4_current_stay',\n",
              " 'Heart Rate5_current_stay',\n",
              " 'Heart Rate6_current_stay',\n",
              " 'Heart Rate8_current_stay',\n",
              " 'Heart Rate12_current_stay',\n",
              " 'Heart Rate13_current_stay',\n",
              " 'Heart Rate14_current_stay',\n",
              " 'Heart Rate16_current_stay',\n",
              " 'Heart Rate18_current_stay',\n",
              " 'Heart Rate19_current_stay',\n",
              " 'Heart Rate20_current_stay',\n",
              " 'Heart Rate21_current_stay',\n",
              " 'Mean Arterial Pressure2',\n",
              " 'Mean Arterial Pressure3',\n",
              " 'Mean Arterial Pressure4',\n",
              " 'Mean Arterial Pressure5',\n",
              " 'Mean Arterial Pressure6',\n",
              " 'Mean Arterial Pressure7',\n",
              " 'Mean Arterial Pressure8',\n",
              " 'Mean Arterial Pressure9',\n",
              " 'Mean Arterial Pressure11',\n",
              " 'Mean Arterial Pressure12',\n",
              " 'Mean Arterial Pressure13',\n",
              " 'Mean Arterial Pressure14',\n",
              " 'Mean Arterial Pressure15',\n",
              " 'Mean Arterial Pressure16',\n",
              " 'Mean Arterial Pressure18',\n",
              " 'Mean Arterial Pressure19',\n",
              " 'Mean Arterial Pressure20',\n",
              " 'Mean Arterial Pressure21',\n",
              " 'Mean Arterial Pressure2_current_stay',\n",
              " 'Mean Arterial Pressure3_current_stay',\n",
              " 'Mean Arterial Pressure4_current_stay',\n",
              " 'Mean Arterial Pressure5_current_stay',\n",
              " 'Mean Arterial Pressure6_current_stay',\n",
              " 'Mean Arterial Pressure8_current_stay',\n",
              " 'Mean Arterial Pressure12_current_stay',\n",
              " 'Mean Arterial Pressure13_current_stay',\n",
              " 'Mean Arterial Pressure14_current_stay',\n",
              " 'Mean Arterial Pressure16_current_stay',\n",
              " 'Mean Arterial Pressure18_current_stay',\n",
              " 'Mean Arterial Pressure19_current_stay',\n",
              " 'Mean Arterial Pressure20_current_stay',\n",
              " 'Mean Arterial Pressure21_current_stay',\n",
              " 'NEWS Conscious Level Score0',\n",
              " 'NEWS Conscious Level Score1',\n",
              " 'NEWS Conscious Level Score2',\n",
              " 'NEWS Conscious Level Score3',\n",
              " 'NEWS Conscious Level Score4',\n",
              " 'NEWS Conscious Level Score5',\n",
              " 'NEWS Conscious Level Score6',\n",
              " 'NEWS Conscious Level Score7',\n",
              " 'NEWS Conscious Level Score8',\n",
              " 'NEWS Conscious Level Score9',\n",
              " 'NEWS Conscious Level Score10',\n",
              " 'NEWS Conscious Level Score11',\n",
              " 'NEWS Conscious Level Score12',\n",
              " 'NEWS Conscious Level Score13',\n",
              " 'NEWS Conscious Level Score14',\n",
              " 'NEWS Conscious Level Score15',\n",
              " 'NEWS Conscious Level Score16',\n",
              " 'NEWS Conscious Level Score17',\n",
              " 'NEWS Conscious Level Score18',\n",
              " 'NEWS Conscious Level Score19',\n",
              " 'NEWS Conscious Level Score20',\n",
              " 'NEWS Conscious Level Score21',\n",
              " 'NEWS Conscious Level Score0_current_stay',\n",
              " 'NEWS Conscious Level Score1_current_stay',\n",
              " 'NEWS Conscious Level Score2_current_stay',\n",
              " 'NEWS Conscious Level Score3_current_stay',\n",
              " 'NEWS Conscious Level Score4_current_stay',\n",
              " 'NEWS Conscious Level Score5_current_stay',\n",
              " 'NEWS Conscious Level Score6_current_stay',\n",
              " 'NEWS Conscious Level Score7_current_stay',\n",
              " 'NEWS Conscious Level Score8_current_stay',\n",
              " 'NEWS Conscious Level Score9_current_stay',\n",
              " 'NEWS Conscious Level Score10_current_stay',\n",
              " 'NEWS Conscious Level Score11_current_stay',\n",
              " 'NEWS Conscious Level Score12_current_stay',\n",
              " 'NEWS Conscious Level Score13_current_stay',\n",
              " 'NEWS Conscious Level Score14_current_stay',\n",
              " 'NEWS Conscious Level Score15_current_stay',\n",
              " 'NEWS Conscious Level Score16_current_stay',\n",
              " 'NEWS Conscious Level Score17_current_stay',\n",
              " 'NEWS Conscious Level Score18_current_stay',\n",
              " 'NEWS Conscious Level Score19_current_stay',\n",
              " 'NEWS Conscious Level Score20_current_stay',\n",
              " 'NEWS Conscious Level Score21_current_stay',\n",
              " 'NEWS Supplemental Oxygen Calc0',\n",
              " 'NEWS Supplemental Oxygen Calc1',\n",
              " 'NEWS Supplemental Oxygen Calc2',\n",
              " 'NEWS Supplemental Oxygen Calc3',\n",
              " 'NEWS Supplemental Oxygen Calc4',\n",
              " 'NEWS Supplemental Oxygen Calc5',\n",
              " 'NEWS Supplemental Oxygen Calc6',\n",
              " 'NEWS Supplemental Oxygen Calc7',\n",
              " 'NEWS Supplemental Oxygen Calc8',\n",
              " 'NEWS Supplemental Oxygen Calc9',\n",
              " 'NEWS Supplemental Oxygen Calc10',\n",
              " 'NEWS Supplemental Oxygen Calc11',\n",
              " 'NEWS Supplemental Oxygen Calc12',\n",
              " 'NEWS Supplemental Oxygen Calc13',\n",
              " 'NEWS Supplemental Oxygen Calc14',\n",
              " 'NEWS Supplemental Oxygen Calc15',\n",
              " 'NEWS Supplemental Oxygen Calc16',\n",
              " 'NEWS Supplemental Oxygen Calc17',\n",
              " 'NEWS Supplemental Oxygen Calc18',\n",
              " 'NEWS Supplemental Oxygen Calc19',\n",
              " 'NEWS Supplemental Oxygen Calc20',\n",
              " 'NEWS Supplemental Oxygen Calc21',\n",
              " 'NEWS Supplemental Oxygen Calc0_current_stay',\n",
              " 'NEWS Supplemental Oxygen Calc1_current_stay',\n",
              " 'NEWS Supplemental Oxygen Calc2_current_stay',\n",
              " 'NEWS Supplemental Oxygen Calc3_current_stay',\n",
              " 'NEWS Supplemental Oxygen Calc4_current_stay',\n",
              " 'NEWS Supplemental Oxygen Calc5_current_stay',\n",
              " 'NEWS Supplemental Oxygen Calc6_current_stay',\n",
              " 'NEWS Supplemental Oxygen Calc7_current_stay',\n",
              " 'NEWS Supplemental Oxygen Calc8_current_stay',\n",
              " 'NEWS Supplemental Oxygen Calc9_current_stay',\n",
              " 'NEWS Supplemental Oxygen Calc10_current_stay',\n",
              " 'NEWS Supplemental Oxygen Calc11_current_stay',\n",
              " 'NEWS Supplemental Oxygen Calc12_current_stay',\n",
              " 'NEWS Supplemental Oxygen Calc13_current_stay',\n",
              " 'NEWS Supplemental Oxygen Calc14_current_stay',\n",
              " 'NEWS Supplemental Oxygen Calc15_current_stay',\n",
              " 'NEWS Supplemental Oxygen Calc16_current_stay',\n",
              " 'NEWS Supplemental Oxygen Calc17_current_stay',\n",
              " 'NEWS Supplemental Oxygen Calc18_current_stay',\n",
              " 'NEWS Supplemental Oxygen Calc19_current_stay',\n",
              " 'NEWS Supplemental Oxygen Calc20_current_stay',\n",
              " 'NEWS Supplemental Oxygen Calc21_current_stay',\n",
              " 'Respiratory Rate0',\n",
              " 'Respiratory Rate2',\n",
              " 'Respiratory Rate3',\n",
              " 'Respiratory Rate4',\n",
              " 'Respiratory Rate5',\n",
              " 'Respiratory Rate6',\n",
              " 'Respiratory Rate7',\n",
              " 'Respiratory Rate8',\n",
              " 'Respiratory Rate9',\n",
              " 'Respiratory Rate11',\n",
              " 'Respiratory Rate12',\n",
              " 'Respiratory Rate13',\n",
              " 'Respiratory Rate14',\n",
              " 'Respiratory Rate15',\n",
              " 'Respiratory Rate16',\n",
              " 'Respiratory Rate18',\n",
              " 'Respiratory Rate19',\n",
              " 'Respiratory Rate20',\n",
              " 'Respiratory Rate21',\n",
              " 'Respiratory Rate0_current_stay',\n",
              " 'Respiratory Rate2_current_stay',\n",
              " 'Respiratory Rate3_current_stay',\n",
              " 'Respiratory Rate4_current_stay',\n",
              " 'Respiratory Rate5_current_stay',\n",
              " 'Respiratory Rate6_current_stay',\n",
              " 'Respiratory Rate8_current_stay',\n",
              " 'Respiratory Rate12_current_stay',\n",
              " 'Respiratory Rate13_current_stay',\n",
              " 'Respiratory Rate14_current_stay',\n",
              " 'Respiratory Rate16_current_stay',\n",
              " 'Respiratory Rate18_current_stay',\n",
              " 'Respiratory Rate19_current_stay',\n",
              " 'Respiratory Rate20_current_stay',\n",
              " 'Respiratory Rate21_current_stay',\n",
              " 'SpO20',\n",
              " 'SpO22',\n",
              " 'SpO23',\n",
              " 'SpO24',\n",
              " 'SpO25',\n",
              " 'SpO26',\n",
              " 'SpO27',\n",
              " 'SpO28',\n",
              " 'SpO29',\n",
              " 'SpO211',\n",
              " 'SpO212',\n",
              " 'SpO213',\n",
              " 'SpO214',\n",
              " 'SpO215',\n",
              " 'SpO216',\n",
              " 'SpO218',\n",
              " 'SpO219',\n",
              " 'SpO220',\n",
              " 'SpO221',\n",
              " 'SpO20_current_stay',\n",
              " 'SpO22_current_stay',\n",
              " 'SpO23_current_stay',\n",
              " 'SpO24_current_stay',\n",
              " 'SpO25_current_stay',\n",
              " 'SpO26_current_stay',\n",
              " 'SpO28_current_stay',\n",
              " 'SpO212_current_stay',\n",
              " 'SpO213_current_stay',\n",
              " 'SpO214_current_stay',\n",
              " 'SpO216_current_stay',\n",
              " 'SpO218_current_stay',\n",
              " 'SpO219_current_stay',\n",
              " 'SpO220_current_stay',\n",
              " 'SpO221_current_stay',\n",
              " 'Systolic Blood Pressure2',\n",
              " 'Systolic Blood Pressure3',\n",
              " 'Systolic Blood Pressure4',\n",
              " 'Systolic Blood Pressure5',\n",
              " 'Systolic Blood Pressure6',\n",
              " 'Systolic Blood Pressure7',\n",
              " 'Systolic Blood Pressure8',\n",
              " 'Systolic Blood Pressure9',\n",
              " 'Systolic Blood Pressure11',\n",
              " 'Systolic Blood Pressure12',\n",
              " 'Systolic Blood Pressure13',\n",
              " 'Systolic Blood Pressure14',\n",
              " 'Systolic Blood Pressure15',\n",
              " 'Systolic Blood Pressure16',\n",
              " 'Systolic Blood Pressure18',\n",
              " 'Systolic Blood Pressure19',\n",
              " 'Systolic Blood Pressure20',\n",
              " 'Systolic Blood Pressure21',\n",
              " 'Systolic Blood Pressure2_current_stay',\n",
              " 'Systolic Blood Pressure3_current_stay',\n",
              " 'Systolic Blood Pressure4_current_stay',\n",
              " 'Systolic Blood Pressure5_current_stay',\n",
              " 'Systolic Blood Pressure6_current_stay',\n",
              " 'Systolic Blood Pressure8_current_stay',\n",
              " 'Systolic Blood Pressure12_current_stay',\n",
              " 'Systolic Blood Pressure13_current_stay',\n",
              " 'Systolic Blood Pressure14_current_stay',\n",
              " 'Systolic Blood Pressure16_current_stay',\n",
              " 'Systolic Blood Pressure18_current_stay',\n",
              " 'Systolic Blood Pressure19_current_stay',\n",
              " 'Systolic Blood Pressure20_current_stay',\n",
              " 'Systolic Blood Pressure21_current_stay',\n",
              " 'Temperature0',\n",
              " 'Temperature2',\n",
              " 'Temperature3',\n",
              " 'Temperature4',\n",
              " 'Temperature5',\n",
              " 'Temperature6',\n",
              " 'Temperature7',\n",
              " 'Temperature8',\n",
              " 'Temperature9',\n",
              " 'Temperature11',\n",
              " 'Temperature12',\n",
              " 'Temperature13',\n",
              " 'Temperature14',\n",
              " 'Temperature15',\n",
              " 'Temperature16',\n",
              " 'Temperature18',\n",
              " 'Temperature19',\n",
              " 'Temperature20',\n",
              " 'Temperature21',\n",
              " 'Temperature0_current_stay',\n",
              " 'Temperature2_current_stay',\n",
              " 'Temperature3_current_stay',\n",
              " 'Temperature4_current_stay',\n",
              " 'Temperature5_current_stay',\n",
              " 'Temperature6_current_stay',\n",
              " 'Temperature8_current_stay',\n",
              " 'Temperature12_current_stay',\n",
              " 'Temperature13_current_stay',\n",
              " 'Temperature14_current_stay',\n",
              " 'Temperature16_current_stay',\n",
              " 'Temperature18_current_stay',\n",
              " 'Temperature19_current_stay',\n",
              " 'Temperature20_current_stay',\n",
              " 'Temperature21_current_stay',\n",
              " 'Diastolic Blood Pressure2_difference',\n",
              " 'Diastolic Blood Pressure3_difference',\n",
              " 'Diastolic Blood Pressure4_difference',\n",
              " 'Diastolic Blood Pressure5_difference',\n",
              " 'Diastolic Blood Pressure6_difference',\n",
              " 'Diastolic Blood Pressure7_difference',\n",
              " 'Diastolic Blood Pressure8_difference',\n",
              " 'Diastolic Blood Pressure9_difference',\n",
              " 'Diastolic Blood Pressure11_difference',\n",
              " 'Diastolic Blood Pressure12_difference',\n",
              " 'Diastolic Blood Pressure13_difference',\n",
              " 'Diastolic Blood Pressure14_difference',\n",
              " 'Diastolic Blood Pressure15_difference',\n",
              " 'Diastolic Blood Pressure16_difference',\n",
              " 'Diastolic Blood Pressure18_difference',\n",
              " 'Diastolic Blood Pressure19_difference',\n",
              " 'Diastolic Blood Pressure20_difference',\n",
              " 'Diastolic Blood Pressure21_difference',\n",
              " 'Diastolic Blood Pressure2_current_stay_difference',\n",
              " 'Diastolic Blood Pressure3_current_stay_difference',\n",
              " 'Diastolic Blood Pressure4_current_stay_difference',\n",
              " 'Diastolic Blood Pressure5_current_stay_difference',\n",
              " 'Diastolic Blood Pressure6_current_stay_difference',\n",
              " 'Diastolic Blood Pressure8_current_stay_difference',\n",
              " 'Diastolic Blood Pressure12_current_stay_difference',\n",
              " 'Diastolic Blood Pressure13_current_stay_difference',\n",
              " 'Diastolic Blood Pressure14_current_stay_difference',\n",
              " 'Diastolic Blood Pressure16_current_stay_difference',\n",
              " 'Diastolic Blood Pressure18_current_stay_difference',\n",
              " 'Diastolic Blood Pressure19_current_stay_difference',\n",
              " 'Diastolic Blood Pressure21_current_stay_difference',\n",
              " 'Glasgow Coma Score0_difference',\n",
              " 'Glasgow Coma Score1_difference',\n",
              " 'Glasgow Coma Score2_difference',\n",
              " 'Glasgow Coma Score3_difference',\n",
              " 'Glasgow Coma Score4_difference',\n",
              " 'Glasgow Coma Score5_difference',\n",
              " 'Glasgow Coma Score6_difference',\n",
              " 'Glasgow Coma Score7_difference',\n",
              " 'Glasgow Coma Score8_difference',\n",
              " 'Glasgow Coma Score9_difference',\n",
              " 'Glasgow Coma Score10_difference',\n",
              " 'Glasgow Coma Score11_difference',\n",
              " 'Glasgow Coma Score12_difference',\n",
              " 'Glasgow Coma Score13_difference',\n",
              " 'Glasgow Coma Score14_difference',\n",
              " 'Glasgow Coma Score15_difference',\n",
              " 'Glasgow Coma Score16_difference',\n",
              " 'Glasgow Coma Score17_difference',\n",
              " 'Glasgow Coma Score18_difference',\n",
              " 'Glasgow Coma Score19_difference',\n",
              " 'Glasgow Coma Score20_difference',\n",
              " 'Glasgow Coma Score21_difference',\n",
              " 'Glasgow Coma Score0_current_stay_difference',\n",
              " 'Glasgow Coma Score1_current_stay_difference',\n",
              " 'Glasgow Coma Score2_current_stay_difference',\n",
              " 'Glasgow Coma Score3_current_stay_difference',\n",
              " 'Glasgow Coma Score4_current_stay_difference',\n",
              " 'Glasgow Coma Score5_current_stay_difference',\n",
              " 'Glasgow Coma Score6_current_stay_difference',\n",
              " 'Glasgow Coma Score7_current_stay_difference',\n",
              " 'Glasgow Coma Score8_current_stay_difference',\n",
              " 'Glasgow Coma Score10_current_stay_difference',\n",
              " 'Glasgow Coma Score11_current_stay_difference',\n",
              " 'Glasgow Coma Score12_current_stay_difference',\n",
              " 'Glasgow Coma Score13_current_stay_difference',\n",
              " 'Glasgow Coma Score14_current_stay_difference',\n",
              " 'Glasgow Coma Score15_current_stay_difference',\n",
              " 'Glasgow Coma Score16_current_stay_difference',\n",
              " 'Glasgow Coma Score17_current_stay_difference',\n",
              " 'Glasgow Coma Score18_current_stay_difference',\n",
              " 'Glasgow Coma Score19_current_stay_difference',\n",
              " 'Glasgow Coma Score20_current_stay_difference',\n",
              " 'Glasgow Coma Score21_current_stay_difference',\n",
              " 'Heart Rate2_difference',\n",
              " 'Heart Rate3_difference',\n",
              " 'Heart Rate4_difference',\n",
              " 'Heart Rate5_difference',\n",
              " 'Heart Rate6_difference',\n",
              " 'Heart Rate7_difference',\n",
              " 'Heart Rate8_difference',\n",
              " 'Heart Rate9_difference',\n",
              " 'Heart Rate11_difference',\n",
              " 'Heart Rate12_difference',\n",
              " 'Heart Rate13_difference',\n",
              " 'Heart Rate14_difference',\n",
              " 'Heart Rate15_difference',\n",
              " 'Heart Rate16_difference',\n",
              " 'Heart Rate18_difference',\n",
              " 'Heart Rate19_difference',\n",
              " 'Heart Rate20_difference',\n",
              " 'Heart Rate21_difference',\n",
              " 'Heart Rate2_current_stay_difference',\n",
              " 'Heart Rate3_current_stay_difference',\n",
              " 'Heart Rate4_current_stay_difference',\n",
              " 'Heart Rate5_current_stay_difference',\n",
              " 'Heart Rate6_current_stay_difference',\n",
              " 'Heart Rate8_current_stay_difference',\n",
              " 'Heart Rate12_current_stay_difference',\n",
              " 'Heart Rate13_current_stay_difference',\n",
              " 'Heart Rate14_current_stay_difference',\n",
              " 'Heart Rate16_current_stay_difference',\n",
              " 'Heart Rate18_current_stay_difference',\n",
              " 'Heart Rate19_current_stay_difference',\n",
              " 'Heart Rate21_current_stay_difference',\n",
              " 'Mean Arterial Pressure2_difference',\n",
              " 'Mean Arterial Pressure3_difference',\n",
              " 'Mean Arterial Pressure4_difference',\n",
              " 'Mean Arterial Pressure5_difference',\n",
              " 'Mean Arterial Pressure6_difference',\n",
              " 'Mean Arterial Pressure7_difference',\n",
              " 'Mean Arterial Pressure8_difference',\n",
              " 'Mean Arterial Pressure9_difference',\n",
              " 'Mean Arterial Pressure11_difference',\n",
              " 'Mean Arterial Pressure12_difference',\n",
              " 'Mean Arterial Pressure13_difference',\n",
              " 'Mean Arterial Pressure14_difference',\n",
              " 'Mean Arterial Pressure15_difference',\n",
              " 'Mean Arterial Pressure16_difference',\n",
              " 'Mean Arterial Pressure18_difference',\n",
              " 'Mean Arterial Pressure19_difference',\n",
              " 'Mean Arterial Pressure20_difference',\n",
              " 'Mean Arterial Pressure21_difference',\n",
              " 'Mean Arterial Pressure2_current_stay_difference',\n",
              " 'Mean Arterial Pressure3_current_stay_difference',\n",
              " 'Mean Arterial Pressure4_current_stay_difference',\n",
              " 'Mean Arterial Pressure5_current_stay_difference',\n",
              " 'Mean Arterial Pressure6_current_stay_difference',\n",
              " 'Mean Arterial Pressure8_current_stay_difference',\n",
              " 'Mean Arterial Pressure12_current_stay_difference',\n",
              " 'Mean Arterial Pressure13_current_stay_difference',\n",
              " 'Mean Arterial Pressure14_current_stay_difference',\n",
              " 'Mean Arterial Pressure16_current_stay_difference',\n",
              " 'Mean Arterial Pressure18_current_stay_difference',\n",
              " 'Mean Arterial Pressure19_current_stay_difference',\n",
              " 'Mean Arterial Pressure21_current_stay_difference',\n",
              " 'NEWS Conscious Level Score0_difference',\n",
              " 'NEWS Conscious Level Score1_difference',\n",
              " 'NEWS Conscious Level Score2_difference',\n",
              " 'NEWS Conscious Level Score3_difference',\n",
              " 'NEWS Conscious Level Score4_difference',\n",
              " 'NEWS Conscious Level Score5_difference',\n",
              " 'NEWS Conscious Level Score6_difference',\n",
              " 'NEWS Conscious Level Score7_difference',\n",
              " 'NEWS Conscious Level Score8_difference',\n",
              " 'NEWS Conscious Level Score9_difference',\n",
              " 'NEWS Conscious Level Score10_difference',\n",
              " 'NEWS Conscious Level Score11_difference',\n",
              " 'NEWS Conscious Level Score12_difference',\n",
              " 'NEWS Conscious Level Score13_difference',\n",
              " 'NEWS Conscious Level Score14_difference',\n",
              " 'NEWS Conscious Level Score15_difference',\n",
              " 'NEWS Conscious Level Score16_difference',\n",
              " 'NEWS Conscious Level Score17_difference',\n",
              " 'NEWS Conscious Level Score18_difference',\n",
              " 'NEWS Conscious Level Score19_difference',\n",
              " 'NEWS Conscious Level Score20_difference',\n",
              " 'NEWS Conscious Level Score21_difference',\n",
              " 'NEWS Conscious Level Score0_current_stay_difference',\n",
              " 'NEWS Conscious Level Score1_current_stay_difference',\n",
              " 'NEWS Conscious Level Score2_current_stay_difference',\n",
              " 'NEWS Conscious Level Score3_current_stay_difference',\n",
              " 'NEWS Conscious Level Score4_current_stay_difference',\n",
              " 'NEWS Conscious Level Score5_current_stay_difference',\n",
              " 'NEWS Conscious Level Score6_current_stay_difference',\n",
              " 'NEWS Conscious Level Score7_current_stay_difference',\n",
              " 'NEWS Conscious Level Score8_current_stay_difference',\n",
              " 'NEWS Conscious Level Score9_current_stay_difference',\n",
              " 'NEWS Conscious Level Score10_current_stay_difference',\n",
              " 'NEWS Conscious Level Score11_current_stay_difference',\n",
              " 'NEWS Conscious Level Score12_current_stay_difference',\n",
              " 'NEWS Conscious Level Score13_current_stay_difference',\n",
              " 'NEWS Conscious Level Score14_current_stay_difference',\n",
              " 'NEWS Conscious Level Score15_current_stay_difference',\n",
              " 'NEWS Conscious Level Score16_current_stay_difference',\n",
              " 'NEWS Conscious Level Score17_current_stay_difference',\n",
              " 'NEWS Conscious Level Score18_current_stay_difference',\n",
              " 'NEWS Conscious Level Score19_current_stay_difference',\n",
              " 'NEWS Conscious Level Score20_current_stay_difference',\n",
              " 'NEWS Conscious Level Score21_current_stay_difference',\n",
              " 'NEWS Supplemental Oxygen Calc0_difference',\n",
              " 'NEWS Supplemental Oxygen Calc1_difference',\n",
              " 'NEWS Supplemental Oxygen Calc2_difference',\n",
              " 'NEWS Supplemental Oxygen Calc3_difference',\n",
              " 'NEWS Supplemental Oxygen Calc4_difference',\n",
              " 'NEWS Supplemental Oxygen Calc5_difference',\n",
              " 'NEWS Supplemental Oxygen Calc6_difference',\n",
              " 'NEWS Supplemental Oxygen Calc7_difference',\n",
              " 'NEWS Supplemental Oxygen Calc8_difference',\n",
              " 'NEWS Supplemental Oxygen Calc9_difference',\n",
              " 'NEWS Supplemental Oxygen Calc10_difference',\n",
              " 'NEWS Supplemental Oxygen Calc11_difference',\n",
              " 'NEWS Supplemental Oxygen Calc12_difference',\n",
              " 'NEWS Supplemental Oxygen Calc13_difference',\n",
              " 'NEWS Supplemental Oxygen Calc14_difference',\n",
              " 'NEWS Supplemental Oxygen Calc15_difference',\n",
              " 'NEWS Supplemental Oxygen Calc16_difference',\n",
              " 'NEWS Supplemental Oxygen Calc17_difference',\n",
              " 'NEWS Supplemental Oxygen Calc18_difference',\n",
              " 'NEWS Supplemental Oxygen Calc19_difference',\n",
              " 'NEWS Supplemental Oxygen Calc20_difference',\n",
              " 'NEWS Supplemental Oxygen Calc21_difference',\n",
              " 'NEWS Supplemental Oxygen Calc0_current_stay_difference',\n",
              " 'NEWS Supplemental Oxygen Calc1_current_stay_difference',\n",
              " 'NEWS Supplemental Oxygen Calc2_current_stay_difference',\n",
              " 'NEWS Supplemental Oxygen Calc3_current_stay_difference',\n",
              " 'NEWS Supplemental Oxygen Calc4_current_stay_difference',\n",
              " 'NEWS Supplemental Oxygen Calc5_current_stay_difference',\n",
              " 'NEWS Supplemental Oxygen Calc6_current_stay_difference',\n",
              " 'NEWS Supplemental Oxygen Calc7_current_stay_difference',\n",
              " 'NEWS Supplemental Oxygen Calc8_current_stay_difference',\n",
              " 'NEWS Supplemental Oxygen Calc10_current_stay_difference',\n",
              " 'NEWS Supplemental Oxygen Calc12_current_stay_difference',\n",
              " 'NEWS Supplemental Oxygen Calc13_current_stay_difference',\n",
              " 'NEWS Supplemental Oxygen Calc14_current_stay_difference',\n",
              " 'NEWS Supplemental Oxygen Calc15_current_stay_difference',\n",
              " 'NEWS Supplemental Oxygen Calc16_current_stay_difference',\n",
              " 'NEWS Supplemental Oxygen Calc18_current_stay_difference',\n",
              " 'NEWS Supplemental Oxygen Calc19_current_stay_difference',\n",
              " 'NEWS Supplemental Oxygen Calc20_current_stay_difference',\n",
              " 'NEWS Supplemental Oxygen Calc21_current_stay_difference',\n",
              " 'Respiratory Rate2_difference',\n",
              " 'Respiratory Rate3_difference',\n",
              " 'Respiratory Rate4_difference',\n",
              " 'Respiratory Rate5_difference',\n",
              " 'Respiratory Rate6_difference',\n",
              " 'Respiratory Rate7_difference',\n",
              " 'Respiratory Rate8_difference',\n",
              " 'Respiratory Rate9_difference',\n",
              " 'Respiratory Rate11_difference',\n",
              " 'Respiratory Rate12_difference',\n",
              " 'Respiratory Rate13_difference',\n",
              " 'Respiratory Rate14_difference',\n",
              " 'Respiratory Rate15_difference',\n",
              " 'Respiratory Rate16_difference',\n",
              " 'Respiratory Rate18_difference',\n",
              " 'Respiratory Rate19_difference',\n",
              " 'Respiratory Rate20_difference',\n",
              " 'Respiratory Rate21_difference',\n",
              " 'Respiratory Rate0_current_stay_difference',\n",
              " 'Respiratory Rate2_current_stay_difference',\n",
              " 'Respiratory Rate3_current_stay_difference',\n",
              " 'Respiratory Rate4_current_stay_difference',\n",
              " 'Respiratory Rate5_current_stay_difference',\n",
              " 'Respiratory Rate6_current_stay_difference',\n",
              " 'Respiratory Rate8_current_stay_difference',\n",
              " 'Respiratory Rate12_current_stay_difference',\n",
              " 'Respiratory Rate13_current_stay_difference',\n",
              " 'Respiratory Rate14_current_stay_difference',\n",
              " 'Respiratory Rate16_current_stay_difference',\n",
              " 'Respiratory Rate18_current_stay_difference',\n",
              " 'Respiratory Rate19_current_stay_difference',\n",
              " 'Respiratory Rate21_current_stay_difference',\n",
              " 'SpO22_difference',\n",
              " 'SpO23_difference',\n",
              " 'SpO24_difference',\n",
              " 'SpO25_difference',\n",
              " 'SpO26_difference',\n",
              " 'SpO27_difference',\n",
              " 'SpO28_difference',\n",
              " 'SpO29_difference',\n",
              " 'SpO211_difference',\n",
              " 'SpO212_difference',\n",
              " 'SpO213_difference',\n",
              " 'SpO214_difference',\n",
              " 'SpO215_difference',\n",
              " 'SpO216_difference',\n",
              " 'SpO218_difference',\n",
              " 'SpO219_difference',\n",
              " 'SpO220_difference',\n",
              " 'SpO221_difference',\n",
              " 'SpO22_current_stay_difference',\n",
              " 'SpO23_current_stay_difference',\n",
              " 'SpO24_current_stay_difference',\n",
              " 'SpO25_current_stay_difference',\n",
              " 'SpO26_current_stay_difference',\n",
              " 'SpO28_current_stay_difference',\n",
              " 'SpO212_current_stay_difference',\n",
              " 'SpO213_current_stay_difference',\n",
              " 'SpO214_current_stay_difference',\n",
              " 'SpO216_current_stay_difference',\n",
              " 'SpO218_current_stay_difference',\n",
              " 'SpO219_current_stay_difference',\n",
              " 'SpO221_current_stay_difference',\n",
              " 'Systolic Blood Pressure2_difference',\n",
              " 'Systolic Blood Pressure3_difference',\n",
              " 'Systolic Blood Pressure4_difference',\n",
              " 'Systolic Blood Pressure5_difference',\n",
              " 'Systolic Blood Pressure6_difference',\n",
              " 'Systolic Blood Pressure7_difference',\n",
              " 'Systolic Blood Pressure8_difference',\n",
              " 'Systolic Blood Pressure9_difference',\n",
              " 'Systolic Blood Pressure11_difference',\n",
              " 'Systolic Blood Pressure12_difference',\n",
              " 'Systolic Blood Pressure13_difference',\n",
              " 'Systolic Blood Pressure14_difference',\n",
              " 'Systolic Blood Pressure15_difference',\n",
              " 'Systolic Blood Pressure16_difference',\n",
              " 'Systolic Blood Pressure18_difference',\n",
              " 'Systolic Blood Pressure19_difference',\n",
              " 'Systolic Blood Pressure20_difference',\n",
              " 'Systolic Blood Pressure21_difference',\n",
              " 'Systolic Blood Pressure2_current_stay_difference',\n",
              " 'Systolic Blood Pressure3_current_stay_difference',\n",
              " 'Systolic Blood Pressure4_current_stay_difference',\n",
              " 'Systolic Blood Pressure5_current_stay_difference',\n",
              " 'Systolic Blood Pressure6_current_stay_difference',\n",
              " 'Systolic Blood Pressure8_current_stay_difference',\n",
              " 'Systolic Blood Pressure12_current_stay_difference',\n",
              " 'Systolic Blood Pressure13_current_stay_difference',\n",
              " 'Systolic Blood Pressure14_current_stay_difference',\n",
              " 'Systolic Blood Pressure16_current_stay_difference',\n",
              " 'Systolic Blood Pressure18_current_stay_difference',\n",
              " 'Systolic Blood Pressure19_current_stay_difference',\n",
              " 'Systolic Blood Pressure21_current_stay_difference',\n",
              " 'Temperature2_difference',\n",
              " 'Temperature3_difference',\n",
              " 'Temperature4_difference',\n",
              " 'Temperature5_difference',\n",
              " 'Temperature6_difference',\n",
              " 'Temperature7_difference',\n",
              " 'Temperature8_difference',\n",
              " 'Temperature9_difference',\n",
              " 'Temperature11_difference',\n",
              " 'Temperature12_difference',\n",
              " 'Temperature13_difference',\n",
              " 'Temperature14_difference',\n",
              " 'Temperature15_difference',\n",
              " 'Temperature16_difference',\n",
              " 'Temperature18_difference',\n",
              " 'Temperature19_difference',\n",
              " 'Temperature20_difference',\n",
              " 'Temperature21_difference',\n",
              " 'Temperature2_current_stay_difference',\n",
              " 'Temperature3_current_stay_difference',\n",
              " 'Temperature4_current_stay_difference',\n",
              " 'Temperature5_current_stay_difference',\n",
              " 'Temperature6_current_stay_difference',\n",
              " 'Temperature8_current_stay_difference',\n",
              " 'Temperature12_current_stay_difference',\n",
              " 'Temperature13_current_stay_difference',\n",
              " 'Temperature14_current_stay_difference',\n",
              " 'Temperature16_current_stay_difference',\n",
              " 'Temperature18_current_stay_difference',\n",
              " 'Temperature19_current_stay_difference',\n",
              " 'Temperature21_current_stay_difference']"
            ]
          },
          "execution_count": 34,
          "metadata": {},
          "output_type": "execute_result"
        }
      ],
      "source": [
        "columns_to_drop"
      ]
    },
    {
      "cell_type": "code",
      "execution_count": 14,
      "metadata": {
        "gather": {
          "logged": 1705676283930
        },
        "jupyter": {
          "outputs_hidden": false,
          "source_hidden": false
        },
        "nteract": {
          "transient": {
            "deleting": false
          }
        }
      },
      "outputs": [
        {
          "data": {
            "text/plain": [
              "707"
            ]
          },
          "execution_count": 14,
          "metadata": {},
          "output_type": "execute_result"
        }
      ],
      "source": [
        "len(columns_to_drop)"
      ]
    }
  ],
  "metadata": {
    "kernel_info": {
      "name": "python38-azureml-pt-tf"
    },
    "kernelspec": {
      "display_name": "Python 3.8 - Pytorch and Tensorflow",
      "language": "python",
      "name": "python38-azureml-pt-tf"
    },
    "language_info": {
      "codemirror_mode": {
        "name": "ipython",
        "version": 3
      },
      "file_extension": ".py",
      "mimetype": "text/x-python",
      "name": "python",
      "nbconvert_exporter": "python",
      "pygments_lexer": "ipython3",
      "version": "3.8.5"
    },
    "microsoft": {
      "host": {
        "AzureML": {
          "notebookHasBeenCompleted": true
        }
      },
      "ms_spell_check": {
        "ms_spell_check_language": "en"
      }
    },
    "nteract": {
      "version": "nteract-front-end@1.0.0"
    }
  },
  "nbformat": 4,
  "nbformat_minor": 2
}
