{
  "cells": [
    {
      "cell_type": "code",
      "execution_count": 1,
      "metadata": {
        "gather": {
          "logged": 1677686028473
        }
      },
      "outputs": [],
      "source": [
        "# Libraries\n",
        "import pandas as pd\n",
        "pd.set_option('display.max_columns', 40)\n",
        "pd.set_option('display.width', 2000)\n",
        "import json, snowflake.connector\n",
        "\n",
        "from IPython.core.interactiveshell import InteractiveShell\n",
        "InteractiveShell.ast_node_interactivity = \"all\""
      ]
    },
    {
      "cell_type": "code",
      "execution_count": null,
      "metadata": {
        "gather": {
          "logged": 1677686047522
        },
        "jupyter": {
          "outputs_hidden": false,
          "source_hidden": false
        },
        "nteract": {
          "transient": {
            "deleting": false
          }
        }
      },
      "outputs": [],
      "source": [
        "# establish the connection to snowflake\n",
        "ctx = snowflake.connector.connect( \n",
        "    **json.load(open('/opt/ich/python-snowflake-defaults.json')))\n",
        "    \n",
        "# verify and test if connection is working\n",
        "try: \n",
        "    cs = ctx.cursor() \n",
        "    cs.execute('SELECT current_version(), current_role(), current_warehouse()')\n",
        "    print(cs.fetchone())\n",
        "finally: \n",
        "    cs.close()"
      ]
    },
    {
      "cell_type": "code",
      "execution_count": 3,
      "metadata": {
        "gather": {
          "logged": 1677686062346
        },
        "jupyter": {
          "outputs_hidden": false,
          "source_hidden": false
        },
        "nteract": {
          "transient": {
            "deleting": false
          }
        }
      },
      "outputs": [],
      "source": [
        "# Import \n",
        "query = '''\n",
        "SELECT * from ICHT_SANDBOX_PROD.COVOAM_22016.ANTI_INFECTIVE_ADMINISTRATION\n",
        "'''\n",
        "cur = ctx.cursor().execute(query)\n",
        "drug_df = pd.DataFrame.from_records(iter(cur), columns=[x[0] for x in cur.description])"
      ]
    },
    {
      "cell_type": "code",
      "execution_count": 8,
      "metadata": {
        "gather": {
          "logged": 1677074330444
        },
        "jupyter": {
          "outputs_hidden": false,
          "source_hidden": false
        },
        "nteract": {
          "transient": {
            "deleting": false
          }
        }
      },
      "outputs": [],
      "source": [
        "# Generate count\n",
        "anti_infectives_count = drug_df.MEDICATION_NAME_SHORT.value_counts()"
      ]
    },
    {
      "cell_type": "code",
      "execution_count": 10,
      "metadata": {
        "gather": {
          "logged": 1677074431722
        },
        "jupyter": {
          "outputs_hidden": false,
          "source_hidden": false
        },
        "nteract": {
          "transient": {
            "deleting": false
          }
        }
      },
      "outputs": [],
      "source": [
        "# Save\n",
        "#anti_infectives_count.to_csv('switch_data/anti_infectives_count.csv')"
      ]
    },
    {
      "cell_type": "code",
      "execution_count": 5,
      "metadata": {
        "gather": {
          "logged": 1677686072586
        },
        "jupyter": {
          "outputs_hidden": false,
          "source_hidden": false
        },
        "nteract": {
          "transient": {
            "deleting": false
          }
        }
      },
      "outputs": [],
      "source": [
        "antibiotics = drug_df"
      ]
    },
    {
      "cell_type": "code",
      "execution_count": 7,
      "metadata": {
        "gather": {
          "logged": 1677686141879
        },
        "jupyter": {
          "outputs_hidden": false,
          "source_hidden": false
        },
        "nteract": {
          "transient": {
            "deleting": false
          }
        }
      },
      "outputs": [],
      "source": [
        "# Import\n",
        "path = r'switch_data/anti_infectives_flag_final.csv'\n",
        "anti_infectives_flag_final = pd.read_csv(path)"
      ]
    },
    {
      "cell_type": "code",
      "execution_count": 9,
      "metadata": {
        "gather": {
          "logged": 1677686193009
        },
        "jupyter": {
          "outputs_hidden": false,
          "source_hidden": false
        },
        "nteract": {
          "transient": {
            "deleting": false
          }
        }
      },
      "outputs": [],
      "source": [
        "# Filter for relevant delivery methods\n",
        "antibiotics = antibiotics.groupby('ROUTE').filter(lambda x: len(x) > 3000)\n",
        "antibiotics['ROUTE'] = antibiotics['ROUTE'].replace({'oral': 'PO', 'enteral':'PO', 'oromucosal':'PO', 'oral/NG':'PO', 'NG': 'PO'})\n",
        "antibiotics['ADMINISTRATION_DATETIME'] = pd.to_datetime(antibiotics['ADMINISTRATION_DATETIME']).dt.date\n"
      ]
    },
    {
      "cell_type": "code",
      "execution_count": 11,
      "metadata": {
        "gather": {
          "logged": 1677686274968
        },
        "jupyter": {
          "outputs_hidden": false,
          "source_hidden": false
        },
        "nteract": {
          "transient": {
            "deleting": false
          }
        }
      },
      "outputs": [
        {
          "data": {
            "text/plain": [
              "73"
            ]
          },
          "execution_count": 11,
          "metadata": {},
          "output_type": "execute_result"
        }
      ],
      "source": [
        "# Get list of antibiotics\n",
        "antibiotic_list = anti_infectives_flag_final[anti_infectives_flag_final['switch_antibiotic_flag'] == 'Yes']['MEDICATION_NAME_SHORT'].to_list()\n",
        "len(antibiotic_list)"
      ]
    },
    {
      "cell_type": "code",
      "execution_count": 12,
      "metadata": {
        "gather": {
          "logged": 1677686372971
        },
        "jupyter": {
          "outputs_hidden": false,
          "source_hidden": false
        },
        "nteract": {
          "transient": {
            "deleting": false
          }
        }
      },
      "outputs": [],
      "source": [
        "# Filter for antibiotics\n",
        "antibiotics = antibiotics[antibiotics['MEDICATION_NAME_SHORT'].isin(antibiotic_list)]"
      ]
    },
    {
      "cell_type": "code",
      "execution_count": 15,
      "metadata": {
        "gather": {
          "logged": 1677686433743
        },
        "jupyter": {
          "outputs_hidden": false,
          "source_hidden": false
        },
        "nteract": {
          "transient": {
            "deleting": false
          }
        }
      },
      "outputs": [],
      "source": [
        "# Filter columns\n",
        "antibiotics = antibiotics[['SUBJECT', 'ADMINISTRATION_DATETIME', 'ROUTE']]"
      ]
    },
    {
      "cell_type": "code",
      "execution_count": 16,
      "metadata": {
        "gather": {
          "logged": 1677686439972
        },
        "jupyter": {
          "outputs_hidden": false,
          "source_hidden": false
        },
        "nteract": {
          "transient": {
            "deleting": false
          }
        }
      },
      "outputs": [
        {
          "data": {
            "text/plain": [
              "53891"
            ]
          },
          "execution_count": 16,
          "metadata": {},
          "output_type": "execute_result"
        }
      ],
      "source": [
        "antibiotics.SUBJECT.nunique()"
      ]
    },
    {
      "cell_type": "code",
      "execution_count": 17,
      "metadata": {
        "gather": {
          "logged": 1677686446086
        },
        "jupyter": {
          "outputs_hidden": false,
          "source_hidden": false
        },
        "nteract": {
          "transient": {
            "deleting": false
          }
        }
      },
      "outputs": [
        {
          "data": {
            "text/plain": [
              "IV    547380\n",
              "PO    305973\n",
              "Name: ROUTE, dtype: int64"
            ]
          },
          "execution_count": 17,
          "metadata": {},
          "output_type": "execute_result"
        }
      ],
      "source": [
        "antibiotics.ROUTE.value_counts()"
      ]
    },
    {
      "cell_type": "code",
      "execution_count": 18,
      "metadata": {
        "gather": {
          "logged": 1677686453517
        },
        "jupyter": {
          "outputs_hidden": false,
          "source_hidden": false
        },
        "nteract": {
          "transient": {
            "deleting": false
          }
        }
      },
      "outputs": [],
      "source": [
        "# Filter for those with IV and PO\n",
        "filtered_antibiotics = antibiotics[antibiotics['SUBJECT'].isin((antibiotics.groupby(['SUBJECT'])['ROUTE'].nunique() > 1).loc[lambda x : x == True].index.to_list())]"
      ]
    },
    {
      "cell_type": "code",
      "execution_count": 19,
      "metadata": {
        "gather": {
          "logged": 1677686457510
        },
        "jupyter": {
          "outputs_hidden": false,
          "source_hidden": false
        },
        "nteract": {
          "transient": {
            "deleting": false
          }
        }
      },
      "outputs": [
        {
          "data": {
            "text/plain": [
              "18381"
            ]
          },
          "execution_count": 19,
          "metadata": {},
          "output_type": "execute_result"
        }
      ],
      "source": [
        "filtered_antibiotics.SUBJECT.nunique()"
      ]
    },
    {
      "cell_type": "code",
      "execution_count": null,
      "metadata": {
        "jupyter": {
          "outputs_hidden": false,
          "source_hidden": false
        },
        "nteract": {
          "transient": {
            "deleting": false
          }
        }
      },
      "outputs": [],
      "source": [
        "# Orientate by stay so not so disjointed"
      ]
    },
    {
      "cell_type": "code",
      "execution_count": 21,
      "metadata": {
        "gather": {
          "logged": 1677686486043
        },
        "jupyter": {
          "outputs_hidden": false,
          "source_hidden": false
        },
        "nteract": {
          "transient": {
            "deleting": false
          }
        }
      },
      "outputs": [],
      "source": [
        "# Import \n",
        "query = '''\n",
        "SELECT * from ICHT_PROD.ICHT_COVID.EPISODES\n",
        "'''\n",
        "cur = ctx.cursor().execute(query)\n",
        "episodes = pd.DataFrame.from_records(iter(cur), columns=[x[0] for x in cur.description])"
      ]
    },
    {
      "cell_type": "code",
      "execution_count": 22,
      "metadata": {
        "gather": {
          "logged": 1677686514700
        },
        "jupyter": {
          "outputs_hidden": false,
          "source_hidden": false
        },
        "nteract": {
          "transient": {
            "deleting": false
          }
        }
      },
      "outputs": [],
      "source": [
        "# Merge with episodes\n",
        "antibiotic_episodes = pd.merge(filtered_antibiotics, episodes[['SUBJECT', 'SPELL_IDENTIFIER', 'ADMISSION_DATE_TIME', 'DISCHARGE_DATE_TIME']])"
      ]
    },
    {
      "cell_type": "code",
      "execution_count": 23,
      "metadata": {
        "gather": {
          "logged": 1677686520629
        },
        "jupyter": {
          "outputs_hidden": false,
          "source_hidden": false
        },
        "nteract": {
          "transient": {
            "deleting": false
          }
        }
      },
      "outputs": [],
      "source": [
        "antibiotic_episodes['ADMISSION_DATE_TIME'] = pd.to_datetime(antibiotic_episodes['ADMISSION_DATE_TIME']).dt.date\n",
        "antibiotic_episodes['DISCHARGE_DATE_TIME'] = pd.to_datetime(antibiotic_episodes['DISCHARGE_DATE_TIME']).dt.date"
      ]
    },
    {
      "cell_type": "code",
      "execution_count": 24,
      "metadata": {
        "gather": {
          "logged": 1677686525962
        },
        "jupyter": {
          "outputs_hidden": false,
          "source_hidden": false
        },
        "nteract": {
          "transient": {
            "deleting": false
          }
        }
      },
      "outputs": [],
      "source": [
        "# Filter for where antibiotic date in spell date range \n",
        "antibiotic_episodes = antibiotic_episodes[(antibiotic_episodes['ADMINISTRATION_DATETIME'] >= antibiotic_episodes['ADMISSION_DATE_TIME']) & (antibiotic_episodes['ADMINISTRATION_DATETIME'] <= antibiotic_episodes['DISCHARGE_DATE_TIME'])]\n",
        "antibiotic_episodes.drop_duplicates(inplace=True)"
      ]
    },
    {
      "cell_type": "code",
      "execution_count": 26,
      "metadata": {
        "gather": {
          "logged": 1677686543426
        },
        "jupyter": {
          "outputs_hidden": false,
          "source_hidden": false
        },
        "nteract": {
          "transient": {
            "deleting": false
          }
        }
      },
      "outputs": [],
      "source": [
        "# Filter for those with IV and PO in same spell\n",
        "filtered_antibiotic_episodes = antibiotic_episodes[antibiotic_episodes['SPELL_IDENTIFIER'].isin((antibiotic_episodes.groupby(['SUBJECT', 'SPELL_IDENTIFIER'])['ROUTE'].nunique() > 1).loc[lambda x : x == True].index.get_level_values(1).to_list())]"
      ]
    },
    {
      "cell_type": "code",
      "execution_count": null,
      "metadata": {
        "gather": {
          "logged": 1677686548406
        },
        "jupyter": {
          "outputs_hidden": false,
          "source_hidden": false
        },
        "nteract": {
          "transient": {
            "deleting": false
          }
        }
      },
      "outputs": [],
      "source": [
        "# Order\n",
        "filtered_antibiotic_episodes.sort_values(by=['SUBJECT', 'SPELL_IDENTIFIER', 'ADMISSION_DATE_TIME', 'ADMINISTRATION_DATETIME', 'ROUTE'], inplace=True)"
      ]
    },
    {
      "cell_type": "code",
      "execution_count": null,
      "metadata": {
        "gather": {
          "logged": 1677686555055
        },
        "jupyter": {
          "outputs_hidden": false,
          "source_hidden": false
        },
        "nteract": {
          "transient": {
            "deleting": false
          }
        }
      },
      "outputs": [],
      "source": [
        "# Create po_flag\n",
        "def po_flag_fun(row):\n",
        "    if row['ROUTE'] == 'IV':\n",
        "        return 0\n",
        "    elif row['ROUTE'] == 'PO':\n",
        "        return 1\n",
        "\n",
        "filtered_antibiotic_episodes['po_flag'] =  filtered_antibiotic_episodes.apply (lambda row: po_flag_fun(row), axis=1)\n",
        "\n",
        "filtered_antibiotic_episodes.drop_duplicates(subset=['SUBJECT', 'ADMINISTRATION_DATETIME', 'SPELL_IDENTIFIER', 'ADMISSION_DATE_TIME', 'DISCHARGE_DATE_TIME'], inplace=True)"
      ]
    },
    {
      "cell_type": "code",
      "execution_count": null,
      "metadata": {
        "gather": {
          "logged": 1677686567738
        },
        "jupyter": {
          "outputs_hidden": false,
          "source_hidden": false
        },
        "nteract": {
          "transient": {
            "deleting": false
          }
        }
      },
      "outputs": [],
      "source": [
        "# Check nonthing weird got thorugh\n",
        "filtered_antibiotic_episodes[(filtered_antibiotic_episodes['po_flag'] == 1) & (filtered_antibiotic_episodes['ROUTE'] == 'IV')]"
      ]
    },
    {
      "cell_type": "code",
      "execution_count": 31,
      "metadata": {
        "gather": {
          "logged": 1677686571301
        },
        "jupyter": {
          "outputs_hidden": false,
          "source_hidden": false
        },
        "nteract": {
          "transient": {
            "deleting": false
          }
        }
      },
      "outputs": [],
      "source": [
        "def drop_po_first_fun(data):\n",
        "    bad_codes = []\n",
        "    for stay_id, sub_df in data.groupby('SPELL_IDENTIFIER'):\n",
        "        #print(stay_id)\n",
        "        sub_df.reset_index(inplace=True, drop=True)\n",
        "        for x in range(len(sub_df)):\n",
        "            if sub_df.iloc[x]['po_flag'] == 1:\n",
        "                #print(sub_df.iloc[x])\n",
        "                bad_codes.append(sub_df.iloc[x]['SPELL_IDENTIFIER'])\n",
        "            else:\n",
        "                break\n",
        "    new_data = data[~data['SPELL_IDENTIFIER'].isin(bad_codes)]\n",
        "    new_data.reset_index(inplace= True, drop=True)\n",
        "    return new_data"
      ]
    },
    {
      "cell_type": "code",
      "execution_count": 32,
      "metadata": {
        "gather": {
          "logged": 1677686577996
        },
        "jupyter": {
          "outputs_hidden": false,
          "source_hidden": false
        },
        "nteract": {
          "transient": {
            "deleting": false
          }
        }
      },
      "outputs": [],
      "source": [
        "# Remove those who have oral first\n",
        "filtered_antibiotic_episodes_2 = drop_po_first_fun(filtered_antibiotic_episodes)"
      ]
    },
    {
      "cell_type": "code",
      "execution_count": 33,
      "metadata": {
        "gather": {
          "logged": 1677686583556
        },
        "jupyter": {
          "outputs_hidden": false,
          "source_hidden": false
        },
        "nteract": {
          "transient": {
            "deleting": false
          }
        }
      },
      "outputs": [
        {
          "data": {
            "text/plain": [
              "18178"
            ]
          },
          "execution_count": 33,
          "metadata": {},
          "output_type": "execute_result"
        },
        {
          "data": {
            "text/plain": [
              "15274"
            ]
          },
          "execution_count": 33,
          "metadata": {},
          "output_type": "execute_result"
        }
      ],
      "source": [
        "filtered_antibiotic_episodes_2.SPELL_IDENTIFIER.nunique()\n",
        "filtered_antibiotic_episodes_2.SUBJECT.nunique()"
      ]
    },
    {
      "cell_type": "code",
      "execution_count": 34,
      "metadata": {
        "gather": {
          "logged": 1677686590444
        },
        "jupyter": {
          "outputs_hidden": false,
          "source_hidden": false
        },
        "nteract": {
          "transient": {
            "deleting": false
          }
        }
      },
      "outputs": [],
      "source": [
        "# Filter for those with IV and PO in same spell\n",
        "filtered_antibiotic_episodes_2 = filtered_antibiotic_episodes_2[filtered_antibiotic_episodes_2['SPELL_IDENTIFIER'].isin((filtered_antibiotic_episodes_2.groupby('SPELL_IDENTIFIER')['po_flag'].nunique() > 1).loc[lambda x : x == True].index.to_list())]"
      ]
    },
    {
      "cell_type": "code",
      "execution_count": 35,
      "metadata": {
        "gather": {
          "logged": 1677686593052
        },
        "jupyter": {
          "outputs_hidden": false,
          "source_hidden": false
        },
        "nteract": {
          "transient": {
            "deleting": false
          }
        }
      },
      "outputs": [
        {
          "data": {
            "text/plain": [
              "13058"
            ]
          },
          "execution_count": 35,
          "metadata": {},
          "output_type": "execute_result"
        },
        {
          "data": {
            "text/plain": [
              "11307"
            ]
          },
          "execution_count": 35,
          "metadata": {},
          "output_type": "execute_result"
        }
      ],
      "source": [
        "filtered_antibiotic_episodes_2.SPELL_IDENTIFIER.nunique()\n",
        "filtered_antibiotic_episodes_2.SUBJECT.nunique()"
      ]
    },
    {
      "cell_type": "code",
      "execution_count": 36,
      "metadata": {
        "gather": {
          "logged": 1677686597701
        },
        "jupyter": {
          "outputs_hidden": false,
          "source_hidden": false
        },
        "nteract": {
          "transient": {
            "deleting": false
          }
        }
      },
      "outputs": [],
      "source": [
        "# Change iv_treatment length to prior days treatment length \n",
        "\n",
        "# For only having one positive switch day per stay\n",
        "def iv_treatment_length_fun(data):\n",
        "    cumcount = []\n",
        "    count = 0\n",
        "    pos = -1\n",
        "    flag = 0\n",
        "\n",
        "    for x in range(len(data)):\n",
        "        pos += 1\n",
        "        if pos == len(data) - 1:\n",
        "            cumcount.append(count) # add count to last one\n",
        "            break # end\n",
        "        elif pos == 0:\n",
        "            cumcount.append(count) # add 0 to first one\n",
        "            count += 1\n",
        "        elif data.iloc[x]['SPELL_IDENTIFIER'] == data.iloc[x+1]['SPELL_IDENTIFIER']:\n",
        "            if data.iloc[x]['ROUTE'] == 'IV':\n",
        "                cumcount.append(count)\n",
        "                count += 1\n",
        "                flag = 0\n",
        "            elif flag == 1:\n",
        "                cumcount.append(999)\n",
        "                count = 0\n",
        "                flag = 1\n",
        "            elif data.iloc[x]['SPELL_IDENTIFIER'] != data.iloc[x-1]['SPELL_IDENTIFIER']:\n",
        "                cumcount.append(999)\n",
        "                count = 0\n",
        "                print('hi')\n",
        "                print(x)\n",
        "            else:\n",
        "                cumcount.append(count)\n",
        "                count = 0\n",
        "                flag = 1\n",
        "        else:\n",
        "            if data.iloc[x]['ROUTE'] == 'IV':\n",
        "                cumcount.append(count)\n",
        "                count = 0\n",
        "            elif flag == 1:\n",
        "                cumcount.append(999)\n",
        "                count = 0\n",
        "                flag = 0\n",
        "            else:\n",
        "                cumcount.append(count)\n",
        "                count = 0\n",
        "                flag = 0\n",
        "\n",
        "    print(len(cumcount))\n",
        "\n",
        "    data['iv_treatment_length'] = cumcount\n",
        "    \n",
        "    return data"
      ]
    },
    {
      "cell_type": "code",
      "execution_count": 37,
      "metadata": {
        "gather": {
          "logged": 1677686624522
        },
        "jupyter": {
          "outputs_hidden": false,
          "source_hidden": false
        },
        "nteract": {
          "transient": {
            "deleting": false
          }
        }
      },
      "outputs": [
        {
          "name": "stdout",
          "output_type": "stream",
          "text": [
            "114045\n"
          ]
        }
      ],
      "source": [
        "filtered_antibiotic_episodes_2 = iv_treatment_length_fun(filtered_antibiotic_episodes_2)"
      ]
    },
    {
      "cell_type": "code",
      "execution_count": 38,
      "metadata": {
        "gather": {
          "logged": 1677686631637
        },
        "jupyter": {
          "outputs_hidden": false,
          "source_hidden": false
        },
        "nteract": {
          "transient": {
            "deleting": false
          }
        }
      },
      "outputs": [],
      "source": [
        "# Re order columns\n",
        "filtered_antibiotic_episodes_2 = filtered_antibiotic_episodes_2[['SUBJECT', 'SPELL_IDENTIFIER', 'ADMISSION_DATE_TIME', 'DISCHARGE_DATE_TIME', 'ADMINISTRATION_DATETIME', 'ROUTE', 'po_flag', 'iv_treatment_length']]"
      ]
    },
    {
      "cell_type": "code",
      "execution_count": 41,
      "metadata": {
        "gather": {
          "logged": 1677686655555
        },
        "jupyter": {
          "outputs_hidden": false,
          "source_hidden": false
        },
        "nteract": {
          "transient": {
            "deleting": false
          }
        }
      },
      "outputs": [],
      "source": [
        "# Set max iv treatment length\n",
        "long_stay_list = filtered_antibiotic_episodes_2[(filtered_antibiotic_episodes_2['iv_treatment_length'] > 8) & (filtered_antibiotic_episodes_2['iv_treatment_length'] < 999)]['SPELL_IDENTIFIER'].unique().tolist()"
      ]
    },
    {
      "cell_type": "code",
      "execution_count": 42,
      "metadata": {
        "gather": {
          "logged": 1677686658781
        },
        "jupyter": {
          "outputs_hidden": false,
          "source_hidden": false
        },
        "nteract": {
          "transient": {
            "deleting": false
          }
        }
      },
      "outputs": [
        {
          "data": {
            "text/plain": [
              "1495"
            ]
          },
          "execution_count": 42,
          "metadata": {},
          "output_type": "execute_result"
        }
      ],
      "source": [
        "len(long_stay_list)"
      ]
    },
    {
      "cell_type": "code",
      "execution_count": 43,
      "metadata": {
        "gather": {
          "logged": 1677686662606
        },
        "jupyter": {
          "outputs_hidden": false,
          "source_hidden": false
        },
        "nteract": {
          "transient": {
            "deleting": false
          }
        }
      },
      "outputs": [],
      "source": [
        "# Remove those with iv longer than 7 days\n",
        "filtered_antibiotic_episodes_3 = filtered_antibiotic_episodes_2[~filtered_antibiotic_episodes_2['SPELL_IDENTIFIER'].isin(long_stay_list)]"
      ]
    },
    {
      "cell_type": "code",
      "execution_count": null,
      "metadata": {
        "jupyter": {
          "outputs_hidden": false,
          "source_hidden": false
        },
        "nteract": {
          "transient": {
            "deleting": false
          }
        }
      },
      "outputs": [],
      "source": [
        "# Remove those who have IV after oral"
      ]
    },
    {
      "cell_type": "code",
      "execution_count": 45,
      "metadata": {
        "gather": {
          "logged": 1677686703384
        },
        "jupyter": {
          "outputs_hidden": false,
          "source_hidden": false
        },
        "nteract": {
          "transient": {
            "deleting": false
          }
        }
      },
      "outputs": [],
      "source": [
        "def iv_post_po_fun(data):\n",
        "\n",
        "    cumcount = []\n",
        "    flag = 0\n",
        "    pos = -1\n",
        "\n",
        "    for x in range(len(data)):\n",
        "        pos += 1\n",
        "        if pos == len(data) - 1:\n",
        "            continue # end\n",
        "        if data.iloc[x]['SPELL_IDENTIFIER'] == data.iloc[x+1]['SPELL_IDENTIFIER']:\n",
        "            if data.iloc[x]['ROUTE'] == 'IV':\n",
        "                if flag == 1:\n",
        "                    cumcount.append(data.iloc[x]['SPELL_IDENTIFIER'])\n",
        "                else:\n",
        "                    continue\n",
        "            elif data.iloc[x]['ROUTE'] == 'PO':\n",
        "                flag = 1\n",
        "                continue\n",
        "        else:\n",
        "            if data.iloc[x]['ROUTE'] == 'IV':\n",
        "                if flag == 1:\n",
        "                    cumcount.append(data.iloc[x]['SPELL_IDENTIFIER'])\n",
        "                    flag = 0\n",
        "                else:\n",
        "                    continue\n",
        "                    flag = 0\n",
        "            elif data.iloc[x]['ROUTE'] == 'PO':\n",
        "                flag = 0\n",
        "                continue\n",
        "\n",
        "    print(len(cumcount))\n",
        "\n",
        "    data = data[~data['SPELL_IDENTIFIER'].isin(cumcount)]\n",
        "    \n",
        "    return data"
      ]
    },
    {
      "cell_type": "code",
      "execution_count": 46,
      "metadata": {
        "gather": {
          "logged": 1677686725448
        },
        "jupyter": {
          "outputs_hidden": false,
          "source_hidden": false
        },
        "nteract": {
          "transient": {
            "deleting": false
          }
        }
      },
      "outputs": [
        {
          "name": "stdout",
          "output_type": "stream",
          "text": [
            "4890\n"
          ]
        }
      ],
      "source": [
        "filtered_antibiotic_episodes_4 = iv_post_po_fun(filtered_antibiotic_episodes_3)"
      ]
    },
    {
      "cell_type": "code",
      "execution_count": 49,
      "metadata": {
        "gather": {
          "logged": 1677686785824
        },
        "jupyter": {
          "outputs_hidden": false,
          "source_hidden": false
        },
        "nteract": {
          "transient": {
            "deleting": false
          }
        }
      },
      "outputs": [
        {
          "data": {
            "text/plain": [
              "1    32586\n",
              "0    29554\n",
              "Name: po_flag, dtype: int64"
            ]
          },
          "execution_count": 49,
          "metadata": {},
          "output_type": "execute_result"
        },
        {
          "data": {
            "text/plain": [
              "999    22276\n",
              "0      10310\n",
              "1      10309\n",
              "2       6894\n",
              "3       4876\n",
              "4       3278\n",
              "5       2043\n",
              "6       1220\n",
              "7        662\n",
              "8        272\n",
              "Name: iv_treatment_length, dtype: int64"
            ]
          },
          "execution_count": 49,
          "metadata": {},
          "output_type": "execute_result"
        }
      ],
      "source": [
        "filtered_antibiotic_episodes_4.po_flag.value_counts()\n",
        "filtered_antibiotic_episodes_4.iv_treatment_length.value_counts()"
      ]
    },
    {
      "cell_type": "code",
      "execution_count": 50,
      "metadata": {
        "gather": {
          "logged": 1677686793035
        },
        "jupyter": {
          "outputs_hidden": false,
          "source_hidden": false
        },
        "nteract": {
          "transient": {
            "deleting": false
          }
        }
      },
      "outputs": [],
      "source": [
        "# Save\n",
        "#filtered_antibiotic_episodes_4.to_csv('switch_data/antibiotic_po_flag.csv', index=False)"
      ]
    }
  ],
  "metadata": {
    "kernel_info": {
      "name": "python310-sdkv2"
    },
    "kernelspec": {
      "display_name": "Python 3.10 - SDK v2",
      "language": "python",
      "name": "python310-sdkv2"
    },
    "language_info": {
      "codemirror_mode": {
        "name": "ipython",
        "version": 3
      },
      "file_extension": ".py",
      "mimetype": "text/x-python",
      "name": "python",
      "nbconvert_exporter": "python",
      "pygments_lexer": "ipython3",
      "version": "3.10.11"
    },
    "microsoft": {
      "host": {
        "AzureML": {
          "notebookHasBeenCompleted": true
        }
      },
      "ms_spell_check": {
        "ms_spell_check_language": "en"
      }
    },
    "nteract": {
      "version": "nteract-front-end@1.0.0"
    }
  },
  "nbformat": 4,
  "nbformat_minor": 2
}
