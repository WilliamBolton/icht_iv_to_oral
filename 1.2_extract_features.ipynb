{
  "cells": [
    {
      "cell_type": "code",
      "execution_count": 1,
      "metadata": {
        "gather": {
          "logged": 1687871602802
        }
      },
      "outputs": [],
      "source": [
        "# Libraries\n",
        "import numpy as np\n",
        "import pandas as pd\n",
        "pd.set_option('display.max_columns', 40)\n",
        "pd.set_option('display.width', 2000)\n",
        "\n",
        "from IPython.core.interactiveshell import InteractiveShell\n",
        "InteractiveShell.ast_node_interactivity = \"all\"\n",
        "\n",
        "from sktime.transformations.panel.catch22 import Catch22\n",
        "import math"
      ]
    },
    {
      "cell_type": "code",
      "execution_count": 2,
      "metadata": {
        "gather": {
          "logged": 1687871603672
        },
        "jupyter": {
          "outputs_hidden": false,
          "source_hidden": false
        },
        "nteract": {
          "transient": {
            "deleting": false
          }
        }
      },
      "outputs": [],
      "source": [
        "# Import\n",
        "path = r'switch_data/antibiotic_po_flag.csv'\n",
        "antibiotic_df = pd.read_csv(path)"
      ]
    },
    {
      "cell_type": "code",
      "execution_count": 6,
      "metadata": {
        "gather": {
          "logged": 1677697609026
        },
        "jupyter": {
          "outputs_hidden": false,
          "source_hidden": false
        },
        "nteract": {
          "transient": {
            "deleting": false
          }
        }
      },
      "outputs": [
        {
          "data": {
            "text/plain": [
              "9268"
            ]
          },
          "execution_count": 6,
          "metadata": {},
          "output_type": "execute_result"
        },
        {
          "data": {
            "text/plain": [
              "10309"
            ]
          },
          "execution_count": 6,
          "metadata": {},
          "output_type": "execute_result"
        }
      ],
      "source": [
        "antibiotic_df.SUBJECT.nunique()\n",
        "antibiotic_df.SPELL_IDENTIFIER.nunique()"
      ]
    },
    {
      "cell_type": "code",
      "execution_count": 4,
      "metadata": {
        "gather": {
          "logged": 1687775931961
        },
        "jupyter": {
          "outputs_hidden": false,
          "source_hidden": false
        },
        "nteract": {
          "transient": {
            "deleting": false
          }
        }
      },
      "outputs": [],
      "source": [
        "# Save text file to get subjects to filter for sql\n",
        "np.savetxt(\"antibiotic_subjects.txt\", antibiotic_df.SUBJECT.unique(), fmt='%s', delimiter=\",\", newline=\"','\")"
      ]
    },
    {
      "cell_type": "code",
      "execution_count": null,
      "metadata": {
        "gather": {
          "logged": 1677686992065
        },
        "jupyter": {
          "outputs_hidden": false,
          "source_hidden": false
        },
        "nteract": {
          "transient": {
            "deleting": false
          }
        }
      },
      "outputs": [],
      "source": [
        "import json, snowflake.connector\n",
        "\n",
        "# establish the connection to snowflake\n",
        "ctx = snowflake.connector.connect( \n",
        "    **json.load(open('/opt/ich/python-snowflake-defaults.json')))\n",
        "    \n",
        "# verify and test if connection is working\n",
        "try: \n",
        "    cs = ctx.cursor() \n",
        "    cs.execute('SELECT current_version(), current_role(), current_warehouse()')\n",
        "    print(cs.fetchone())\n",
        "finally: \n",
        "    cs.close()"
      ]
    },
    {
      "cell_type": "code",
      "execution_count": null,
      "metadata": {
        "gather": {
          "logged": 1678272528710
        },
        "jupyter": {
          "outputs_hidden": false,
          "source_hidden": false
        },
        "nteract": {
          "transient": {
            "deleting": false
          }
        }
      },
      "outputs": [],
      "source": [
        "# Import \n",
        "query = '''\n",
        "SELECT * from ICHT_SANDBOX_PROD.COVOAM_22016.SWITCH_VITALS_filtered\n",
        "'''\n",
        "cur = ctx.cursor().execute(query)\n",
        "switch_vitals = pd.DataFrame.from_records(iter(cur), columns=[x[0] for x in cur.description])"
      ]
    },
    {
      "cell_type": "code",
      "execution_count": 6,
      "metadata": {
        "gather": {
          "logged": 1677162396008
        },
        "jupyter": {
          "outputs_hidden": false,
          "source_hidden": false
        },
        "nteract": {
          "transient": {
            "deleting": false
          }
        }
      },
      "outputs": [],
      "source": [
        "# Filter columns\n",
        "switch_vitals = switch_vitals[['SUBJECT', 'OBSERVATION_CODE', 'OBSERVATION_NAME', 'OBSERVATION_DATETIME', 'OBSERVATION_START_DATETIME', 'OBSERVATION_END_DATETIME', 'OBSERVATION_RESULT', 'OBSERVATION_RESULT_CLEAN', 'OBSERVATION_UNIT']]"
      ]
    },
    {
      "cell_type": "code",
      "execution_count": 7,
      "metadata": {
        "gather": {
          "logged": 1677162497033
        },
        "jupyter": {
          "outputs_hidden": false,
          "source_hidden": false
        },
        "nteract": {
          "transient": {
            "deleting": false
          }
        }
      },
      "outputs": [],
      "source": [
        "# Save\n",
        "#switch_vitals.to_csv('switch_data/switch_vitals_filtered.csv', index=False)"
      ]
    },
    {
      "cell_type": "code",
      "execution_count": 3,
      "metadata": {
        "gather": {
          "logged": 1687871667170
        },
        "jupyter": {
          "outputs_hidden": false,
          "source_hidden": false
        },
        "nteract": {
          "transient": {
            "deleting": false
          }
        }
      },
      "outputs": [],
      "source": [
        "# Import\n",
        "path = r'switch_data/switch_vitals_filtered_2.csv'\n",
        "switch_vitals = pd.read_csv(path)"
      ]
    },
    {
      "cell_type": "code",
      "execution_count": 5,
      "metadata": {
        "gather": {
          "logged": 1677496184223
        },
        "jupyter": {
          "outputs_hidden": false,
          "source_hidden": false
        },
        "nteract": {
          "transient": {
            "deleting": false
          }
        }
      },
      "outputs": [
        {
          "data": {
            "text/plain": [
              "OBSERVATION_NAME\n",
              "Diastolic Blood Pressure            1\n",
              "Diastolic Blood Pressure Cuff       1\n",
              "Glasgow Coma Score                  0\n",
              "HR - SpO2 (AN)                      1\n",
              "Heart Rate                          1\n",
              "Mean Arterial Pressure, Cuff        1\n",
              "Mean Arterial Pressure, Invasive    1\n",
              "NEWS Conscious Level Score          0\n",
              "NEWS Supplemental Oxygen Calc       0\n",
              "Respiratory Rate                    2\n",
              "SaO2%                               1\n",
              "SpO2                                1\n",
              "SpO2 (AN)                           1\n",
              "Systolic Blood Pressure             1\n",
              "Systolic Blood Pressure Cuff        1\n",
              "Temperature                         1\n",
              "Name: OBSERVATION_UNIT, dtype: int64"
            ]
          },
          "execution_count": 5,
          "metadata": {},
          "output_type": "execute_result"
        }
      ],
      "source": [
        "# Check units\n",
        "switch_vitals.groupby('OBSERVATION_NAME')['OBSERVATION_UNIT'].nunique()"
      ]
    },
    {
      "cell_type": "code",
      "execution_count": 9,
      "metadata": {
        "gather": {
          "logged": 1677240468924
        },
        "jupyter": {
          "outputs_hidden": false,
          "source_hidden": false
        },
        "nteract": {
          "transient": {
            "deleting": false
          }
        }
      },
      "outputs": [
        {
          "data": {
            "text/plain": [
              "array(['beats/minute'], dtype=object)"
            ]
          },
          "execution_count": 9,
          "metadata": {},
          "output_type": "execute_result"
        }
      ],
      "source": [
        "switch_vitals[switch_vitals['OBSERVATION_NAME'] == 'HR - SpO2 (AN)']['OBSERVATION_UNIT'].unique()"
      ]
    },
    {
      "cell_type": "code",
      "execution_count": 9,
      "metadata": {
        "gather": {
          "logged": 1677234030271
        },
        "jupyter": {
          "outputs_hidden": false,
          "source_hidden": false
        },
        "nteract": {
          "transient": {
            "deleting": false
          }
        }
      },
      "outputs": [
        {
          "data": {
            "text/plain": [
              "array(['breaths/minute', nan, 'beats/minute'], dtype=object)"
            ]
          },
          "execution_count": 9,
          "metadata": {},
          "output_type": "execute_result"
        }
      ],
      "source": [
        "switch_vitals[switch_vitals['OBSERVATION_NAME'] == 'Respiratory Rate']['OBSERVATION_UNIT'].unique()"
      ]
    },
    {
      "cell_type": "code",
      "execution_count": null,
      "metadata": {
        "gather": {
          "logged": 1677234143893
        },
        "jupyter": {
          "outputs_hidden": false,
          "source_hidden": false
        },
        "nteract": {
          "transient": {
            "deleting": false
          }
        }
      },
      "outputs": [],
      "source": [
        "switch_vitals[(switch_vitals['OBSERVATION_NAME'] == 'Respiratory Rate')&(switch_vitals['OBSERVATION_UNIT'] == 'breaths/minute')]"
      ]
    },
    {
      "cell_type": "code",
      "execution_count": null,
      "metadata": {
        "gather": {
          "logged": 1677234100526
        },
        "jupyter": {
          "outputs_hidden": false,
          "source_hidden": false
        },
        "nteract": {
          "transient": {
            "deleting": false
          }
        }
      },
      "outputs": [],
      "source": [
        "switch_vitals[(switch_vitals['OBSERVATION_NAME'] == 'Respiratory Rate')&(switch_vitals['OBSERVATION_UNIT'] == 'beats/minute')]"
      ]
    },
    {
      "cell_type": "code",
      "execution_count": null,
      "metadata": {
        "jupyter": {
          "outputs_hidden": false,
          "source_hidden": false
        },
        "nteract": {
          "transient": {
            "deleting": false
          }
        }
      },
      "outputs": [],
      "source": [
        "# Units seems ok "
      ]
    },
    {
      "cell_type": "code",
      "execution_count": 4,
      "metadata": {
        "gather": {
          "logged": 1687871670842
        },
        "jupyter": {
          "outputs_hidden": false,
          "source_hidden": false
        },
        "nteract": {
          "transient": {
            "deleting": false
          }
        }
      },
      "outputs": [],
      "source": [
        "# Rename some OBSERVATION_NAME\n",
        "switch_vitals['OBSERVATION_NAME'] = switch_vitals['OBSERVATION_NAME'].replace({'SpO2 (AN)': 'SpO2', 'SaO2%':'SpO2', 'Systolic Blood Pressure Cuff':'Systolic Blood Pressure', 'Diastolic Blood Pressure Cuff':'Diastolic Blood Pressure', 'Mean Arterial Pressure, Cuff': 'Mean Arterial Pressure', 'Mean Arterial Pressure, Invasive': 'Mean Arterial Pressure', 'HR - SpO2 (AN)': 'Heart Rate'})"
      ]
    },
    {
      "cell_type": "code",
      "execution_count": 10,
      "metadata": {
        "gather": {
          "logged": 1677686949610
        },
        "jupyter": {
          "outputs_hidden": false,
          "source_hidden": false
        },
        "nteract": {
          "transient": {
            "deleting": false
          }
        }
      },
      "outputs": [
        {
          "data": {
            "text/plain": [
              "10"
            ]
          },
          "execution_count": 10,
          "metadata": {},
          "output_type": "execute_result"
        },
        {
          "data": {
            "text/plain": [
              "array(['Temperature', 'Mean Arterial Pressure', 'Systolic Blood Pressure',\n",
              "       'Diastolic Blood Pressure', 'Heart Rate',\n",
              "       'NEWS Conscious Level Score', 'NEWS Supplemental Oxygen Calc',\n",
              "       'SpO2', 'Respiratory Rate', 'Glasgow Coma Score'], dtype=object)"
            ]
          },
          "execution_count": 10,
          "metadata": {},
          "output_type": "execute_result"
        }
      ],
      "source": [
        "switch_vitals['OBSERVATION_NAME'].nunique()\n",
        "switch_vitals['OBSERVATION_NAME'].unique()"
      ]
    },
    {
      "cell_type": "code",
      "execution_count": 5,
      "metadata": {
        "gather": {
          "logged": 1687871707047
        },
        "jupyter": {
          "outputs_hidden": false,
          "source_hidden": false
        },
        "nteract": {
          "transient": {
            "deleting": false
          }
        }
      },
      "outputs": [],
      "source": [
        "# Create date column for merge\n",
        "switch_vitals['date'] =  pd.to_datetime(switch_vitals['OBSERVATION_DATETIME']).dt.date"
      ]
    },
    {
      "cell_type": "code",
      "execution_count": 6,
      "metadata": {
        "gather": {
          "logged": 1687871709087
        },
        "jupyter": {
          "outputs_hidden": false,
          "source_hidden": false
        },
        "nteract": {
          "transient": {
            "deleting": false
          }
        }
      },
      "outputs": [],
      "source": [
        "# Conver to datetime \n",
        "switch_vitals['date'] =  pd.to_datetime(switch_vitals['date'])\n",
        "antibiotic_df['ADMINISTRATION_DATETIME'] =  pd.to_datetime(antibiotic_df['ADMINISTRATION_DATETIME'])"
      ]
    },
    {
      "cell_type": "code",
      "execution_count": 7,
      "metadata": {
        "gather": {
          "logged": 1687871714620
        },
        "jupyter": {
          "outputs_hidden": false,
          "source_hidden": false
        },
        "nteract": {
          "transient": {
            "deleting": false
          }
        }
      },
      "outputs": [],
      "source": [
        "# Merge\n",
        "antibiotic_vitals = pd.merge(antibiotic_df, switch_vitals, left_on=['SUBJECT', 'ADMINISTRATION_DATETIME'], right_on=['SUBJECT', 'date'])"
      ]
    },
    {
      "cell_type": "code",
      "execution_count": 14,
      "metadata": {
        "gather": {
          "logged": 1677697675242
        },
        "jupyter": {
          "outputs_hidden": false,
          "source_hidden": false
        },
        "nteract": {
          "transient": {
            "deleting": false
          }
        }
      },
      "outputs": [
        {
          "data": {
            "text/plain": [
              "9100"
            ]
          },
          "execution_count": 14,
          "metadata": {},
          "output_type": "execute_result"
        },
        {
          "data": {
            "text/plain": [
              "10134"
            ]
          },
          "execution_count": 14,
          "metadata": {},
          "output_type": "execute_result"
        }
      ],
      "source": [
        "antibiotic_vitals.SUBJECT.nunique()\n",
        "antibiotic_vitals.SPELL_IDENTIFIER.nunique()"
      ]
    },
    {
      "cell_type": "code",
      "execution_count": 28,
      "metadata": {
        "gather": {
          "logged": 1677235693041
        },
        "jupyter": {
          "outputs_hidden": false,
          "source_hidden": false
        },
        "nteract": {
          "transient": {
            "deleting": false
          }
        }
      },
      "outputs": [
        {
          "data": {
            "text/plain": [
              "Index(['SUBJECT', 'SPELL_IDENTIFIER', 'ADMISSION_DATE_TIME', 'DISCHARGE_DATE_TIME', 'ADMINISTRATION_DATETIME', 'ROUTE', 'po_flag', 'iv_treatment_length', 'OBSERVATION_CODE', 'OBSERVATION_NAME', 'OBSERVATION_DATETIME', 'OBSERVATION_START_DATETIME', 'OBSERVATION_END_DATETIME', 'OBSERVATION_RESULT', 'OBSERVATION_RESULT_CLEAN', 'OBSERVATION_UNIT', 'date'], dtype='object')"
            ]
          },
          "execution_count": 28,
          "metadata": {},
          "output_type": "execute_result"
        }
      ],
      "source": [
        "antibiotic_vitals.columns"
      ]
    },
    {
      "cell_type": "code",
      "execution_count": 8,
      "metadata": {
        "gather": {
          "logged": 1687871719912
        },
        "jupyter": {
          "outputs_hidden": false,
          "source_hidden": false
        },
        "nteract": {
          "transient": {
            "deleting": false
          }
        }
      },
      "outputs": [],
      "source": [
        "# Filter columns\n",
        "antibiotic_vitals = antibiotic_vitals[['SUBJECT', 'SPELL_IDENTIFIER', 'ADMINISTRATION_DATETIME', 'ROUTE', 'po_flag', 'iv_treatment_length', 'OBSERVATION_NAME', 'OBSERVATION_DATETIME', 'OBSERVATION_RESULT_CLEAN', 'date']]"
      ]
    },
    {
      "cell_type": "code",
      "execution_count": 9,
      "metadata": {
        "gather": {
          "logged": 1687871727202
        },
        "jupyter": {
          "outputs_hidden": false,
          "source_hidden": false
        },
        "nteract": {
          "transient": {
            "deleting": false
          }
        }
      },
      "outputs": [],
      "source": [
        "# Order\n",
        "antibiotic_vitals.sort_values(by=['SUBJECT', 'SPELL_IDENTIFIER', 'ADMINISTRATION_DATETIME', 'OBSERVATION_NAME', 'OBSERVATION_DATETIME'], inplace=True)"
      ]
    },
    {
      "cell_type": "code",
      "execution_count": 10,
      "metadata": {
        "gather": {
          "logged": 1687871728263
        },
        "jupyter": {
          "outputs_hidden": false,
          "source_hidden": false
        },
        "nteract": {
          "transient": {
            "deleting": false
          }
        }
      },
      "outputs": [],
      "source": [
        "# Reset index\n",
        "antibiotic_vitals.reset_index(drop=True, inplace=True)"
      ]
    },
    {
      "cell_type": "code",
      "execution_count": 18,
      "metadata": {
        "gather": {
          "logged": 1677697709418
        },
        "jupyter": {
          "outputs_hidden": false,
          "source_hidden": false
        },
        "nteract": {
          "transient": {
            "deleting": false
          }
        }
      },
      "outputs": [
        {
          "data": {
            "text/plain": [
              "5.552622195272173"
            ]
          },
          "execution_count": 18,
          "metadata": {},
          "output_type": "execute_result"
        }
      ],
      "source": [
        "# Mean number of observations per stay per observation per day\n",
        "antibiotic_vitals.groupby(['SPELL_IDENTIFIER', 'OBSERVATION_NAME', 'date']).size().mean()"
      ]
    },
    {
      "cell_type": "code",
      "execution_count": 23,
      "metadata": {
        "gather": {
          "logged": 1677692498323
        },
        "jupyter": {
          "outputs_hidden": false,
          "source_hidden": false
        },
        "nteract": {
          "transient": {
            "deleting": false
          }
        }
      },
      "outputs": [
        {
          "data": {
            "text/plain": [
              "OBSERVATION_NAME\n",
              "Diastolic Blood Pressure         6.331618\n",
              "Glasgow Coma Score               2.871955\n",
              "Heart Rate                       6.421748\n",
              "Mean Arterial Pressure           5.853772\n",
              "NEWS Conscious Level Score       3.287533\n",
              "NEWS Supplemental Oxygen Calc    3.284980\n",
              "Respiratory Rate                 6.152422\n",
              "SpO2                             6.273301\n",
              "Systolic Blood Pressure          6.332756\n",
              "Temperature                      5.544472\n",
              "Name: 0, dtype: float64"
            ]
          },
          "execution_count": 23,
          "metadata": {},
          "output_type": "execute_result"
        }
      ],
      "source": [
        "# Mean number of observations per day for each observation type\n",
        "pd.DataFrame(antibiotic_vitals.groupby(['SPELL_IDENTIFIER', 'OBSERVATION_NAME', 'date']).size().reset_index()).groupby('OBSERVATION_NAME')[0].mean()"
      ]
    },
    {
      "cell_type": "code",
      "execution_count": null,
      "metadata": {
        "gather": {
          "logged": 1677697714747
        },
        "jupyter": {
          "outputs_hidden": false,
          "source_hidden": false
        },
        "nteract": {
          "transient": {
            "deleting": false
          }
        }
      },
      "outputs": [],
      "source": [
        "# Create hour column\n",
        "antibiotic_vitals['hour'] =  pd.to_datetime(antibiotic_vitals['OBSERVATION_DATETIME']).dt.hour"
      ]
    },
    {
      "cell_type": "code",
      "execution_count": 25,
      "metadata": {
        "gather": {
          "logged": 1677692512581
        },
        "jupyter": {
          "outputs_hidden": false,
          "source_hidden": false
        },
        "nteract": {
          "transient": {
            "deleting": false
          }
        }
      },
      "outputs": [
        {
          "data": {
            "text/plain": [
              "hour\n",
              "0     1.180377\n",
              "1     1.122415\n",
              "2     1.134049\n",
              "3     1.209125\n",
              "4     1.224128\n",
              "5     1.065309\n",
              "6     1.051953\n",
              "7     1.128873\n",
              "8     1.109344\n",
              "9     1.071106\n",
              "10    1.081173\n",
              "11    1.172531\n",
              "12    1.248718\n",
              "13    1.194278\n",
              "14    1.243992\n",
              "15    1.291801\n",
              "16    1.196338\n",
              "17    1.177652\n",
              "18    1.219734\n",
              "19    1.320787\n",
              "20    1.089730\n",
              "21    1.066465\n",
              "22    1.130438\n",
              "23    1.235142\n",
              "Name: 0, dtype: float64"
            ]
          },
          "execution_count": 25,
          "metadata": {},
          "output_type": "execute_result"
        }
      ],
      "source": [
        "# Mean number of observations per hour\n",
        "pd.DataFrame(antibiotic_vitals.groupby(['SPELL_IDENTIFIER', 'OBSERVATION_NAME', 'date', 'hour']).size().reset_index()).groupby('hour')[0].mean()"
      ]
    },
    {
      "cell_type": "code",
      "execution_count": 26,
      "metadata": {
        "gather": {
          "logged": 1677692517564
        },
        "jupyter": {
          "outputs_hidden": false,
          "source_hidden": false
        },
        "nteract": {
          "transient": {
            "deleting": false
          }
        }
      },
      "outputs": [
        {
          "data": {
            "text/plain": [
              "hour\n",
              "0      7079.9\n",
              "1      9040.6\n",
              "2      8120.7\n",
              "3      4622.0\n",
              "4      4725.5\n",
              "5     13990.7\n",
              "6     24358.7\n",
              "7      9712.6\n",
              "8      6088.3\n",
              "9     16009.5\n",
              "10    19306.5\n",
              "11    10317.1\n",
              "12     8621.9\n",
              "13    12999.0\n",
              "14    12692.2\n",
              "15    10796.1\n",
              "16    16309.2\n",
              "17    18206.5\n",
              "18    15217.4\n",
              "19     9583.1\n",
              "20    17261.0\n",
              "21    21499.5\n",
              "22     9224.6\n",
              "23     5411.9\n",
              "Name: 0, dtype: float64"
            ]
          },
          "execution_count": 26,
          "metadata": {},
          "output_type": "execute_result"
        }
      ],
      "source": [
        "# Number of observations per hour\n",
        "pd.DataFrame(antibiotic_vitals.groupby(['OBSERVATION_NAME', 'hour']).size().reset_index()).groupby('hour')[0].mean()"
      ]
    },
    {
      "cell_type": "code",
      "execution_count": 21,
      "metadata": {
        "gather": {
          "logged": 1677496494653
        },
        "jupyter": {
          "outputs_hidden": false,
          "source_hidden": false
        },
        "nteract": {
          "transient": {
            "deleting": false
          }
        }
      },
      "outputs": [
        {
          "data": {
            "text/plain": [
              "8571.333333333334"
            ]
          },
          "execution_count": 21,
          "metadata": {},
          "output_type": "execute_result"
        },
        {
          "data": {
            "text/plain": [
              "15607.216666666667"
            ]
          },
          "execution_count": 21,
          "metadata": {},
          "output_type": "execute_result"
        },
        {
          "data": {
            "text/plain": [
              "14423.533333333333"
            ]
          },
          "execution_count": 21,
          "metadata": {},
          "output_type": "execute_result"
        },
        {
          "data": {
            "text/plain": [
              "14194.85"
            ]
          },
          "execution_count": 21,
          "metadata": {},
          "output_type": "execute_result"
        }
      ],
      "source": [
        "# Mean for 6 hours grouped -- see less observations overnight\n",
        "(7626.1+9715.1+8786.4+4954.0+5068.0+15278.4)/6\n",
        "(26734.4+10552.3+6546.3+17460.1+21116.2+11234.0)/6\n",
        "(9297.1+14091.4+13742.0+11724.9+17848.6+19837.2)/6\n",
        "(16548.7+10329.6+18946.5+23524.2+10012.0+5808.1)/6"
      ]
    },
    {
      "cell_type": "code",
      "execution_count": null,
      "metadata": {
        "jupyter": {
          "outputs_hidden": false,
          "source_hidden": false
        },
        "nteract": {
          "transient": {
            "deleting": false
          }
        }
      },
      "outputs": [],
      "source": [
        "# Will tackle iregularrly spaced timeseries by agregating by 6 hours so 4 readings a day and forward fill if needed "
      ]
    },
    {
      "cell_type": "code",
      "execution_count": 21,
      "metadata": {
        "gather": {
          "logged": 1677697729120
        },
        "jupyter": {
          "outputs_hidden": false,
          "source_hidden": false
        },
        "nteract": {
          "transient": {
            "deleting": false
          }
        }
      },
      "outputs": [],
      "source": [
        "def hours_grouped_fun(row):\n",
        "    if row['hour'] < 6:\n",
        "        return 1\n",
        "    elif row['hour'] < 12:\n",
        "        return 2\n",
        "    elif row['hour'] < 18:\n",
        "        return 3\n",
        "    elif row['hour'] < 24:\n",
        "        return 4"
      ]
    },
    {
      "cell_type": "code",
      "execution_count": null,
      "metadata": {
        "gather": {
          "logged": 1677697768164
        },
        "jupyter": {
          "outputs_hidden": false,
          "source_hidden": false
        },
        "nteract": {
          "transient": {
            "deleting": false
          }
        }
      },
      "outputs": [],
      "source": [
        "antibiotic_vitals['hours_grouped'] = antibiotic_vitals.apply(hours_grouped_fun, axis=1)"
      ]
    },
    {
      "cell_type": "code",
      "execution_count": 24,
      "metadata": {
        "gather": {
          "logged": 1677697781263
        },
        "jupyter": {
          "outputs_hidden": false,
          "source_hidden": false
        },
        "nteract": {
          "transient": {
            "deleting": false
          }
        }
      },
      "outputs": [],
      "source": [
        "# Pivot\n",
        "antibiotic_vitals_pivoted = pd.pivot_table(antibiotic_vitals, index=['SPELL_IDENTIFIER', 'date', 'hours_grouped'], columns=['OBSERVATION_NAME'], values=['OBSERVATION_RESULT_CLEAN'])\n",
        "antibiotic_vitals_pivoted.columns = antibiotic_vitals_pivoted.columns.droplevel()"
      ]
    },
    {
      "cell_type": "code",
      "execution_count": 26,
      "metadata": {
        "gather": {
          "logged": 1677697792478
        },
        "jupyter": {
          "outputs_hidden": false,
          "source_hidden": false
        },
        "nteract": {
          "transient": {
            "deleting": false
          }
        }
      },
      "outputs": [],
      "source": [
        "def add_all_hours_grouped(df):\n",
        "    final_new_df = pd.DataFrame(columns=df.columns)\n",
        "    spell_list = df['SPELL_IDENTIFIER'].unique().tolist()\n",
        "    for spell in spell_list:\n",
        "        temp_df = df[df['SPELL_IDENTIFIER'] == spell]\n",
        "        temp_df.reset_index(drop=True, inplace=True)\n",
        "        # Convert to str\n",
        "        temp_df['date'] = temp_df['date'].astype(str)\n",
        "        date_list = temp_df['date'].unique().tolist()\n",
        "        for x in range(len(date_list)):\n",
        "            temp_df2 = temp_df[temp_df['date'].isin([date_list[x]])]\n",
        "            temp_df2.reset_index(drop=True, inplace=True)\n",
        "            new_df = pd.DataFrame(columns=temp_df2.columns)\n",
        "            if x == 0:\n",
        "                for i in range(temp_df2['hours_grouped'].iloc[0],5):\n",
        "                    day_df = temp_df2[temp_df2['hours_grouped'] == i]\n",
        "                    if day_df.empty:\n",
        "                        new_df.loc[i] = np.nan\n",
        "                        new_df.loc[i, 'hours_grouped'] = i\n",
        "                        new_df.loc[i, 'SPELL_IDENTIFIER'] = temp_df2.iloc[0]['SPELL_IDENTIFIER']\n",
        "                        new_df.loc[i, 'date'] = temp_df2.iloc[0]['date']\n",
        "                    else:\n",
        "                        new_df = pd.concat([new_df, temp_df2[temp_df2['hours_grouped'] == i]])\n",
        "                    \n",
        "            elif x == len(date_list) - 1:\n",
        "                for i in range(1,temp_df2['hours_grouped'].iloc[-1]+1):\n",
        "                    day_df = temp_df2[temp_df2['hours_grouped'] == i]\n",
        "                    if day_df.empty:\n",
        "                        new_df.loc[i] = np.nan\n",
        "                        new_df.loc[i, 'hours_grouped'] = i\n",
        "                        new_df.loc[i, 'SPELL_IDENTIFIER'] = temp_df2.iloc[0]['SPELL_IDENTIFIER']\n",
        "                        new_df.loc[i, 'date'] = temp_df2.iloc[0]['date']\n",
        "                    else:\n",
        "                        new_df = pd.concat([new_df, temp_df2[temp_df2['hours_grouped'] == i]])\n",
        "            else:\n",
        "                for i in range(1,5):\n",
        "                    day_df = temp_df2[temp_df2['hours_grouped'] == i]\n",
        "                    if day_df.empty:\n",
        "                        new_df.loc[i] = np.nan\n",
        "                        new_df.loc[i, 'hours_grouped'] = i\n",
        "                        new_df.loc[i, 'SPELL_IDENTIFIER'] = temp_df2.iloc[0]['SPELL_IDENTIFIER']\n",
        "                        new_df.loc[i, 'date'] = temp_df2.iloc[0]['date']\n",
        "                    else:\n",
        "                        new_df = pd.concat([new_df, temp_df2[temp_df2['hours_grouped'] == i]])\n",
        "            final_new_df = pd.concat([final_new_df, new_df], ignore_index=True)\n",
        "    return final_new_df"
      ]
    },
    {
      "cell_type": "code",
      "execution_count": null,
      "metadata": {
        "gather": {
          "logged": 1677698575783
        },
        "jupyter": {
          "outputs_hidden": false,
          "source_hidden": false
        },
        "nteract": {
          "transient": {
            "deleting": false
          }
        }
      },
      "outputs": [],
      "source": [
        "antibiotic_vitals_pivoted_2 = add_all_hours_grouped(antibiotic_vitals_pivoted.reset_index())"
      ]
    },
    {
      "cell_type": "code",
      "execution_count": 29,
      "metadata": {
        "gather": {
          "logged": 1677699561641
        },
        "jupyter": {
          "outputs_hidden": false,
          "source_hidden": false
        },
        "nteract": {
          "transient": {
            "deleting": false
          }
        }
      },
      "outputs": [
        {
          "data": {
            "text/plain": [
              "2    56628\n",
              "3    55842\n",
              "1    53745\n",
              "4    53332\n",
              "Name: hours_grouped, dtype: int64"
            ]
          },
          "execution_count": 29,
          "metadata": {},
          "output_type": "execute_result"
        }
      ],
      "source": [
        "antibiotic_vitals_pivoted_2.hours_grouped.value_counts()"
      ]
    },
    {
      "cell_type": "code",
      "execution_count": 30,
      "metadata": {
        "gather": {
          "logged": 1677699568681
        },
        "jupyter": {
          "outputs_hidden": false,
          "source_hidden": false
        },
        "nteract": {
          "transient": {
            "deleting": false
          }
        }
      },
      "outputs": [
        {
          "name": "stdout",
          "output_type": "stream",
          "text": [
            "<class 'pandas.core.frame.DataFrame'>\n",
            "RangeIndex: 219547 entries, 0 to 219546\n",
            "Data columns (total 13 columns):\n",
            " #   Column                         Non-Null Count   Dtype  \n",
            "---  ------                         --------------   -----  \n",
            " 0   SPELL_IDENTIFIER               219547 non-null  object \n",
            " 1   date                           219547 non-null  object \n",
            " 2   hours_grouped                  219547 non-null  object \n",
            " 3   Diastolic Blood Pressure       189565 non-null  float64\n",
            " 4   Glasgow Coma Score             26260 non-null   float64\n",
            " 5   Heart Rate                     189980 non-null  float64\n",
            " 6   Mean Arterial Pressure         181730 non-null  float64\n",
            " 7   NEWS Conscious Level Score     107827 non-null  float64\n",
            " 8   NEWS Supplemental Oxygen Calc  107714 non-null  float64\n",
            " 9   Respiratory Rate               188068 non-null  float64\n",
            " 10  SpO2                           188812 non-null  float64\n",
            " 11  Systolic Blood Pressure        189579 non-null  float64\n",
            " 12  Temperature                    188922 non-null  float64\n",
            "dtypes: float64(10), object(3)\n",
            "memory usage: 21.8+ MB\n"
          ]
        }
      ],
      "source": [
        "antibiotic_vitals_pivoted_2.info()"
      ]
    },
    {
      "cell_type": "code",
      "execution_count": 47,
      "metadata": {
        "gather": {
          "logged": 1677499524055
        },
        "jupyter": {
          "outputs_hidden": false,
          "source_hidden": false
        },
        "nteract": {
          "transient": {
            "deleting": false
          }
        }
      },
      "outputs": [
        {
          "data": {
            "text/plain": [
              "Index(['SPELL_IDENTIFIER', 'date', 'hours_grouped', 'Diastolic Blood Pressure', 'Glasgow Coma Score', 'Heart Rate', 'Mean Arterial Pressure', 'NEWS Conscious Level Score', 'NEWS Supplemental Oxygen Calc', 'Respiratory Rate', 'SpO2', 'Systolic Blood Pressure', 'Temperature'], dtype='object', name='OBSERVATION_NAME')"
            ]
          },
          "execution_count": 47,
          "metadata": {},
          "output_type": "execute_result"
        }
      ],
      "source": [
        "antibiotic_vitals_pivoted_2.columns"
      ]
    },
    {
      "cell_type": "code",
      "execution_count": null,
      "metadata": {
        "gather": {
          "logged": 1677699576592
        },
        "jupyter": {
          "outputs_hidden": false,
          "source_hidden": false
        },
        "nteract": {
          "transient": {
            "deleting": false
          }
        }
      },
      "outputs": [],
      "source": [
        "# Forward fill\n",
        "antibiotic_vitals_pivoted_3 = antibiotic_vitals_pivoted_2.groupby(['SPELL_IDENTIFIER'])['Diastolic Blood Pressure', 'Glasgow Coma Score', 'Heart Rate', 'Mean Arterial Pressure', 'NEWS Conscious Level Score', 'NEWS Supplemental Oxygen Calc', 'Respiratory Rate', 'SpO2', 'Systolic Blood Pressure', 'Temperature'].ffill()\n",
        "antibiotic_vitals_pivoted_3 = antibiotic_vitals_pivoted_2[['SPELL_IDENTIFIER', 'date', 'hours_grouped']].join(antibiotic_vitals_pivoted_3)"
      ]
    },
    {
      "cell_type": "code",
      "execution_count": 33,
      "metadata": {
        "gather": {
          "logged": 1677699599692
        },
        "jupyter": {
          "outputs_hidden": false,
          "source_hidden": false
        },
        "nteract": {
          "transient": {
            "deleting": false
          }
        }
      },
      "outputs": [
        {
          "data": {
            "text/plain": [
              "3.0    3389\n",
              "2.0    3330\n",
              "4.0    3287\n",
              "1.0     128\n",
              "Name: hours_grouped, dtype: int64"
            ]
          },
          "execution_count": 33,
          "metadata": {},
          "output_type": "execute_result"
        }
      ],
      "source": [
        "antibiotic_vitals_pivoted_3.drop_duplicates(subset=['SPELL_IDENTIFIER'], keep='last')['hours_grouped'].value_counts()"
      ]
    },
    {
      "cell_type": "code",
      "execution_count": null,
      "metadata": {
        "jupyter": {
          "outputs_hidden": false,
          "source_hidden": false
        },
        "nteract": {
          "transient": {
            "deleting": false
          }
        }
      },
      "outputs": [],
      "source": [
        "# Do prediction at 24 hours, 48 hours and then daily afterwards with data up to midday (hours grouped 2)\n",
        "# If midday data not available then just use up to hours groups 1"
      ]
    },
    {
      "cell_type": "code",
      "execution_count": null,
      "metadata": {
        "jupyter": {
          "outputs_hidden": false,
          "source_hidden": false
        },
        "nteract": {
          "transient": {
            "deleting": false
          }
        }
      },
      "outputs": [],
      "source": [
        "# Remove those with less than 24 hours of data"
      ]
    },
    {
      "cell_type": "code",
      "execution_count": 83,
      "metadata": {
        "gather": {
          "logged": 1677508543425
        },
        "jupyter": {
          "outputs_hidden": false,
          "source_hidden": false
        },
        "nteract": {
          "transient": {
            "deleting": false
          }
        }
      },
      "outputs": [
        {
          "data": {
            "text/plain": [
              "10538"
            ]
          },
          "execution_count": 83,
          "metadata": {},
          "output_type": "execute_result"
        }
      ],
      "source": [
        "len((antibiotic_vitals_pivoted_3.groupby('SPELL_IDENTIFIER').size() > 3).where(lambda x : x == True).dropna().reset_index()['SPELL_IDENTIFIER'].to_list())"
      ]
    },
    {
      "cell_type": "code",
      "execution_count": 34,
      "metadata": {
        "gather": {
          "logged": 1677699637467
        },
        "jupyter": {
          "outputs_hidden": false,
          "source_hidden": false
        },
        "nteract": {
          "transient": {
            "deleting": false
          }
        }
      },
      "outputs": [],
      "source": [
        "antibiotic_vitals_pivoted_4 = antibiotic_vitals_pivoted_3[antibiotic_vitals_pivoted_3['SPELL_IDENTIFIER'].isin((antibiotic_vitals_pivoted_3.groupby('SPELL_IDENTIFIER').size() > 3).where(lambda x : x == True).dropna().reset_index()['SPELL_IDENTIFIER'].to_list())]"
      ]
    },
    {
      "cell_type": "code",
      "execution_count": 35,
      "metadata": {
        "gather": {
          "logged": 1677699643484
        },
        "jupyter": {
          "outputs_hidden": false,
          "source_hidden": false
        },
        "nteract": {
          "transient": {
            "deleting": false
          }
        }
      },
      "outputs": [
        {
          "data": {
            "text/plain": [
              "10007"
            ]
          },
          "execution_count": 35,
          "metadata": {},
          "output_type": "execute_result"
        }
      ],
      "source": [
        "antibiotic_vitals_pivoted_4['SPELL_IDENTIFIER'].nunique()"
      ]
    },
    {
      "cell_type": "code",
      "execution_count": 36,
      "metadata": {
        "gather": {
          "logged": 1677699651568
        },
        "jupyter": {
          "outputs_hidden": false,
          "source_hidden": false
        },
        "nteract": {
          "transient": {
            "deleting": false
          }
        }
      },
      "outputs": [],
      "source": [
        "antibiotic_vitals_pivoted_4.reset_index(inplace=True, drop=True)"
      ]
    },
    {
      "cell_type": "code",
      "execution_count": 38,
      "metadata": {
        "gather": {
          "logged": 1677699702029
        },
        "jupyter": {
          "outputs_hidden": false,
          "source_hidden": false
        },
        "nteract": {
          "transient": {
            "deleting": false
          }
        }
      },
      "outputs": [],
      "source": [
        "# Save\n",
        "#antibiotic_vitals_pivoted_4.to_csv('switch_data/antibiotic_vitals.csv', index=False)"
      ]
    },
    {
      "cell_type": "code",
      "execution_count": 2,
      "metadata": {
        "gather": {
          "logged": 1677858761754
        },
        "jupyter": {
          "outputs_hidden": false,
          "source_hidden": false
        },
        "nteract": {
          "transient": {
            "deleting": false
          }
        }
      },
      "outputs": [],
      "source": [
        "# Import\n",
        "path = r'switch_data/antibiotic_vitals.csv'\n",
        "antibiotic_vitals_pivoted_4 = pd.read_csv(path)\n",
        "antibiotic_vitals_pivoted_4['hours_grouped'] = antibiotic_vitals_pivoted_4['hours_grouped'].astype(int) # Needs to be type int for c22 to work"
      ]
    },
    {
      "cell_type": "code",
      "execution_count": null,
      "metadata": {
        "jupyter": {
          "outputs_hidden": false,
          "source_hidden": false
        },
        "nteract": {
          "transient": {
            "deleting": false
          }
        }
      },
      "outputs": [],
      "source": [
        "### 24 hours ###"
      ]
    },
    {
      "cell_type": "code",
      "execution_count": 6,
      "metadata": {
        "gather": {
          "logged": 1677760068839
        },
        "jupyter": {
          "outputs_hidden": false,
          "source_hidden": false
        },
        "nteract": {
          "transient": {
            "deleting": false
          }
        }
      },
      "outputs": [],
      "source": [
        "c22_24 = antibiotic_vitals_pivoted_4.groupby('SPELL_IDENTIFIER').head(4)\n",
        "c22_24.set_index(['SPELL_IDENTIFIER', 'date', 'hours_grouped'] ,inplace=True, drop=True)"
      ]
    },
    {
      "cell_type": "code",
      "execution_count": null,
      "metadata": {
        "jupyter": {
          "outputs_hidden": false,
          "source_hidden": false
        },
        "nteract": {
          "transient": {
            "deleting": false
          }
        }
      },
      "outputs": [],
      "source": [
        "### 48 hours ###"
      ]
    },
    {
      "cell_type": "code",
      "execution_count": 7,
      "metadata": {
        "gather": {
          "logged": 1677760071195
        },
        "jupyter": {
          "outputs_hidden": false,
          "source_hidden": false
        },
        "nteract": {
          "transient": {
            "deleting": false
          }
        }
      },
      "outputs": [],
      "source": [
        "# Define\n",
        "c22_48 = antibiotic_vitals_pivoted_4.groupby('SPELL_IDENTIFIER').head(8)"
      ]
    },
    {
      "cell_type": "code",
      "execution_count": 11,
      "metadata": {
        "gather": {
          "logged": 1677754912581
        },
        "jupyter": {
          "outputs_hidden": false,
          "source_hidden": false
        },
        "nteract": {
          "transient": {
            "deleting": false
          }
        }
      },
      "outputs": [
        {
          "data": {
            "text/plain": [
              "10007"
            ]
          },
          "execution_count": 11,
          "metadata": {},
          "output_type": "execute_result"
        }
      ],
      "source": [
        "c22_48['SPELL_IDENTIFIER'].nunique()"
      ]
    },
    {
      "cell_type": "code",
      "execution_count": 8,
      "metadata": {
        "gather": {
          "logged": 1677760073378
        },
        "jupyter": {
          "outputs_hidden": false,
          "source_hidden": false
        },
        "nteract": {
          "transient": {
            "deleting": false
          }
        }
      },
      "outputs": [],
      "source": [
        "# Remove those without enough data\n",
        "c22_48 = c22_48[c22_48['SPELL_IDENTIFIER'].isin((c22_48.groupby('SPELL_IDENTIFIER').size() > 7).where(lambda x : x == True).dropna().reset_index()['SPELL_IDENTIFIER'].to_list())]"
      ]
    },
    {
      "cell_type": "code",
      "execution_count": 13,
      "metadata": {
        "gather": {
          "logged": 1677754920667
        },
        "jupyter": {
          "outputs_hidden": false,
          "source_hidden": false
        },
        "nteract": {
          "transient": {
            "deleting": false
          }
        }
      },
      "outputs": [
        {
          "data": {
            "text/plain": [
              "8869"
            ]
          },
          "execution_count": 13,
          "metadata": {},
          "output_type": "execute_result"
        }
      ],
      "source": [
        "c22_48['SPELL_IDENTIFIER'].nunique()"
      ]
    },
    {
      "cell_type": "code",
      "execution_count": 9,
      "metadata": {
        "gather": {
          "logged": 1677760075542
        },
        "jupyter": {
          "outputs_hidden": false,
          "source_hidden": false
        },
        "nteract": {
          "transient": {
            "deleting": false
          }
        }
      },
      "outputs": [],
      "source": [
        "# Set index\n",
        "c22_48.set_index(['SPELL_IDENTIFIER', 'date', 'hours_grouped'] ,inplace=True, drop=True)"
      ]
    },
    {
      "cell_type": "code",
      "execution_count": 15,
      "metadata": {
        "gather": {
          "logged": 1677754934570
        },
        "jupyter": {
          "outputs_hidden": false,
          "source_hidden": false
        },
        "nteract": {
          "transient": {
            "deleting": false
          }
        }
      },
      "outputs": [
        {
          "data": {
            "text/plain": [
              "Series([], dtype: float64)"
            ]
          },
          "execution_count": 15,
          "metadata": {},
          "output_type": "execute_result"
        },
        {
          "data": {
            "text/plain": [
              "Series([], dtype: float64)"
            ]
          },
          "execution_count": 15,
          "metadata": {},
          "output_type": "execute_result"
        },
        {
          "data": {
            "text/plain": [
              "8"
            ]
          },
          "execution_count": 15,
          "metadata": {},
          "output_type": "execute_result"
        },
        {
          "data": {
            "text/plain": [
              "8"
            ]
          },
          "execution_count": 15,
          "metadata": {},
          "output_type": "execute_result"
        },
        {
          "data": {
            "text/plain": [
              "8869"
            ]
          },
          "execution_count": 15,
          "metadata": {},
          "output_type": "execute_result"
        }
      ],
      "source": [
        "(c22_48.groupby('SPELL_IDENTIFIER').size() < 4).where(lambda x : x == True).dropna()\n",
        "(c22_48.groupby('SPELL_IDENTIFIER').size() > 8).where(lambda x : x == True).dropna()\n",
        "(c22_48.groupby('SPELL_IDENTIFIER').size().min())\n",
        "(c22_48.groupby('SPELL_IDENTIFIER').size().max())\n",
        "len((c22_48.groupby('SPELL_IDENTIFIER').size() > 7).where(lambda x : x == True).dropna())\n"
      ]
    },
    {
      "cell_type": "code",
      "execution_count": null,
      "metadata": {
        "jupyter": {
          "outputs_hidden": false,
          "source_hidden": false
        },
        "nteract": {
          "transient": {
            "deleting": false
          }
        }
      },
      "outputs": [],
      "source": [
        "# Other days"
      ]
    },
    {
      "cell_type": "code",
      "execution_count": 3,
      "metadata": {
        "gather": {
          "logged": 1677858768217
        },
        "jupyter": {
          "outputs_hidden": false,
          "source_hidden": false
        },
        "nteract": {
          "transient": {
            "deleting": false
          }
        }
      },
      "outputs": [],
      "source": [
        "# Remove those without enough data\n",
        "c22_other = antibiotic_vitals_pivoted_4[antibiotic_vitals_pivoted_4['SPELL_IDENTIFIER'].isin((antibiotic_vitals_pivoted_4.groupby('SPELL_IDENTIFIER').size() > 8).where(lambda x : x == True).dropna().reset_index()['SPELL_IDENTIFIER'].to_list())]"
      ]
    },
    {
      "cell_type": "code",
      "execution_count": 19,
      "metadata": {
        "gather": {
          "logged": 1677755034084
        },
        "jupyter": {
          "outputs_hidden": false,
          "source_hidden": false
        },
        "nteract": {
          "transient": {
            "deleting": false
          }
        }
      },
      "outputs": [
        {
          "data": {
            "text/plain": [
              "8643"
            ]
          },
          "execution_count": 19,
          "metadata": {},
          "output_type": "execute_result"
        }
      ],
      "source": [
        "c22_other['SPELL_IDENTIFIER'].nunique()"
      ]
    },
    {
      "cell_type": "code",
      "execution_count": 4,
      "metadata": {
        "gather": {
          "logged": 1677858771173
        },
        "jupyter": {
          "outputs_hidden": false,
          "source_hidden": false
        },
        "nteract": {
          "transient": {
            "deleting": false
          }
        }
      },
      "outputs": [],
      "source": [
        "# Set index\n",
        "c22_other.set_index(['SPELL_IDENTIFIER', 'date', 'hours_grouped'] ,inplace=True, drop=True)"
      ]
    },
    {
      "cell_type": "code",
      "execution_count": null,
      "metadata": {
        "jupyter": {
          "outputs_hidden": false,
          "source_hidden": false
        },
        "nteract": {
          "transient": {
            "deleting": false
          }
        }
      },
      "outputs": [],
      "source": [
        "# c22"
      ]
    },
    {
      "cell_type": "code",
      "execution_count": 23,
      "metadata": {
        "gather": {
          "logged": 1677755058644
        },
        "jupyter": {
          "outputs_hidden": false,
          "source_hidden": false
        },
        "nteract": {
          "transient": {
            "deleting": false
          }
        }
      },
      "outputs": [
        {
          "data": {
            "text/plain": [
              "True"
            ]
          },
          "execution_count": 23,
          "metadata": {},
          "output_type": "execute_result"
        }
      ],
      "source": [
        "from sktime.datatypes import check_raise\n",
        "check_raise(c22_24, 'pd_multiindex_hier')"
      ]
    },
    {
      "cell_type": "code",
      "execution_count": 25,
      "metadata": {
        "gather": {
          "logged": 1677755089299
        },
        "jupyter": {
          "outputs_hidden": false,
          "source_hidden": false
        },
        "nteract": {
          "transient": {
            "deleting": false
          }
        }
      },
      "outputs": [
        {
          "data": {
            "text/plain": [
              "10007"
            ]
          },
          "execution_count": 25,
          "metadata": {},
          "output_type": "execute_result"
        }
      ],
      "source": [
        "c22_24.index.levels[0].nunique()"
      ]
    },
    {
      "cell_type": "code",
      "execution_count": 34,
      "metadata": {
        "gather": {
          "logged": 1677755154288
        },
        "jupyter": {
          "outputs_hidden": false,
          "source_hidden": false
        },
        "nteract": {
          "transient": {
            "deleting": false
          }
        }
      },
      "outputs": [],
      "source": [
        "from sktime.transformations.panel.catch22 import Catch22"
      ]
    },
    {
      "cell_type": "code",
      "execution_count": 32,
      "metadata": {
        "gather": {
          "logged": 1677755149247
        },
        "jupyter": {
          "outputs_hidden": false,
          "source_hidden": false
        },
        "nteract": {
          "transient": {
            "deleting": false
          }
        }
      },
      "outputs": [],
      "source": [
        "import sktime"
      ]
    },
    {
      "cell_type": "code",
      "execution_count": 33,
      "metadata": {
        "gather": {
          "logged": 1677755151890
        },
        "jupyter": {
          "outputs_hidden": false,
          "source_hidden": false
        },
        "nteract": {
          "transient": {
            "deleting": false
          }
        }
      },
      "outputs": [
        {
          "data": {
            "text/plain": [
              "'0.16.1'"
            ]
          },
          "execution_count": 33,
          "metadata": {},
          "output_type": "execute_result"
        }
      ],
      "source": [
        "sktime.__version__"
      ]
    },
    {
      "cell_type": "code",
      "execution_count": 20,
      "metadata": {
        "gather": {
          "logged": 1677759608033
        },
        "jupyter": {
          "outputs_hidden": false,
          "source_hidden": false
        },
        "nteract": {
          "transient": {
            "deleting": false
          }
        }
      },
      "outputs": [],
      "source": [
        "# Supress mean of empty slice warning\n",
        "import warnings\n",
        "with warnings.catch_warnings():\n",
        "    warnings.simplefilter(\"ignore\", category=RuntimeWarning)"
      ]
    },
    {
      "cell_type": "code",
      "execution_count": 37,
      "metadata": {
        "gather": {
          "logged": 1677761481671
        },
        "jupyter": {
          "outputs_hidden": false,
          "source_hidden": false
        },
        "nteract": {
          "transient": {
            "deleting": false
          }
        }
      },
      "outputs": [],
      "source": [
        "# Define C22 function\n",
        "def c22_24_fun(df):\n",
        "    c22 = Catch22(catch24=True) # Add catch24 = True\n",
        "    master_df = pd.DataFrame()\n",
        "    overlord_df = pd.DataFrame()\n",
        "    remove_set = set()\n",
        "    for x in range(len(df.columns)): # Iterate through columns so not to many nans\n",
        "        print('column number:', x)\n",
        "        working_df = df.iloc[:, x]\n",
        "        working_df = working_df.to_frame()\n",
        "        for column_name in working_df:\n",
        "            master_df = pd.DataFrame()\n",
        "            master_df2 = pd.DataFrame()\n",
        "            for stay_id, new_df in working_df[[column_name]].groupby(level=0):\n",
        "                    new_df2 = new_df.reset_index(drop=True).dropna()\n",
        "                    \n",
        "                    # C22 for current day\n",
        "                    if len(new_df2) <= 2: # c22 only works with 3 or more timepoints\n",
        "                        transformed_data = pd.DataFrame()\n",
        "                        np_data = new_df2.to_numpy()\n",
        "                        if not np_data.size == 0:\n",
        "                            transformed_data['22'] = np.mean(new_df2.to_numpy())\n",
        "                            transformed_data['23'] = np.std(new_df.to_numpy())\n",
        "                    else:\n",
        "                        transformed_data = c22.fit_transform(new_df2)\n",
        "\n",
        "                    transformed_data = transformed_data.add_prefix(column_name)           \n",
        "                    transformed_data.insert(0, 'SPELL_IDENTIFIER', stay_id)\n",
        "                    transformed_data.insert(1, 'date', new_df.reset_index().iloc[-1]['date'])\n",
        "                    transformed_data.insert(2, '24_hour_flag', 1)\n",
        "\n",
        "                    # C22 for all data to date for stay - same for first 24 hours\n",
        "                    transformed_data2 = transformed_data.iloc[:,3:].copy()\n",
        "                    transformed_data2 = transformed_data2.add_suffix('_current_stay') # Indicate different as temporal over whole of current stay\n",
        "                    transformed_data2.insert(0, 'SPELL_IDENTIFIER', stay_id)\n",
        "                    transformed_data2.insert(1, 'date', new_df.reset_index().iloc[-1]['date'])\n",
        "                    transformed_data2.insert(2, '24_hour_flag', 1)\n",
        "\n",
        "                    # Create master df's\n",
        "                    master_df = pd.concat([master_df, transformed_data])\n",
        "                    master_df2 = pd.concat([master_df2, transformed_data2])\n",
        "\n",
        "\n",
        "            master_df.reset_index(inplace=True, drop=True)\n",
        "            master_df2.reset_index(inplace=True, drop=True)\n",
        "\n",
        "            master_df = master_df.merge(master_df2, how='left', on=['SPELL_IDENTIFIER', 'date', '24_hour_flag'])\n",
        "\n",
        "        if x == 0:\n",
        "            overlord_df = master_df.copy()\n",
        "        else:\n",
        "            overlord_df = overlord_df.merge(master_df, how='outer', on=['SPELL_IDENTIFIER', 'date', '24_hour_flag'])\n",
        "        \n",
        "    return overlord_df"
      ]
    },
    {
      "cell_type": "code",
      "execution_count": 40,
      "metadata": {
        "gather": {
          "logged": 1677763081521
        },
        "jupyter": {
          "outputs_hidden": false,
          "source_hidden": false
        },
        "nteract": {
          "transient": {
            "deleting": false
          }
        }
      },
      "outputs": [
        {
          "name": "stdout",
          "output_type": "stream",
          "text": [
            "column number: 0\n",
            "column number: 1\n",
            "column number: 2\n",
            "column number: 3\n",
            "column number: 4\n",
            "column number: 5\n",
            "column number: 6\n",
            "column number: 7\n",
            "column number: 8\n",
            "column number: 9\n"
          ]
        }
      ],
      "source": [
        "c22_24_hour_df = c22_24_fun(c22_24)"
      ]
    },
    {
      "cell_type": "code",
      "execution_count": 42,
      "metadata": {
        "gather": {
          "logged": 1677765030569
        },
        "jupyter": {
          "outputs_hidden": false,
          "source_hidden": false
        },
        "nteract": {
          "transient": {
            "deleting": false
          }
        }
      },
      "outputs": [],
      "source": [
        "# Save\n",
        "#c22_24_hour_df.to_csv('switch_data/c22_24_hour.csv', index=False)"
      ]
    },
    {
      "cell_type": "code",
      "execution_count": 45,
      "metadata": {
        "gather": {
          "logged": 1677765537835
        },
        "jupyter": {
          "outputs_hidden": false,
          "source_hidden": false
        },
        "nteract": {
          "transient": {
            "deleting": false
          }
        }
      },
      "outputs": [],
      "source": [
        "# Difference\n",
        "c22_24_hour_df2 = c22_24_hour_df.drop(columns=['date', '24_hour_flag'])\n",
        "\n",
        "c22_24_hour_diff_df = pd.DataFrame()\n",
        "c22_24_hour_df2.set_index('SPELL_IDENTIFIER', inplace=True)\n",
        "for stay_id, new_df in c22_24_hour_df2.groupby(level=0):\n",
        "    diff_df = new_df.diff()\n",
        "    diff_df = diff_df.add_suffix('_difference')\n",
        "    c22_24_hour_diff_df = pd.concat([c22_24_hour_diff_df, diff_df], ignore_index=True)\n",
        "\n",
        "c22_24_hour_df2.reset_index(inplace=True)\n",
        "c22_24_hour_diff_df = pd.concat([c22_24_hour_df2, c22_24_hour_diff_df], axis=1)\n",
        "c22_24_hour_diff_df = pd.concat([c22_24_hour_df[['date', '24_hour_flag']], c22_24_hour_diff_df], axis=1)\n",
        "col = c22_24_hour_diff_df.pop(\"SPELL_IDENTIFIER\")\n",
        "c22_24_hour_diff_df.insert(0, col.name, col)"
      ]
    },
    {
      "cell_type": "code",
      "execution_count": null,
      "metadata": {
        "jupyter": {
          "outputs_hidden": false,
          "source_hidden": false
        },
        "nteract": {
          "transient": {
            "deleting": false
          }
        }
      },
      "outputs": [],
      "source": [
        "# Obviously diff does not make much of a difference here as just one day for each patient but work out anyway "
      ]
    },
    {
      "cell_type": "code",
      "execution_count": 49,
      "metadata": {
        "gather": {
          "logged": 1677765874629
        },
        "jupyter": {
          "outputs_hidden": false,
          "source_hidden": false
        },
        "nteract": {
          "transient": {
            "deleting": false
          }
        }
      },
      "outputs": [],
      "source": [
        "# Save\n",
        "#c22_24_hour_diff_df.to_csv('switch_data/c22_24_hour_with_diff.csv', index=False)"
      ]
    },
    {
      "cell_type": "code",
      "execution_count": null,
      "metadata": {
        "jupyter": {
          "outputs_hidden": false,
          "source_hidden": false
        },
        "nteract": {
          "transient": {
            "deleting": false
          }
        }
      },
      "outputs": [],
      "source": [
        "# 48"
      ]
    },
    {
      "cell_type": "code",
      "execution_count": 78,
      "metadata": {
        "gather": {
          "logged": 1677768008912
        },
        "jupyter": {
          "outputs_hidden": false,
          "source_hidden": false
        },
        "nteract": {
          "transient": {
            "deleting": false
          }
        }
      },
      "outputs": [],
      "source": [
        "# Define C22 function\n",
        "def c22_48_fun(df):\n",
        "    c22 = Catch22(catch24=True)\n",
        "    c22_2 = Catch22(catch24=True)\n",
        "    master_df = pd.DataFrame()\n",
        "    overlord_df = pd.DataFrame()\n",
        "    remove_set = set()\n",
        "    for x in range(len(df.columns)): # Iterate through columns so not to many nans\n",
        "        print('column number:', x)\n",
        "        working_df = df.iloc[:, x]\n",
        "        working_df = working_df.to_frame()\n",
        "        for column_name in working_df:\n",
        "            master_df = pd.DataFrame()\n",
        "            master_df2 = pd.DataFrame()\n",
        "            for stay_id, new_df in working_df[[column_name]].groupby(level=0):\n",
        "\n",
        "                    new_df2 = new_df.tail(4).reset_index(drop=True).dropna()\n",
        "                    new_df3 = new_df.reset_index(drop=True).dropna()\n",
        "                    \n",
        "                    # C22 for latest day\n",
        "                    if len(new_df2) <= 2: # c22 only works with 3 or more timepoints\n",
        "                        transformed_data = pd.DataFrame()\n",
        "                        np_data = new_df2.to_numpy()\n",
        "                        if not np_data.size == 0:\n",
        "                            transformed_data['22'] = np.mean(np_data)\n",
        "                            transformed_data['23'] = np.std(np_data)\n",
        "                    else: \n",
        "                        transformed_data = c22.fit_transform(new_df2)\n",
        "                    transformed_data = transformed_data.add_prefix(column_name)           \n",
        "                    transformed_data.insert(0, 'SPELL_IDENTIFIER', stay_id)\n",
        "                    transformed_data.insert(1, 'date', new_df.reset_index().iloc[-1]['date'])\n",
        "                    transformed_data.insert(2, '48_hour_flag', 1)\n",
        "\n",
        "                    # C22 for all data to date for stay\n",
        "                    if len(new_df3) <= 2: # c22 only works with 3 or more timepoints\n",
        "                        transformed_data2 = pd.DataFrame()\n",
        "                        np_data = new_df3.to_numpy()\n",
        "                        if not np_data.size == 0:\n",
        "                            transformed_data2['22'] = np.mean(np_data)\n",
        "                            transformed_data2['23'] = np.std(np_data) \n",
        "                    else:\n",
        "                        transformed_data2 = c22_2.fit_transform(new_df3)\n",
        "                    transformed_data2 = transformed_data2.add_prefix(column_name)  \n",
        "                    transformed_data2 = transformed_data2.add_suffix('_current_stay') # Indicate different as temporal over whole of current stay             \n",
        "                    transformed_data2.insert(0, 'SPELL_IDENTIFIER', stay_id)\n",
        "                    transformed_data2.insert(1, 'date', new_df.reset_index().iloc[-1]['date'])\n",
        "                    transformed_data2.insert(2, '48_hour_flag', 1)\n",
        "\n",
        "                    # Create master df's\n",
        "                    master_df = pd.concat([master_df, transformed_data])\n",
        "                    master_df2 = pd.concat([master_df2, transformed_data2])\n",
        "\n",
        "            master_df.reset_index(inplace=True, drop=True)\n",
        "            master_df2.reset_index(inplace=True, drop=True)\n",
        "\n",
        "            master_df = master_df.merge(master_df2, how='left', on=['SPELL_IDENTIFIER', 'date', '48_hour_flag'])\n",
        "\n",
        "        if x == 0:\n",
        "            overlord_df = master_df.copy()\n",
        "        else:\n",
        "            overlord_df = overlord_df.merge(master_df, how='outer', on=['SPELL_IDENTIFIER', 'date', '48_hour_flag'])\n",
        "\n",
        "    return overlord_df"
      ]
    },
    {
      "cell_type": "code",
      "execution_count": 81,
      "metadata": {
        "gather": {
          "logged": 1677770112056
        },
        "jupyter": {
          "outputs_hidden": false,
          "source_hidden": false
        },
        "nteract": {
          "transient": {
            "deleting": false
          }
        }
      },
      "outputs": [
        {
          "name": "stdout",
          "output_type": "stream",
          "text": [
            "column number: 0\n",
            "column number: 1\n",
            "column number: 2\n",
            "column number: 3\n",
            "column number: 4\n",
            "column number: 5\n",
            "column number: 6\n",
            "column number: 7\n",
            "column number: 8\n",
            "column number: 9\n"
          ]
        }
      ],
      "source": [
        "c22_48_hour_df = c22_48_fun(c22_48)"
      ]
    },
    {
      "cell_type": "code",
      "execution_count": 84,
      "metadata": {
        "gather": {
          "logged": 1677770305235
        },
        "jupyter": {
          "outputs_hidden": false,
          "source_hidden": false
        },
        "nteract": {
          "transient": {
            "deleting": false
          }
        }
      },
      "outputs": [
        {
          "data": {
            "text/plain": [
              "8869"
            ]
          },
          "execution_count": 84,
          "metadata": {},
          "output_type": "execute_result"
        }
      ],
      "source": [
        "c22_48.reset_index()['SPELL_IDENTIFIER'].nunique()"
      ]
    },
    {
      "cell_type": "code",
      "execution_count": 85,
      "metadata": {
        "gather": {
          "logged": 1677770376461
        },
        "jupyter": {
          "outputs_hidden": false,
          "source_hidden": false
        },
        "nteract": {
          "transient": {
            "deleting": false
          }
        }
      },
      "outputs": [],
      "source": [
        "# Save\n",
        "#c22_48_hour_df.to_csv('switch_data/c22_48_hour.csv', index=False)"
      ]
    },
    {
      "cell_type": "code",
      "execution_count": 87,
      "metadata": {
        "gather": {
          "logged": 1677770602025
        },
        "jupyter": {
          "outputs_hidden": false,
          "source_hidden": false
        },
        "nteract": {
          "transient": {
            "deleting": false
          }
        }
      },
      "outputs": [],
      "source": [
        "# Difference\n",
        "c22_48_hour_df2 = c22_48_hour_df.drop(columns=['date', '48_hour_flag'])\n",
        "\n",
        "c22_48_hour_diff_df = pd.DataFrame()\n",
        "c22_48_hour_df2.set_index('SPELL_IDENTIFIER', inplace=True)\n",
        "for stay_id, new_df in c22_48_hour_df2.groupby(level=0):\n",
        "    diff_df = new_df.diff()\n",
        "    diff_df = diff_df.add_suffix('_difference')\n",
        "    c22_48_hour_diff_df = pd.concat([c22_48_hour_diff_df, diff_df], ignore_index=True)\n",
        "\n",
        "c22_48_hour_df2.reset_index(inplace=True)\n",
        "c22_48_hour_diff_df = pd.concat([c22_48_hour_df2, c22_48_hour_diff_df], axis=1)\n",
        "c22_48_hour_diff_df = pd.concat([c22_48_hour_df[['date', '48_hour_flag']], c22_48_hour_diff_df], axis=1)\n",
        "col = c22_48_hour_diff_df.pop(\"SPELL_IDENTIFIER\")\n",
        "c22_48_hour_diff_df.insert(0, col.name, col)"
      ]
    },
    {
      "cell_type": "code",
      "execution_count": 89,
      "metadata": {
        "gather": {
          "logged": 1677771224311
        },
        "jupyter": {
          "outputs_hidden": false,
          "source_hidden": false
        },
        "nteract": {
          "transient": {
            "deleting": false
          }
        }
      },
      "outputs": [],
      "source": [
        "# Save\n",
        "#c22_48_hour_diff_df.to_csv('switch_data/c22_48_hour_with_diff.csv', index=False)"
      ]
    }
  ],
  "metadata": {
    "kernel_info": {
      "name": "python38-azureml"
    },
    "kernelspec": {
      "display_name": "Python 3.8 - AzureML",
      "language": "python",
      "name": "python38-azureml"
    },
    "language_info": {
      "codemirror_mode": {
        "name": "ipython",
        "version": 3
      },
      "file_extension": ".py",
      "mimetype": "text/x-python",
      "name": "python",
      "nbconvert_exporter": "python",
      "pygments_lexer": "ipython3",
      "version": "3.8.5"
    },
    "microsoft": {
      "host": {
        "AzureML": {
          "notebookHasBeenCompleted": true
        }
      },
      "ms_spell_check": {
        "ms_spell_check_language": "en"
      }
    },
    "nteract": {
      "version": "nteract-front-end@1.0.0"
    }
  },
  "nbformat": 4,
  "nbformat_minor": 2
}
