{
  "cells": [
    {
      "cell_type": "code",
      "execution_count": 1,
      "metadata": {
        "gather": {
          "logged": 1694530700716
        }
      },
      "outputs": [],
      "source": [
        "# Libraries\n",
        "import pandas as pd\n",
        "pd.set_option('display.max_columns', 40)\n",
        "pd.set_option('display.width', 2000)\n",
        "\n",
        "from IPython.core.interactiveshell import InteractiveShell\n",
        "InteractiveShell.ast_node_interactivity = \"all\"\n",
        "\n",
        "# Remove printing error\n",
        "pd.options.mode.chained_assignment = None"
      ]
    },
    {
      "cell_type": "code",
      "execution_count": 51,
      "metadata": {
        "gather": {
          "logged": 1687165631076
        },
        "jupyter": {
          "outputs_hidden": false,
          "source_hidden": false
        },
        "nteract": {
          "transient": {
            "deleting": false
          }
        }
      },
      "outputs": [],
      "source": [
        "# Import\n",
        "path = r'switch_data/antibiotic_po_flag.csv'\n",
        "antibiotic_po_flag = pd.read_csv(path)"
      ]
    },
    {
      "cell_type": "code",
      "execution_count": 52,
      "metadata": {
        "gather": {
          "logged": 1687165664092
        },
        "jupyter": {
          "outputs_hidden": false,
          "source_hidden": false
        },
        "nteract": {
          "transient": {
            "deleting": false
          }
        }
      },
      "outputs": [
        {
          "name": "stderr",
          "output_type": "stream",
          "text": [
            "/anaconda/envs/azureml_py310_sdkv2/lib/python3.10/site-packages/snowflake/connector/options.py:96: UserWarning: You have an incompatible version of 'pyarrow' installed (6.0.0), please install a version that adheres to: 'pyarrow<8.1.0,>=8.0.0; extra == \"pandas\"'\n",
            "  warn_incompatible_dep(\n"
          ]
        },
        {
          "name": "stdout",
          "output_type": "stream",
          "text": [
            "Initiating login request with your identity provider. A browser window should have opened for you to complete the login. If you can't see it, check existing browser windows, or your OS settings. Press CTRL+C to abort and try again...\n",
            "We were unable to open a browser window for you, please open the following url manually then paste the URL you are redirected to into the terminal.\n",
            "URL: https://login.microsoftonline.com/be00e2c6-806c-45f8-84c3-3fc99f64b8d3/saml2?SAMLRequest=pZNPc%2BIgGIe%2FSoY9B8ifasIYO7a2s87Y1tW4290bEmIZE0iBGOunX4x1pntoL3tj4Hnh4f3B6PpQV96eayOUzEAAMfC4ZKoQcpuBdX7vJ8AzlsqCVkryDLxxA67HI0PrqiGT1r7IJX9tubGe20ga0i9koNWSKGqEIZLW3BDLyGryMCchxKTRyiqmKvCh5OsKagzX1hleSgojnN6LtQ1BqOs62EVQ6S0KMcYIp8hRJ%2BTbhT%2B4O33CBwjHJ94RDl%2B8u90IeW7BV1qbM2TI9zxf%2BIunVQ68yUX1VknT1lyvuN4LxtfL%2BVnAOANlo2B4hWG7841yPYSNFntqeSXkDhqpurKiO85U3bTWHQDdCJW8QJXaCteD2TQDzU4U7PfqlwzivQr0%2Fgd9fkjXNzYvo3T5fDzezY53cxxPDk%2FD13gXM%2BD9vIQcnkKeGdPymTxFa90UDiMfD%2FwgzXFK8JCECRwO4j%2FAm7pohaS2r7z49x6wFkwro0qrpBPnveWGY8xDNvATPGB%2BfFUmfhKzyI9KlqblIN4kRYROgYfg%2FIhIL6LH%2F9GaEfq40fvTfHRpzaYLVQn25t0rXVP7eZgBDPoZUfhljxJeU1FNikJzY1yoVaW6W82dRwasbjlA4%2FOp%2F%2F6B8V8%3D&RelayState=55067\n"
          ]
        },
        {
          "data": {
            "text/plain": [
              "<snowflake.connector.cursor.SnowflakeCursor at 0x7f627e54c4c0>"
            ]
          },
          "execution_count": 52,
          "metadata": {},
          "output_type": "execute_result"
        },
        {
          "name": "stdout",
          "output_type": "stream",
          "text": [
            "('7.20.0', 'ICHT_RG_COVOAM_22016_PROD', 'ICHT_WH_COVOAM_22016_PROD')\n"
          ]
        },
        {
          "data": {
            "text/plain": [
              "True"
            ]
          },
          "execution_count": 52,
          "metadata": {},
          "output_type": "execute_result"
        }
      ],
      "source": [
        "import json, snowflake.connector\n",
        "\n",
        "# establish the connection to snowflake\n",
        "ctx = snowflake.connector.connect( \n",
        "    **json.load(open('/opt/ich/python-snowflake-defaults.json')))\n",
        "    \n",
        "# verify and test if connection is working\n",
        "try: \n",
        "    cs = ctx.cursor() \n",
        "    cs.execute('SELECT current_version(), current_role(), current_warehouse()')\n",
        "    print(cs.fetchone())\n",
        "finally: \n",
        "    cs.close()"
      ]
    },
    {
      "cell_type": "code",
      "execution_count": 53,
      "metadata": {
        "gather": {
          "logged": 1687165678632
        },
        "jupyter": {
          "outputs_hidden": false,
          "source_hidden": false
        },
        "nteract": {
          "transient": {
            "deleting": false
          }
        }
      },
      "outputs": [],
      "source": [
        "# Import \n",
        "query = '''\n",
        "SELECT * from ICHT_SANDBOX_PROD.COVOAM_22016.ANTI_INFECTIVE_ADMINISTRATION\n",
        "'''\n",
        "cur = ctx.cursor().execute(query)\n",
        "drug_df = pd.DataFrame.from_records(iter(cur), columns=[x[0] for x in cur.description])"
      ]
    },
    {
      "cell_type": "code",
      "execution_count": 54,
      "metadata": {
        "gather": {
          "logged": 1687165685314
        },
        "jupyter": {
          "outputs_hidden": false,
          "source_hidden": false
        },
        "nteract": {
          "transient": {
            "deleting": false
          }
        }
      },
      "outputs": [],
      "source": [
        "# Import \n",
        "query = '''\n",
        "SELECT * from ICHT_PROD.ICHT_COVID.EPISODES\n",
        "'''\n",
        "cur = ctx.cursor().execute(query)\n",
        "episodes = pd.DataFrame.from_records(iter(cur), columns=[x[0] for x in cur.description])"
      ]
    },
    {
      "cell_type": "code",
      "execution_count": 55,
      "metadata": {
        "gather": {
          "logged": 1687165686081
        },
        "jupyter": {
          "outputs_hidden": false,
          "source_hidden": false
        },
        "nteract": {
          "transient": {
            "deleting": false
          }
        }
      },
      "outputs": [],
      "source": [
        "# Import\n",
        "path = r'switch_data/anti_infectives_flag_final.csv'\n",
        "anti_infectives_flag_final = pd.read_csv(path)"
      ]
    },
    {
      "cell_type": "code",
      "execution_count": 56,
      "metadata": {
        "gather": {
          "logged": 1687165691955
        },
        "jupyter": {
          "outputs_hidden": false,
          "source_hidden": false
        },
        "nteract": {
          "transient": {
            "deleting": false
          }
        }
      },
      "outputs": [
        {
          "data": {
            "text/plain": [
              "73"
            ]
          },
          "execution_count": 56,
          "metadata": {},
          "output_type": "execute_result"
        }
      ],
      "source": [
        "# Filter for relevant delivery methods\n",
        "antibiotics = drug_df\n",
        "antibiotics = antibiotics.groupby('ROUTE').filter(lambda x: len(x) > 3000)\n",
        "antibiotics['ROUTE'] = antibiotics['ROUTE'].replace({'oral': 'PO', 'enteral':'PO', 'oromucosal':'PO', 'oral/NG':'PO', 'NG': 'PO'})\n",
        "antibiotics['ADMINISTRATION_DATETIME'] = pd.to_datetime(antibiotics['ADMINISTRATION_DATETIME']).dt.date\n",
        "# Get list of antibiotics\n",
        "antibiotic_list = anti_infectives_flag_final[anti_infectives_flag_final['switch_antibiotic_flag'] == 'Yes']['MEDICATION_NAME_SHORT'].to_list()\n",
        "len(antibiotic_list)\n",
        "# Filter for antibiotics\n",
        "antibiotics = antibiotics[antibiotics['MEDICATION_NAME_SHORT'].isin(antibiotic_list)]\n",
        "# Filter for those with IV and PO\n",
        "filtered_antibiotics = antibiotics[antibiotics['SUBJECT'].isin((antibiotics.groupby(['SUBJECT'])['ROUTE'].nunique() > 1).loc[lambda x : x == True].index.to_list())]\n",
        "# Merge with episodes\n",
        "antibiotic_episodes = pd.merge(filtered_antibiotics[['SUBJECT', 'MEDICATION_NAME_SHORT', 'ADMINISTRATION_DATETIME', 'ROUTE']], episodes[['SUBJECT', 'SPELL_IDENTIFIER']])"
      ]
    },
    {
      "cell_type": "code",
      "execution_count": 57,
      "metadata": {
        "gather": {
          "logged": 1687165708230
        },
        "jupyter": {
          "outputs_hidden": false,
          "source_hidden": false
        },
        "nteract": {
          "transient": {
            "deleting": false
          }
        }
      },
      "outputs": [],
      "source": [
        "antibiotic_po_flag = antibiotic_po_flag[['SPELL_IDENTIFIER', 'ADMINISTRATION_DATETIME', 'ROUTE']]\n",
        "antibiotic_po_flag_iv = antibiotic_po_flag[antibiotic_po_flag['ROUTE'] == 'IV']\n",
        "antibiotic_po_flag_po = antibiotic_po_flag[antibiotic_po_flag['ROUTE'] == 'PO']\n",
        "antibiotic_po_flag_iv.drop_duplicates(subset=['SPELL_IDENTIFIER', 'ROUTE'], keep='last', inplace=True)\n",
        "antibiotic_po_flag_po.drop_duplicates(subset=['SPELL_IDENTIFIER', 'ROUTE'], keep='first', inplace=True)\n",
        "\n",
        "# Convert all to string so merge works\n",
        "antibiotic_episodes = antibiotic_episodes.astype(str)\n",
        "antibiotic_po_flag_po = antibiotic_po_flag_po.astype(str)\n",
        "antibiotic_po_flag_iv = antibiotic_po_flag_iv.astype(str)\n",
        "\n",
        "antibiotic_po_flag_po2 = antibiotic_po_flag_po.merge(antibiotic_episodes.drop(columns=['SUBJECT']))\n",
        "antibiotic_po_flag_po2.rename(columns={'MEDICATION_NAME_SHORT':'antibiotics'}, inplace=True)\n",
        "antibiotic_po_flag_po2.drop_duplicates(inplace=True)\n",
        "antibiotic_po_flag_po2 = antibiotic_po_flag_po2.groupby(['SPELL_IDENTIFIER', 'ADMINISTRATION_DATETIME', 'ROUTE'])['antibiotics'].apply(lambda x: ','.join(x)).reset_index()\n",
        "\n",
        "antibiotic_po_flag_iv2 = antibiotic_po_flag_iv.merge(antibiotic_episodes.drop(columns=['SUBJECT']))\n",
        "antibiotic_po_flag_iv2.rename(columns={'MEDICATION_NAME_SHORT':'antibiotics'}, inplace=True)\n",
        "antibiotic_po_flag_iv2.drop_duplicates(inplace=True)\n",
        "antibiotic_po_flag_iv2 = antibiotic_po_flag_iv2.groupby(['SPELL_IDENTIFIER', 'ADMINISTRATION_DATETIME', 'ROUTE'])['antibiotics'].apply(lambda x: ','.join(x)).reset_index()\n",
        "\n",
        "antibiotics_df = pd.concat([antibiotic_po_flag_iv2 ,antibiotic_po_flag_po2], ignore_index = True)\n",
        "antibiotics_df.sort_values(by=['SPELL_IDENTIFIER', 'ADMINISTRATION_DATETIME'], inplace=True)"
      ]
    },
    {
      "cell_type": "code",
      "execution_count": 80,
      "metadata": {
        "gather": {
          "logged": 1686828386175
        },
        "jupyter": {
          "outputs_hidden": false,
          "source_hidden": false
        },
        "nteract": {
          "transient": {
            "deleting": false
          }
        }
      },
      "outputs": [],
      "source": [
        "# Save\n",
        "#antibiotics_df.to_csv('switch_data/antibiotics.csv', index=False)"
      ]
    }
  ],
  "metadata": {
    "kernel_info": {
      "name": "python310-sdkv2"
    },
    "kernelspec": {
      "display_name": "Python 3.10 - SDK v2",
      "language": "python",
      "name": "python310-sdkv2"
    },
    "language_info": {
      "codemirror_mode": {
        "name": "ipython",
        "version": 3
      },
      "file_extension": ".py",
      "mimetype": "text/x-python",
      "name": "python",
      "nbconvert_exporter": "python",
      "pygments_lexer": "ipython3",
      "version": "3.10.11"
    },
    "microsoft": {
      "host": {
        "AzureML": {
          "notebookHasBeenCompleted": true
        }
      },
      "ms_spell_check": {
        "ms_spell_check_language": "en"
      }
    },
    "nteract": {
      "version": "nteract-front-end@1.0.0"
    }
  },
  "nbformat": 4,
  "nbformat_minor": 2
}
