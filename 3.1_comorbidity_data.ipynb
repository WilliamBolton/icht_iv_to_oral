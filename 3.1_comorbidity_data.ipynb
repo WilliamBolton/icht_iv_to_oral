{
  "cells": [
    {
      "cell_type": "code",
      "execution_count": 1,
      "metadata": {
        "gather": {
          "logged": 1713797242466
        }
      },
      "outputs": [],
      "source": [
        "# Libraries\n",
        "import numpy as np\n",
        "import pandas as pd\n",
        "pd.set_option('display.max_columns', 40)\n",
        "pd.set_option('display.width', 2000)\n",
        "import torch\n",
        "import pickle\n",
        "\n",
        "from IPython.core.interactiveshell import InteractiveShell\n",
        "InteractiveShell.ast_node_interactivity = \"all\"\n",
        "\n",
        "device = torch.device(\"cuda\" if torch.cuda.is_available() else \"cpu\")"
      ]
    },
    {
      "cell_type": "code",
      "execution_count": 2,
      "metadata": {
        "gather": {
          "logged": 1705933385290
        },
        "jupyter": {
          "outputs_hidden": false,
          "source_hidden": false
        },
        "nteract": {
          "transient": {
            "deleting": false
          }
        }
      },
      "outputs": [],
      "source": [
        "# Import\n",
        "path = r'switch_data/final_trimmed_snomed_embedding_128d-copy.csv'\n",
        "embedding = pd.read_csv(path)\n",
        "\n",
        "# Import\n",
        "path = r'switch_data/final_problem_dummies.csv'\n",
        "problem_dummies = pd.read_csv(path)"
      ]
    },
    {
      "cell_type": "code",
      "execution_count": 3,
      "metadata": {
        "gather": {
          "logged": 1705933399460
        },
        "jupyter": {
          "outputs_hidden": false,
          "source_hidden": false
        },
        "nteract": {
          "transient": {
            "deleting": false
          }
        }
      },
      "outputs": [],
      "source": [
        "# Import\n",
        "path = r'switch_data/icare_switch_data.csv'\n",
        "icare_df = pd.read_csv(path)\n",
        "# Import\n",
        "path = r'switch_data/icare_switch_data_preprocessed_2023.csv'\n",
        "icare_df_2023 = pd.read_csv(path)\n",
        "# Concat\n",
        "joint_switch = pd.concat([icare_df, icare_df_2023])"
      ]
    },
    {
      "cell_type": "code",
      "execution_count": 2,
      "metadata": {
        "gather": {
          "logged": 1705929202868
        },
        "jupyter": {
          "outputs_hidden": false,
          "source_hidden": false
        },
        "nteract": {
          "transient": {
            "deleting": false
          }
        }
      },
      "outputs": [
        {
          "name": "stderr",
          "output_type": "stream",
          "text": [
            "/anaconda/envs/azureml_py310_sdkv2/lib/python3.10/site-packages/snowflake/connector/options.py:96: UserWarning: You have an incompatible version of 'pyarrow' installed (12.0.1), please install a version that adheres to: 'pyarrow<8.1.0,>=8.0.0; extra == \"pandas\"'\n",
            "  warn_incompatible_dep(\n"
          ]
        },
        {
          "name": "stdout",
          "output_type": "stream",
          "text": [
            "Initiating login request with your identity provider. A browser window should have opened for you to complete the login. If you can't see it, check existing browser windows, or your OS settings. Press CTRL+C to abort and try again...\n",
            "We were unable to open a browser window for you, please open the following url manually then paste the URL you are redirected to into the terminal.\n",
            "URL: https://login.microsoftonline.com/be00e2c6-806c-45f8-84c3-3fc99f64b8d3/saml2?SAMLRequest=pZNLb%2BIwFEb%2FSuRZJ3EeQLAIFVMEQ1VaxKOL2QXnhlokNvg6BP59TShSZ9FuRsrCss%2B1j%2B%2FnDB7OVemcQKNQMiWBR4kDkqtcyF1KNuuJmxAHTSbzrFQSUnIBJA%2FDAWZVeWCj2rzLJRxrQOPYjSSydiEltZZMZSiQyawCZIaz1Wj%2BzEKPsoNWRnFVki8lP1dkiKCNNbyX5Cis3rsxB%2Bb7TdN4TeQpvfNDSqlP%2B76lrsivO3%2B2d%2FqGD3waX3lLWHzx6fZbyFsLftLa3iBkf9brhbt4Xa2JM7qrPiqJdQV6BfokOGyWzzcBtAaIUS9Jul69d1HZHnoHLU6ZgVLIvYdSNUWZ7YGr6lAbe4BnR34BuV%2BqnbA9mI1TctiL%2FPK0OQF%2FfRvT4yo%2BC3jqTabdTtQLl8fpselcjIpf5s20mIPixHm7hxxeQ54h1jCT12iNnaJh7NLADcN1ELHrF3jdfu8vccY2WiEz01be%2FVsPrxJcK1SFUdKKQ2u5BUoh5F03oV3uxp0icZOYR25U8H6%2F6MbbJI%2F8a%2BAhuT0i1oro4X%2B0ZuB%2F3ejzab7YtGbjhSoFvzgTpavMfB9m4AXtjMjdokUZVJkoR3muAdGGWpaqedRgPVJidA3EH95O%2FfcfGH4A&RelayState=60637\n"
          ]
        },
        {
          "data": {
            "text/plain": [
              "<snowflake.connector.cursor.SnowflakeCursor at 0x7fb92cadf010>"
            ]
          },
          "execution_count": 2,
          "metadata": {},
          "output_type": "execute_result"
        },
        {
          "name": "stdout",
          "output_type": "stream",
          "text": [
            "('8.2.0', 'ICHT_RG_COVOAM_22016_PROD', 'ICHT_WH_COVOAM_22016_PROD')\n"
          ]
        },
        {
          "data": {
            "text/plain": [
              "True"
            ]
          },
          "execution_count": 2,
          "metadata": {},
          "output_type": "execute_result"
        }
      ],
      "source": [
        "import json, snowflake.connector\n",
        "\n",
        "# establish the connection to snowflake\n",
        "ctx = snowflake.connector.connect( \n",
        "    **json.load(open('/opt/ich/python-snowflake-defaults.json')))\n",
        "    \n",
        "# verify and test if connection is working\n",
        "try: \n",
        "    cs = ctx.cursor() \n",
        "    cs.execute('SELECT current_version(), current_role(), current_warehouse()')\n",
        "    print(cs.fetchone())\n",
        "finally: \n",
        "    cs.close()"
      ]
    },
    {
      "cell_type": "code",
      "execution_count": 6,
      "metadata": {
        "gather": {
          "logged": 1705928704222
        },
        "jupyter": {
          "outputs_hidden": false,
          "source_hidden": false
        },
        "nteract": {
          "transient": {
            "deleting": false
          }
        }
      },
      "outputs": [],
      "source": [
        "# Import \n",
        "query = '''\n",
        "SELECT * from ICHT_PROD.ICHT_COVID.EPISODES\n",
        "'''\n",
        "cur = ctx.cursor().execute(query)\n",
        "episodes = pd.DataFrame.from_records(iter(cur), columns=[x[0] for x in cur.description])"
      ]
    },
    {
      "cell_type": "code",
      "execution_count": 5,
      "metadata": {
        "gather": {
          "logged": 1705928694679
        },
        "jupyter": {
          "outputs_hidden": false,
          "source_hidden": false
        },
        "nteract": {
          "transient": {
            "deleting": false
          }
        }
      },
      "outputs": [],
      "source": [
        "# Import \n",
        "query = '''\n",
        "SELECT * from ICHT_PROD.ICHT_COVID.EPISODES_2023\n",
        "'''\n",
        "cur = ctx.cursor().execute(query)\n",
        "episodes_2023 = pd.DataFrame.from_records(iter(cur), columns=[x[0] for x in cur.description])"
      ]
    },
    {
      "cell_type": "code",
      "execution_count": 15,
      "metadata": {
        "gather": {
          "logged": 1705929159361
        },
        "jupyter": {
          "outputs_hidden": false,
          "source_hidden": false
        },
        "nteract": {
          "transient": {
            "deleting": false
          }
        }
      },
      "outputs": [],
      "source": [
        "# Create lists \n",
        "subject_list = problem_dummies['SUBJECT'].unique().tolist()\n",
        "spell_list = joint_switch['SPELL_IDENTIFIER'].unique().tolist()\n",
        "# Filter \n",
        "episodes = episodes[episodes['SUBJECT'].isin(subject_list)]\n",
        "episodes = episodes[episodes['SPELL_IDENTIFIER'].isin(spell_list)]\n",
        "episodes_2023 = episodes_2023[episodes_2023['SUBJECT'].isin(subject_list)]\n",
        "episodes_2023 = episodes_2023[episodes_2023['SPELL_IDENTIFIER'].isin(spell_list)]\n",
        "# Drop duplicates\n",
        "episodes.drop_duplicates(subset=['SUBJECT', 'SPELL_IDENTIFIER'], inplace=True)\n",
        "episodes_2023.drop_duplicates(subset=['SUBJECT', 'SPELL_IDENTIFIER'], inplace=True)"
      ]
    },
    {
      "cell_type": "code",
      "execution_count": 8,
      "metadata": {
        "gather": {
          "logged": 1705927886660
        },
        "jupyter": {
          "outputs_hidden": false,
          "source_hidden": false
        },
        "nteract": {
          "transient": {
            "deleting": false
          }
        }
      },
      "outputs": [
        {
          "data": {
            "text/plain": [
              "65160"
            ]
          },
          "execution_count": 8,
          "metadata": {},
          "output_type": "execute_result"
        },
        {
          "data": {
            "text/plain": [
              "12251"
            ]
          },
          "execution_count": 8,
          "metadata": {},
          "output_type": "execute_result"
        },
        {
          "data": {
            "text/plain": [
              "4853"
            ]
          },
          "execution_count": 8,
          "metadata": {},
          "output_type": "execute_result"
        },
        {
          "data": {
            "text/plain": [
              "5610"
            ]
          },
          "execution_count": 8,
          "metadata": {},
          "output_type": "execute_result"
        },
        {
          "data": {
            "text/plain": [
              "5176"
            ]
          },
          "execution_count": 8,
          "metadata": {},
          "output_type": "execute_result"
        },
        {
          "data": {
            "text/plain": [
              "6094"
            ]
          },
          "execution_count": 8,
          "metadata": {},
          "output_type": "execute_result"
        }
      ],
      "source": [
        "len(subject_list)\n",
        "len(spell_list)\n",
        "episodes.SUBJECT.nunique()\n",
        "episodes.SPELL_IDENTIFIER.nunique()\n",
        "episodes_2023.SUBJECT.nunique()\n",
        "episodes_2023.SPELL_IDENTIFIER.nunique()"
      ]
    },
    {
      "cell_type": "code",
      "execution_count": 10,
      "metadata": {
        "gather": {
          "logged": 1705928746660
        },
        "jupyter": {
          "outputs_hidden": false,
          "source_hidden": false
        },
        "nteract": {
          "transient": {
            "deleting": false
          }
        }
      },
      "outputs": [
        {
          "data": {
            "text/plain": [
              "4792"
            ]
          },
          "execution_count": 10,
          "metadata": {},
          "output_type": "execute_result"
        },
        {
          "data": {
            "text/plain": [
              "5547"
            ]
          },
          "execution_count": 10,
          "metadata": {},
          "output_type": "execute_result"
        }
      ],
      "source": [
        "len(set.intersection(set(episodes['SUBJECT']), set(episodes_2023['SUBJECT'])))\n",
        "len(set.intersection(set(episodes['SPELL_IDENTIFIER']), set(episodes_2023['SPELL_IDENTIFIER'])))"
      ]
    },
    {
      "cell_type": "code",
      "execution_count": 22,
      "metadata": {
        "gather": {
          "logged": 1705922030738
        },
        "jupyter": {
          "outputs_hidden": false,
          "source_hidden": false
        },
        "nteract": {
          "transient": {
            "deleting": false
          }
        }
      },
      "outputs": [],
      "source": [
        "# Now have unique spell to subject mapping"
      ]
    },
    {
      "cell_type": "code",
      "execution_count": 30,
      "metadata": {
        "gather": {
          "logged": 1705922322014
        },
        "jupyter": {
          "outputs_hidden": false,
          "source_hidden": false
        },
        "nteract": {
          "transient": {
            "deleting": false
          }
        }
      },
      "outputs": [],
      "source": [
        "# Import \n",
        "query = '''\n",
        "SELECT * from ICHT_PROD.ICHT_COVID.EPISODES_DIAGNOSIS\n",
        "'''\n",
        "cur = ctx.cursor().execute(query)\n",
        "diagnosis = pd.DataFrame.from_records(iter(cur), columns=[x[0] for x in cur.description])"
      ]
    },
    {
      "cell_type": "code",
      "execution_count": 32,
      "metadata": {
        "gather": {
          "logged": 1705922500674
        },
        "jupyter": {
          "outputs_hidden": false,
          "source_hidden": false
        },
        "nteract": {
          "transient": {
            "deleting": false
          }
        }
      },
      "outputs": [],
      "source": [
        "# Filter\n",
        "diagnosis = diagnosis[diagnosis['SUBJECT'].isin(subject_list)]\n",
        "diagnosis = diagnosis[diagnosis['SPELL_IDENTIFIER'].isin(spell_list)]"
      ]
    },
    {
      "cell_type": "code",
      "execution_count": 37,
      "metadata": {
        "gather": {
          "logged": 1705922951183
        },
        "jupyter": {
          "outputs_hidden": false,
          "source_hidden": false
        },
        "nteract": {
          "transient": {
            "deleting": false
          }
        }
      },
      "outputs": [
        {
          "data": {
            "text/plain": [
              "4847"
            ]
          },
          "execution_count": 37,
          "metadata": {},
          "output_type": "execute_result"
        },
        {
          "data": {
            "text/plain": [
              "5603"
            ]
          },
          "execution_count": 37,
          "metadata": {},
          "output_type": "execute_result"
        }
      ],
      "source": [
        "diagnosis.SUBJECT.nunique()\n",
        "diagnosis.SPELL_IDENTIFIER.nunique()"
      ]
    },
    {
      "cell_type": "code",
      "execution_count": 41,
      "metadata": {
        "gather": {
          "logged": 1705923057582
        },
        "jupyter": {
          "outputs_hidden": false,
          "source_hidden": false
        },
        "nteract": {
          "transient": {
            "deleting": false
          }
        }
      },
      "outputs": [],
      "source": [
        "# Filter by uti\n",
        "uti_diagnoses = diagnosis[(diagnosis['DIAGNOSIS_DESCRIPTION_ICD'].str.contains(\"urinary tract infection\", case=False)) | \\\n",
        "                                  (diagnosis['DIAGNOSIS_DESCRIPTION_ICD'].str.contains(\"pyelonephritis\", case=False)) | \\\n",
        "                                  (diagnosis['DIAGNOSIS_DESCRIPTION_SNOMED'].str.contains(\"urinary tract infection\", case=False)) | \\\n",
        "                                  (diagnosis['DIAGNOSIS_DESCRIPTION_SNOMED'].str.contains(\"pyelonephritis\", case=False))]\n",
        "# Filter by pneumonia\n",
        "pneumonia_diagnoses = diagnosis[(diagnosis['DIAGNOSIS_DESCRIPTION_ICD'].str.contains(\"pneumonia\", case=False)) | \\\n",
        "                                  (diagnosis['DIAGNOSIS_DESCRIPTION_SNOMED'].str.contains(\"pneumonia\", case=False))]\n",
        "\n",
        "# Filter by sepsis\n",
        "sepsis_diagnoses = diagnosis[(diagnosis['DIAGNOSIS_DESCRIPTION_ICD'].str.contains(\"sepsis\", case=False)) | \\\n",
        "                                  (diagnosis['DIAGNOSIS_DESCRIPTION_SNOMED'].str.contains(\"sepsis\", case=False))]\n",
        "\n",
        "# Filter by cellulitis\n",
        "cellulitis_diagnoses = diagnosis[(diagnosis['DIAGNOSIS_DESCRIPTION_ICD'].str.contains(\"cellulitis\", case=False)) | \\\n",
        "                                  (diagnosis['DIAGNOSIS_DESCRIPTION_SNOMED'].str.contains(\"cellulitis\", case=False))]\n",
        "\n",
        "# Filter by bacteraemia\n",
        "bacteraemia_diagnoses = diagnosis[(diagnosis['DIAGNOSIS_DESCRIPTION_ICD'].str.contains(\"blood stream infection\", case=False)) | \\\n",
        "                                  (diagnosis['DIAGNOSIS_DESCRIPTION_ICD'].str.contains(\"bacteraemia\", case=False)) | \\\n",
        "                                  (diagnosis['DIAGNOSIS_DESCRIPTION_SNOMED'].str.contains(\"blood stream infection\", case=False)) | \\\n",
        "                                  (diagnosis['DIAGNOSIS_DESCRIPTION_SNOMED'].str.contains(\"bacteraemia\", case=False))]"
      ]
    },
    {
      "cell_type": "code",
      "execution_count": 42,
      "metadata": {
        "gather": {
          "logged": 1705923058300
        },
        "jupyter": {
          "outputs_hidden": false,
          "source_hidden": false
        },
        "nteract": {
          "transient": {
            "deleting": false
          }
        }
      },
      "outputs": [
        {
          "data": {
            "text/plain": [
              "676"
            ]
          },
          "execution_count": 42,
          "metadata": {},
          "output_type": "execute_result"
        },
        {
          "data": {
            "text/plain": [
              "735"
            ]
          },
          "execution_count": 42,
          "metadata": {},
          "output_type": "execute_result"
        },
        {
          "data": {
            "text/plain": [
              "1354"
            ]
          },
          "execution_count": 42,
          "metadata": {},
          "output_type": "execute_result"
        },
        {
          "data": {
            "text/plain": [
              "1504"
            ]
          },
          "execution_count": 42,
          "metadata": {},
          "output_type": "execute_result"
        },
        {
          "data": {
            "text/plain": [
              "1566"
            ]
          },
          "execution_count": 42,
          "metadata": {},
          "output_type": "execute_result"
        },
        {
          "data": {
            "text/plain": [
              "1781"
            ]
          },
          "execution_count": 42,
          "metadata": {},
          "output_type": "execute_result"
        },
        {
          "data": {
            "text/plain": [
              "230"
            ]
          },
          "execution_count": 42,
          "metadata": {},
          "output_type": "execute_result"
        },
        {
          "data": {
            "text/plain": [
              "261"
            ]
          },
          "execution_count": 42,
          "metadata": {},
          "output_type": "execute_result"
        },
        {
          "data": {
            "text/plain": [
              "0"
            ]
          },
          "execution_count": 42,
          "metadata": {},
          "output_type": "execute_result"
        },
        {
          "data": {
            "text/plain": [
              "0"
            ]
          },
          "execution_count": 42,
          "metadata": {},
          "output_type": "execute_result"
        }
      ],
      "source": [
        "uti_diagnoses.SUBJECT.nunique()\n",
        "uti_diagnoses.SPELL_IDENTIFIER.nunique()\n",
        "\n",
        "pneumonia_diagnoses.SUBJECT.nunique()\n",
        "pneumonia_diagnoses.SPELL_IDENTIFIER.nunique()\n",
        "\n",
        "sepsis_diagnoses.SUBJECT.nunique()\n",
        "sepsis_diagnoses.SPELL_IDENTIFIER.nunique()\n",
        "\n",
        "cellulitis_diagnoses.SUBJECT.nunique()\n",
        "cellulitis_diagnoses.SPELL_IDENTIFIER.nunique()\n",
        "\n",
        "bacteraemia_diagnoses.SUBJECT.nunique()\n",
        "bacteraemia_diagnoses.SPELL_IDENTIFIER.nunique()"
      ]
    },
    {
      "cell_type": "code",
      "execution_count": 82,
      "metadata": {
        "gather": {
          "logged": 1705925134393
        },
        "jupyter": {
          "outputs_hidden": false,
          "source_hidden": false
        },
        "nteract": {
          "transient": {
            "deleting": false
          }
        }
      },
      "outputs": [
        {
          "data": {
            "text/plain": [
              "4004"
            ]
          },
          "execution_count": 82,
          "metadata": {},
          "output_type": "execute_result"
        },
        {
          "data": {
            "text/plain": [
              "2973"
            ]
          },
          "execution_count": 82,
          "metadata": {},
          "output_type": "execute_result"
        },
        {
          "data": {
            "text/plain": [
              "3"
            ]
          },
          "execution_count": 82,
          "metadata": {},
          "output_type": "execute_result"
        }
      ],
      "source": [
        "735 + 1504 + 1504 + 261\n",
        "len(set.union(set(uti_diagnoses.SPELL_IDENTIFIER.unique()), set(pneumonia_diagnoses.SPELL_IDENTIFIER.unique()), set(sepsis_diagnoses.SPELL_IDENTIFIER.unique()), set(cellulitis_diagnoses.SPELL_IDENTIFIER.unique())))\n",
        "len(set.intersection(set(uti_diagnoses.SPELL_IDENTIFIER.unique()), set(pneumonia_diagnoses.SPELL_IDENTIFIER.unique()), set(sepsis_diagnoses.SPELL_IDENTIFIER.unique()), set(cellulitis_diagnoses.SPELL_IDENTIFIER.unique())))"
      ]
    },
    {
      "cell_type": "code",
      "execution_count": null,
      "metadata": {
        "gather": {
          "logged": 1705925180449
        },
        "jupyter": {
          "outputs_hidden": false,
          "source_hidden": false
        },
        "nteract": {
          "transient": {
            "deleting": false
          }
        }
      },
      "outputs": [],
      "source": [
        "# Create binary columns\n",
        "uti_diagnoses['uti'] = 1\n",
        "pneumonia_diagnoses['pneumonia'] = 1\n",
        "sepsis_diagnoses['sepsis'] = 1\n",
        "cellulitis_diagnoses['cellulitis'] = 1\n",
        "\n",
        "# Merge DataFrames\n",
        "merged_df = uti_diagnoses[['SPELL_IDENTIFIER', 'uti']]\n",
        "merged_df = merged_df.merge(pneumonia_diagnoses[['SPELL_IDENTIFIER', 'pneumonia']], how='outer')\n",
        "merged_df = merged_df.merge(sepsis_diagnoses[['SPELL_IDENTIFIER', 'sepsis']], how='outer')\n",
        "merged_df = merged_df.merge(cellulitis_diagnoses[['SPELL_IDENTIFIER', 'cellulitis']], how='outer')\n",
        "\n",
        "# Fill NaN values with 0\n",
        "merged_df = merged_df.fillna(0)\n",
        "disease_df = merged_df.drop_duplicates()\n",
        "disease_df.reset_index(inplace=True, drop=True)"
      ]
    },
    {
      "cell_type": "code",
      "execution_count": 3,
      "metadata": {
        "gather": {
          "logged": 1705929212609
        },
        "jupyter": {
          "outputs_hidden": false,
          "source_hidden": false
        },
        "nteract": {
          "transient": {
            "deleting": false
          }
        }
      },
      "outputs": [],
      "source": [
        "# Load lists\n",
        "with open('problem_dummies_subject_list.pickle', 'rb') as handle:\n",
        "    subject_list = pickle.load(handle)\n",
        "with open('joint_switch_spell_list.pickle', 'rb') as handle:\n",
        "    spell_list = pickle.load(handle)"
      ]
    },
    {
      "cell_type": "code",
      "execution_count": 4,
      "metadata": {
        "gather": {
          "logged": 1705929215256
        },
        "jupyter": {
          "outputs_hidden": false,
          "source_hidden": false
        },
        "nteract": {
          "transient": {
            "deleting": false
          }
        }
      },
      "outputs": [
        {
          "data": {
            "text/plain": [
              "65160"
            ]
          },
          "execution_count": 4,
          "metadata": {},
          "output_type": "execute_result"
        },
        {
          "data": {
            "text/plain": [
              "12251"
            ]
          },
          "execution_count": 4,
          "metadata": {},
          "output_type": "execute_result"
        }
      ],
      "source": [
        "len(subject_list)\n",
        "len(spell_list)"
      ]
    },
    {
      "cell_type": "code",
      "execution_count": null,
      "metadata": {
        "gather": {
          "logged": 1705929468686
        },
        "jupyter": {
          "outputs_hidden": false,
          "source_hidden": false
        },
        "nteract": {
          "transient": {
            "deleting": false
          }
        }
      },
      "outputs": [],
      "source": [
        "# Import \n",
        "query = '''\n",
        "SELECT * from ICHT_PROD.ICHT_COVID.EPISODES_DIAGNOSIS_2023\n",
        "'''\n",
        "cur = ctx.cursor().execute(query)\n",
        "diagnosis_2023 = pd.DataFrame.from_records(iter(cur), columns=[x[0] for x in cur.description])\n",
        "# Filter\n",
        "diagnosis_2023 = diagnosis_2023[diagnosis_2023['SUBJECT'].isin(subject_list)]\n",
        "diagnosis_2023 = diagnosis_2023[diagnosis_2023['SPELL_IDENTIFIER'].isin(spell_list)]\n",
        "# Filter by uti\n",
        "uti_diagnoses = diagnosis_2023[(diagnosis_2023['DIAGNOSIS_DESCRIPTION_ICD'].str.contains(\"urinary tract infection\", case=False)) | \\\n",
        "                                  (diagnosis_2023['DIAGNOSIS_DESCRIPTION_ICD'].str.contains(\"pyelonephritis\", case=False)) | \\\n",
        "                                  (diagnosis_2023['DIAGNOSIS_DESCRIPTION_SNOMED'].str.contains(\"urinary tract infection\", case=False)) | \\\n",
        "                                  (diagnosis_2023['DIAGNOSIS_DESCRIPTION_SNOMED'].str.contains(\"pyelonephritis\", case=False))]\n",
        "# Filter by pneumonia\n",
        "pneumonia_diagnoses = diagnosis_2023[(diagnosis_2023['DIAGNOSIS_DESCRIPTION_ICD'].str.contains(\"pneumonia\", case=False)) | \\\n",
        "                                  (diagnosis_2023['DIAGNOSIS_DESCRIPTION_SNOMED'].str.contains(\"pneumonia\", case=False))]\n",
        "\n",
        "# Filter by sepsis\n",
        "sepsis_diagnoses = diagnosis_2023[(diagnosis_2023['DIAGNOSIS_DESCRIPTION_ICD'].str.contains(\"sepsis\", case=False)) | \\\n",
        "                                  (diagnosis_2023['DIAGNOSIS_DESCRIPTION_SNOMED'].str.contains(\"sepsis\", case=False))]\n",
        "\n",
        "# Filter by cellulitis\n",
        "cellulitis_diagnoses = diagnosis_2023[(diagnosis_2023['DIAGNOSIS_DESCRIPTION_ICD'].str.contains(\"cellulitis\", case=False)) | \\\n",
        "                                  (diagnosis_2023['DIAGNOSIS_DESCRIPTION_SNOMED'].str.contains(\"cellulitis\", case=False))]\n",
        "\n",
        "# Filter by bacteraemia\n",
        "bacteraemia_diagnoses = diagnosis_2023[(diagnosis_2023['DIAGNOSIS_DESCRIPTION_ICD'].str.contains(\"blood stream infection\", case=False)) | \\\n",
        "                                  (diagnosis_2023['DIAGNOSIS_DESCRIPTION_ICD'].str.contains(\"bacteraemia\", case=False)) | \\\n",
        "                                  (diagnosis_2023['DIAGNOSIS_DESCRIPTION_SNOMED'].str.contains(\"blood stream infection\", case=False)) | \\\n",
        "                                  (diagnosis_2023['DIAGNOSIS_DESCRIPTION_SNOMED'].str.contains(\"bacteraemia\", case=False))]\n",
        "\n",
        "uti_diagnoses.SUBJECT.nunique()\n",
        "uti_diagnoses.SPELL_IDENTIFIER.nunique()\n",
        "\n",
        "pneumonia_diagnoses.SUBJECT.nunique()\n",
        "pneumonia_diagnoses.SPELL_IDENTIFIER.nunique()\n",
        "\n",
        "sepsis_diagnoses.SUBJECT.nunique()\n",
        "sepsis_diagnoses.SPELL_IDENTIFIER.nunique()\n",
        "\n",
        "cellulitis_diagnoses.SUBJECT.nunique()\n",
        "cellulitis_diagnoses.SPELL_IDENTIFIER.nunique()\n",
        "\n",
        "bacteraemia_diagnoses.SUBJECT.nunique()\n",
        "bacteraemia_diagnoses.SPELL_IDENTIFIER.nunique()\n",
        "\n",
        "# Create binary columns\n",
        "uti_diagnoses['uti'] = 1\n",
        "pneumonia_diagnoses['pneumonia'] = 1\n",
        "sepsis_diagnoses['sepsis'] = 1\n",
        "cellulitis_diagnoses['cellulitis'] = 1\n",
        "\n",
        "# Merge DataFrames\n",
        "merged_df = uti_diagnoses[['SPELL_IDENTIFIER', 'uti']]\n",
        "merged_df = merged_df.merge(pneumonia_diagnoses[['SPELL_IDENTIFIER', 'pneumonia']], how='outer')\n",
        "merged_df = merged_df.merge(sepsis_diagnoses[['SPELL_IDENTIFIER', 'sepsis']], how='outer')\n",
        "merged_df = merged_df.merge(cellulitis_diagnoses[['SPELL_IDENTIFIER', 'cellulitis']], how='outer')\n",
        "\n",
        "# Fill NaN values with 0\n",
        "merged_df = merged_df.fillna(0)\n",
        "disease_df_2023 = merged_df.drop_duplicates()\n",
        "disease_df_2023.reset_index(inplace=True, drop=True)\n",
        "disease_df_2023"
      ]
    },
    {
      "cell_type": "code",
      "execution_count": 14,
      "metadata": {
        "gather": {
          "logged": 1705930032539
        },
        "jupyter": {
          "outputs_hidden": false,
          "source_hidden": false
        },
        "nteract": {
          "transient": {
            "deleting": false
          }
        }
      },
      "outputs": [],
      "source": [
        "# Import \n",
        "query = '''\n",
        "SELECT * from ICHT_PROD.ICHT_COVID.DEMOGRAPHIC\n",
        "'''\n",
        "cur = ctx.cursor().execute(query)\n",
        "demographics = pd.DataFrame.from_records(iter(cur), columns=[x[0] for x in cur.description])"
      ]
    },
    {
      "cell_type": "code",
      "execution_count": 16,
      "metadata": {
        "gather": {
          "logged": 1705930035446
        },
        "jupyter": {
          "outputs_hidden": false,
          "source_hidden": false
        },
        "nteract": {
          "transient": {
            "deleting": false
          }
        }
      },
      "outputs": [],
      "source": [
        "# Create episode lists \n",
        "episode_subject_list = episodes['SUBJECT'].unique().tolist()"
      ]
    },
    {
      "cell_type": "code",
      "execution_count": 17,
      "metadata": {
        "gather": {
          "logged": 1705930040754
        },
        "jupyter": {
          "outputs_hidden": false,
          "source_hidden": false
        },
        "nteract": {
          "transient": {
            "deleting": false
          }
        }
      },
      "outputs": [],
      "source": [
        "# Filter\n",
        "demographics = demographics[demographics['SUBJECT'].isin(episode_subject_list)]\n",
        "# Filter for relevant columns \n",
        "demographics = demographics[['SUBJECT', 'GENDER_DESC', 'AGE', 'ETHNICITY_DESC', 'IMDDECIL']]\n",
        "# Conver to int\n",
        "demographics['AGE'] = pd.to_numeric(demographics['AGE'])\n",
        "demographics['IMDDECIL'] = pd.to_numeric(demographics['IMDDECIL'])\n",
        "# Reset index \n",
        "demographics.reset_index(inplace=True, drop=True)"
      ]
    },
    {
      "cell_type": "code",
      "execution_count": 19,
      "metadata": {
        "gather": {
          "logged": 1705930076010
        },
        "jupyter": {
          "outputs_hidden": false,
          "source_hidden": false
        },
        "nteract": {
          "transient": {
            "deleting": false
          }
        }
      },
      "outputs": [],
      "source": [
        "# Filter for those over 18\n",
        "demographics = demographics[demographics['AGE'] >= 18]"
      ]
    },
    {
      "cell_type": "code",
      "execution_count": 20,
      "metadata": {
        "gather": {
          "logged": 1705930078749
        },
        "jupyter": {
          "outputs_hidden": false,
          "source_hidden": false
        },
        "nteract": {
          "transient": {
            "deleting": false
          }
        }
      },
      "outputs": [
        {
          "data": {
            "text/plain": [
              "103"
            ]
          },
          "execution_count": 20,
          "metadata": {},
          "output_type": "execute_result"
        },
        {
          "data": {
            "text/plain": [
              "18"
            ]
          },
          "execution_count": 20,
          "metadata": {},
          "output_type": "execute_result"
        },
        {
          "data": {
            "text/plain": [
              "10.0"
            ]
          },
          "execution_count": 20,
          "metadata": {},
          "output_type": "execute_result"
        },
        {
          "data": {
            "text/plain": [
              "1.0"
            ]
          },
          "execution_count": 20,
          "metadata": {},
          "output_type": "execute_result"
        }
      ],
      "source": [
        "demographics.AGE.max()\n",
        "demographics.AGE.min()\n",
        "demographics.IMDDECIL.max()\n",
        "demographics.IMDDECIL.min()"
      ]
    },
    {
      "cell_type": "code",
      "execution_count": 21,
      "metadata": {
        "gather": {
          "logged": 1705930082821
        },
        "jupyter": {
          "outputs_hidden": false,
          "source_hidden": false
        },
        "nteract": {
          "transient": {
            "deleting": false
          }
        }
      },
      "outputs": [],
      "source": [
        "from sklearn import preprocessing\n",
        "\n",
        "# Filling missing data, normalize features\n",
        "min_max_scaler = preprocessing.MinMaxScaler()\n",
        "data_scaled = min_max_scaler.fit_transform(demographics[['AGE', 'IMDDECIL']])\n",
        "data_scaled = np.nan_to_num(data_scaled, nan=-1)"
      ]
    },
    {
      "cell_type": "code",
      "execution_count": 24,
      "metadata": {
        "gather": {
          "logged": 1705930098563
        },
        "jupyter": {
          "outputs_hidden": false,
          "source_hidden": false
        },
        "nteract": {
          "transient": {
            "deleting": false
          }
        }
      },
      "outputs": [],
      "source": [
        "def grouped_ethincity_fun(a):\n",
        "    if \"mixed \" in a.lower():\n",
        "        return \"Other\"\n",
        "    elif \"white\" in a.lower():\n",
        "        return \"White\"\n",
        "    elif \"black\" in a.lower():\n",
        "        return \"Black\"\n",
        "    elif \"asian\" in a.lower():\n",
        "        return \"Asian\"\n",
        "    elif \"other \" in a.lower():\n",
        "        return \"Other\"\n",
        "    else:\n",
        "        return \"Other\""
      ]
    },
    {
      "cell_type": "code",
      "execution_count": null,
      "metadata": {
        "gather": {
          "logged": 1705930099998
        },
        "jupyter": {
          "outputs_hidden": false,
          "source_hidden": false
        },
        "nteract": {
          "transient": {
            "deleting": false
          }
        }
      },
      "outputs": [],
      "source": [
        "# Group race\n",
        "demographics[\"grouped_ethincity\"] = demographics.ETHNICITY_DESC.apply(lambda x: grouped_ethincity_fun(x))"
      ]
    },
    {
      "cell_type": "code",
      "execution_count": 26,
      "metadata": {
        "gather": {
          "logged": 1705930102638
        },
        "jupyter": {
          "outputs_hidden": false,
          "source_hidden": false
        },
        "nteract": {
          "transient": {
            "deleting": false
          }
        }
      },
      "outputs": [],
      "source": [
        "# Create one hot\n",
        "one_hot_demographics = pd.get_dummies(demographics[['GENDER_DESC', 'grouped_ethincity']])"
      ]
    },
    {
      "cell_type": "code",
      "execution_count": 28,
      "metadata": {
        "gather": {
          "logged": 1705930115892
        },
        "jupyter": {
          "outputs_hidden": false,
          "source_hidden": false
        },
        "nteract": {
          "transient": {
            "deleting": false
          }
        }
      },
      "outputs": [],
      "source": [
        "# Create final df\n",
        "final_demographics = pd.DataFrame()\n",
        "final_demographics['SUBJECT'] = demographics['SUBJECT'] \n",
        "final_demographics[['AGE', 'IMDDECIL']] = data_scaled\n",
        "final_demographics = pd.concat([final_demographics, one_hot_demographics], axis=1)"
      ]
    },
    {
      "cell_type": "code",
      "execution_count": null,
      "metadata": {
        "gather": {
          "logged": 1705929871315
        },
        "jupyter": {
          "outputs_hidden": false,
          "source_hidden": false
        },
        "nteract": {
          "transient": {
            "deleting": false
          }
        }
      },
      "outputs": [],
      "source": [
        "# Import \n",
        "query = '''\n",
        "SELECT * from ICHT_PROD.ICHT_COVID.DEMOGRAPHIC_2023\n",
        "'''\n",
        "cur = ctx.cursor().execute(query)\n",
        "demographics_2023 = pd.DataFrame.from_records(iter(cur), columns=[x[0] for x in cur.description])\n",
        "# Create episode lists \n",
        "episode_2023_subject_list = episodes_2023['SUBJECT'].unique().tolist()\n",
        "# Filter\n",
        "demographics_2023 = demographics_2023[demographics_2023['SUBJECT'].isin(episode_2023_subject_list)]\n",
        "# Filter for relevant columns \n",
        "demographics_2023 = demographics_2023[['SUBJECT', 'GENDER_DESC', 'AGE', 'ETHNICITY_DESC', 'IMDDECIL']]\n",
        "# Conver to int\n",
        "demographics_2023['AGE'] = pd.to_numeric(demographics_2023['AGE'])\n",
        "demographics_2023['IMDDECIL'] = pd.to_numeric(demographics_2023['IMDDECIL'])\n",
        "# Reset index \n",
        "demographics_2023.reset_index(inplace=True, drop=True)\n",
        "from sklearn import preprocessing\n",
        "# Filling missing data, normalize features\n",
        "min_max_scaler = preprocessing.MinMaxScaler()\n",
        "data_scaled = min_max_scaler.fit_transform(demographics_2023[['AGE', 'IMDDECIL']])\n",
        "data_scaled = np.nan_to_num(data_scaled, nan=-1)\n",
        "# Group race\n",
        "demographics_2023[\"grouped_ethincity\"] = demographics_2023.ETHNICITY_DESC.apply(lambda x: grouped_ethincity_fun(x))\n",
        "# Create one hot\n",
        "one_hot_demographics = pd.get_dummies(demographics_2023[['GENDER_DESC', 'grouped_ethincity']])\n",
        "# Create final df\n",
        "final_demographics_2023 = pd.DataFrame()\n",
        "final_demographics_2023['SUBJECT'] = demographics_2023['SUBJECT'] \n",
        "final_demographics_2023[['AGE', 'IMDDECIL']] = data_scaled\n",
        "final_demographics_2023 = pd.concat([final_demographics_2023, one_hot_demographics], axis=1)\n",
        "final_demographics_2023"
      ]
    },
    {
      "cell_type": "code",
      "execution_count": 12,
      "metadata": {
        "gather": {
          "logged": 1705929872099
        },
        "jupyter": {
          "outputs_hidden": false,
          "source_hidden": false
        },
        "nteract": {
          "transient": {
            "deleting": false
          }
        }
      },
      "outputs": [
        {
          "data": {
            "text/plain": [
              "104"
            ]
          },
          "execution_count": 12,
          "metadata": {},
          "output_type": "execute_result"
        },
        {
          "data": {
            "text/plain": [
              "18"
            ]
          },
          "execution_count": 12,
          "metadata": {},
          "output_type": "execute_result"
        },
        {
          "data": {
            "text/plain": [
              "10.0"
            ]
          },
          "execution_count": 12,
          "metadata": {},
          "output_type": "execute_result"
        },
        {
          "data": {
            "text/plain": [
              "1.0"
            ]
          },
          "execution_count": 12,
          "metadata": {},
          "output_type": "execute_result"
        }
      ],
      "source": [
        "demographics_2023.AGE.max()\n",
        "demographics_2023.AGE.min()\n",
        "demographics_2023.IMDDECIL.max()\n",
        "demographics_2023.IMDDECIL.min()"
      ]
    },
    {
      "cell_type": "code",
      "execution_count": 12,
      "metadata": {
        "gather": {
          "logged": 1705929052688
        },
        "jupyter": {
          "outputs_hidden": false,
          "source_hidden": false
        },
        "nteract": {
          "transient": {
            "deleting": false
          }
        }
      },
      "outputs": [],
      "source": [
        "# Save\n",
        "#with open('problem_dummies_subject_list.pickle', 'wb') as handle:\n",
        "#    pickle.dump(subject_list, handle)\n",
        "#with open('joint_switch_spell_list.pickle', 'wb') as handle:\n",
        "#    pickle.dump(spell_list, handle)"
      ]
    },
    {
      "cell_type": "code",
      "execution_count": 30,
      "metadata": {
        "gather": {
          "logged": 1705930125790
        },
        "jupyter": {
          "outputs_hidden": false,
          "source_hidden": false
        },
        "nteract": {
          "transient": {
            "deleting": false
          }
        }
      },
      "outputs": [],
      "source": [
        "# Save\n",
        "#episodes.to_csv('switch_data/chronic_switch_episodes.csv', index=False)\n",
        "# Save\n",
        "#disease_df.to_csv('switch_data/chronic_switch_disease.csv', index=False)\n",
        "# Save\n",
        "#final_demographics.to_csv('switch_data/chronic_switch_demographics.csv', index=False)"
      ]
    },
    {
      "cell_type": "code",
      "execution_count": 11,
      "metadata": {
        "gather": {
          "logged": 1705928813303
        },
        "jupyter": {
          "outputs_hidden": false,
          "source_hidden": false
        },
        "nteract": {
          "transient": {
            "deleting": false
          }
        }
      },
      "outputs": [],
      "source": [
        "# Save\n",
        "#episodes_2023.to_csv('switch_data/chronic_switch_episodes_2023.csv', index=False)"
      ]
    },
    {
      "cell_type": "code",
      "execution_count": 6,
      "metadata": {
        "gather": {
          "logged": 1705929500820
        },
        "jupyter": {
          "outputs_hidden": false,
          "source_hidden": false
        },
        "nteract": {
          "transient": {
            "deleting": false
          }
        }
      },
      "outputs": [],
      "source": [
        "# Save\n",
        "#disease_df_2023.to_csv('switch_data/chronic_switch_disease_2023.csv', index=False)"
      ]
    },
    {
      "cell_type": "code",
      "execution_count": 13,
      "metadata": {
        "gather": {
          "logged": 1705929992958
        },
        "jupyter": {
          "outputs_hidden": false,
          "source_hidden": false
        },
        "nteract": {
          "transient": {
            "deleting": false
          }
        }
      },
      "outputs": [],
      "source": [
        "# Save\n",
        "#final_demographics_2023.to_csv('switch_data/chronic_switch_demographics_2023.csv', index=False)"
      ]
    },
    {
      "cell_type": "code",
      "execution_count": 4,
      "metadata": {
        "gather": {
          "logged": 1705933412569
        },
        "jupyter": {
          "outputs_hidden": false,
          "source_hidden": false
        },
        "nteract": {
          "transient": {
            "deleting": false
          }
        }
      },
      "outputs": [],
      "source": [
        "# Import\n",
        "path = r'switch_data/chronic_switch_episodes.csv'\n",
        "episodes = pd.read_csv(path)\n",
        "# Import\n",
        "path = r'switch_data/chronic_switch_episodes_2023.csv'\n",
        "episodes_2023 = pd.read_csv(path)"
      ]
    },
    {
      "cell_type": "code",
      "execution_count": 10,
      "metadata": {
        "gather": {
          "logged": 1705933696907
        },
        "jupyter": {
          "outputs_hidden": false,
          "source_hidden": false
        },
        "nteract": {
          "transient": {
            "deleting": false
          }
        }
      },
      "outputs": [],
      "source": [
        "# Create episode lists \n",
        "episode_subject_list = episodes['SUBJECT'].unique().tolist()\n",
        "episode_spell_list = episodes['SPELL_IDENTIFIER'].unique().tolist()\n",
        "# Create episode lists \n",
        "episode_2023_subject_list = episodes_2023['SUBJECT'].unique().tolist()\n",
        "episode_2023_spell_list = episodes_2023['SPELL_IDENTIFIER'].unique().tolist()"
      ]
    },
    {
      "cell_type": "code",
      "execution_count": 8,
      "metadata": {
        "gather": {
          "logged": 1705933610377
        },
        "jupyter": {
          "outputs_hidden": false,
          "source_hidden": false
        },
        "nteract": {
          "transient": {
            "deleting": false
          }
        }
      },
      "outputs": [],
      "source": [
        "# Import\n",
        "path = r'switch_data/icare_switch_data_preprocessed.csv'\n",
        "icare_df_preprocessed = pd.read_csv(path)\n",
        "# Import\n",
        "path = r'switch_data/icare_switch_data_preprocessed_2023.csv'\n",
        "icare_df_preprocessed_2023 = pd.read_csv(path)"
      ]
    },
    {
      "cell_type": "code",
      "execution_count": 12,
      "metadata": {
        "gather": {
          "logged": 1705933952201
        },
        "jupyter": {
          "outputs_hidden": false,
          "source_hidden": false
        },
        "nteract": {
          "transient": {
            "deleting": false
          }
        }
      },
      "outputs": [
        {
          "data": {
            "text/plain": [
              "55888"
            ]
          },
          "execution_count": 12,
          "metadata": {},
          "output_type": "execute_result"
        },
        {
          "data": {
            "text/plain": [
              "10007"
            ]
          },
          "execution_count": 12,
          "metadata": {},
          "output_type": "execute_result"
        },
        {
          "data": {
            "text/plain": [
              "10507"
            ]
          },
          "execution_count": 12,
          "metadata": {},
          "output_type": "execute_result"
        },
        {
          "data": {
            "text/plain": [
              "2244"
            ]
          },
          "execution_count": 12,
          "metadata": {},
          "output_type": "execute_result"
        },
        {
          "data": {
            "text/plain": [
              "95157"
            ]
          },
          "execution_count": 12,
          "metadata": {},
          "output_type": "execute_result"
        },
        {
          "data": {
            "text/plain": [
              "65160"
            ]
          },
          "execution_count": 12,
          "metadata": {},
          "output_type": "execute_result"
        }
      ],
      "source": [
        "len(icare_df_preprocessed)\n",
        "icare_df_preprocessed['SPELL_IDENTIFIER'].nunique()\n",
        "len(icare_df_preprocessed_2023)\n",
        "icare_df_preprocessed_2023['SPELL_IDENTIFIER'].nunique()\n",
        "len(problem_dummies)\n",
        "problem_dummies['SUBJECT'].nunique()"
      ]
    },
    {
      "cell_type": "code",
      "execution_count": 13,
      "metadata": {
        "gather": {
          "logged": 1705933970750
        },
        "jupyter": {
          "outputs_hidden": false,
          "source_hidden": false
        },
        "nteract": {
          "transient": {
            "deleting": false
          }
        }
      },
      "outputs": [],
      "source": [
        "# Filter\n",
        "icare_df_preprocessed = icare_df_preprocessed[icare_df_preprocessed['SPELL_IDENTIFIER'].isin(episode_spell_list)]\n",
        "icare_df_preprocessed_2023 = icare_df_preprocessed_2023[icare_df_preprocessed_2023['SPELL_IDENTIFIER'].isin(episode_2023_spell_list)]\n",
        "filtered_problem_dummies = problem_dummies[problem_dummies['SUBJECT'].isin(episode_subject_list)]"
      ]
    },
    {
      "cell_type": "code",
      "execution_count": 15,
      "metadata": {
        "gather": {
          "logged": 1705934251353
        },
        "jupyter": {
          "outputs_hidden": false,
          "source_hidden": false
        },
        "nteract": {
          "transient": {
            "deleting": false
          }
        }
      },
      "outputs": [],
      "source": [
        "# Save\n",
        "icare_df_preprocessed.to_csv('switch_data/chronic_switch_icare_df_preprocessed.csv', index=False)\n",
        "# Save\n",
        "icare_df_preprocessed_2023.to_csv('switch_data/chronic_switch_icare_df_preprocessed_2023.csv', index=False)\n",
        "# Save\n",
        "filtered_problem_dummies.to_csv('switch_data/chronic_switch_problem_dummies.csv', index=False)"
      ]
    }
  ],
  "metadata": {
    "kernel_info": {
      "name": "python310-sdkv2"
    },
    "kernelspec": {
      "display_name": "Python 3.10 - SDK v2",
      "language": "python",
      "name": "python310-sdkv2"
    },
    "language_info": {
      "codemirror_mode": {
        "name": "ipython",
        "version": 3
      },
      "file_extension": ".py",
      "mimetype": "text/x-python",
      "name": "python",
      "nbconvert_exporter": "python",
      "pygments_lexer": "ipython3",
      "version": "3.10.11"
    },
    "microsoft": {
      "host": {
        "AzureML": {
          "notebookHasBeenCompleted": true
        }
      },
      "ms_spell_check": {
        "ms_spell_check_language": "en"
      }
    },
    "nteract": {
      "version": "nteract-front-end@1.0.0"
    }
  },
  "nbformat": 4,
  "nbformat_minor": 2
}
