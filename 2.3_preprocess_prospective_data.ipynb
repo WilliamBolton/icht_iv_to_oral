{
  "cells": [
    {
      "cell_type": "code",
      "execution_count": 2,
      "metadata": {
        "gather": {
          "logged": 1705589407825
        }
      },
      "outputs": [],
      "source": [
        "# Libraries\n",
        "import numpy as np\n",
        "import pandas as pd\n",
        "pd.set_option('display.max_columns', 40)\n",
        "pd.set_option('display.width', 2000)\n",
        "from IPython.core.interactiveshell import InteractiveShell\n",
        "InteractiveShell.ast_node_interactivity = \"all\"\n",
        "\n",
        "# Remove printing error\n",
        "pd.options.mode.chained_assignment = None"
      ]
    },
    {
      "cell_type": "code",
      "execution_count": 3,
      "metadata": {
        "gather": {
          "logged": 1687874747424
        },
        "jupyter": {
          "outputs_hidden": false,
          "source_hidden": false
        },
        "nteract": {
          "transient": {
            "deleting": false
          }
        }
      },
      "outputs": [],
      "source": [
        "# Import\n",
        "path = r'switch_data/c22_all_with_diff_2023.csv'\n",
        "c22_df = pd.read_csv(path)"
      ]
    },
    {
      "cell_type": "code",
      "execution_count": 4,
      "metadata": {
        "gather": {
          "logged": 1687874747651
        },
        "jupyter": {
          "outputs_hidden": false,
          "source_hidden": false
        },
        "nteract": {
          "transient": {
            "deleting": false
          }
        }
      },
      "outputs": [],
      "source": [
        "# Import\n",
        "path = r'switch_data/antibiotic_po_flag_2023.csv'\n",
        "antibiotic_df = pd.read_csv(path)"
      ]
    },
    {
      "cell_type": "code",
      "execution_count": 11,
      "metadata": {
        "gather": {
          "logged": 1687875190466
        },
        "jupyter": {
          "outputs_hidden": false,
          "source_hidden": false
        },
        "nteract": {
          "transient": {
            "deleting": false
          }
        }
      },
      "outputs": [],
      "source": [
        "# Conver to datetime \n",
        "c22_df['date'] =  pd.to_datetime(c22_df['date'])\n",
        "antibiotic_df['ADMINISTRATION_DATETIME'] =  pd.to_datetime(antibiotic_df['ADMINISTRATION_DATETIME'])"
      ]
    },
    {
      "cell_type": "code",
      "execution_count": null,
      "metadata": {
        "jupyter": {
          "outputs_hidden": false,
          "source_hidden": false
        },
        "nteract": {
          "transient": {
            "deleting": false
          }
        }
      },
      "outputs": [],
      "source": [
        "### Need to drop those where days are not continous as above!!!"
      ]
    },
    {
      "cell_type": "code",
      "execution_count": 19,
      "metadata": {
        "gather": {
          "logged": 1687875594380
        },
        "jupyter": {
          "outputs_hidden": false,
          "source_hidden": false
        },
        "nteract": {
          "transient": {
            "deleting": false
          }
        }
      },
      "outputs": [],
      "source": [
        "drop_stays = []\n",
        "for spell in c22_df.SPELL_IDENTIFIER.unique():\n",
        "    temp_df = c22_df[c22_df['SPELL_IDENTIFIER'] == spell]\n",
        "    temp_df.reset_index(inplace=True, drop=True)\n",
        "    for index, row in temp_df.iterrows():\n",
        "        #print(row)\n",
        "        if index == 0:\n",
        "            #print('first')\n",
        "            continue\n",
        "        elif row.date == temp_df.iloc[index-1]['date'] + pd.DateOffset(1):\n",
        "            #print(row)\n",
        "            #print(temp_df)\n",
        "            continue\n",
        "        else:\n",
        "            drop_stays.append(spell)\n",
        "\n",
        "c22_df2 = c22_df[~c22_df['SPELL_IDENTIFIER'].isin(drop_stays)]"
      ]
    },
    {
      "cell_type": "code",
      "execution_count": 23,
      "metadata": {
        "gather": {
          "logged": 1687875796529
        },
        "jupyter": {
          "outputs_hidden": false,
          "source_hidden": false
        },
        "nteract": {
          "transient": {
            "deleting": false
          }
        }
      },
      "outputs": [
        {
          "data": {
            "text/plain": [
              "2244"
            ]
          },
          "execution_count": 23,
          "metadata": {},
          "output_type": "execute_result"
        },
        {
          "data": {
            "text/plain": [
              "3431"
            ]
          },
          "execution_count": 23,
          "metadata": {},
          "output_type": "execute_result"
        },
        {
          "data": {
            "text/plain": [
              "2244"
            ]
          },
          "execution_count": 23,
          "metadata": {},
          "output_type": "execute_result"
        }
      ],
      "source": [
        "c22_df2.SPELL_IDENTIFIER.nunique()\n",
        "antibiotic_df.SPELL_IDENTIFIER.nunique()\n",
        "len(list(set(c22_df2.SPELL_IDENTIFIER.unique()) & set(antibiotic_df.SPELL_IDENTIFIER.unique())))"
      ]
    },
    {
      "cell_type": "code",
      "execution_count": 25,
      "metadata": {
        "gather": {
          "logged": 1687875862739
        },
        "jupyter": {
          "outputs_hidden": false,
          "source_hidden": false
        },
        "nteract": {
          "transient": {
            "deleting": false
          }
        }
      },
      "outputs": [],
      "source": [
        "# Rename\n",
        "antibiotic_df.rename(columns={'ADMINISTRATION_DATETIME': 'date'}, inplace=True)"
      ]
    },
    {
      "cell_type": "code",
      "execution_count": 28,
      "metadata": {
        "gather": {
          "logged": 1687875878400
        },
        "jupyter": {
          "outputs_hidden": false,
          "source_hidden": false
        },
        "nteract": {
          "transient": {
            "deleting": false
          }
        }
      },
      "outputs": [],
      "source": [
        "# Merge features and labels\n",
        "icare_df = pd.merge(antibiotic_df[['SPELL_IDENTIFIER', 'date', 'ROUTE', 'po_flag', 'iv_treatment_length']], c22_df2)"
      ]
    },
    {
      "cell_type": "code",
      "execution_count": 30,
      "metadata": {
        "gather": {
          "logged": 1687875889729
        },
        "jupyter": {
          "outputs_hidden": false,
          "source_hidden": false
        },
        "nteract": {
          "transient": {
            "deleting": false
          }
        }
      },
      "outputs": [],
      "source": [
        "# Order\n",
        "icare_df.sort_values(by=['SPELL_IDENTIFIER', 'date'], inplace=True)"
      ]
    },
    {
      "cell_type": "code",
      "execution_count": 31,
      "metadata": {
        "gather": {
          "logged": 1687875894174
        },
        "jupyter": {
          "outputs_hidden": false,
          "source_hidden": false
        },
        "nteract": {
          "transient": {
            "deleting": false
          }
        }
      },
      "outputs": [],
      "source": [
        "# Reset index \n",
        "icare_df.reset_index(inplace=True, drop=True)"
      ]
    },
    {
      "cell_type": "code",
      "execution_count": 33,
      "metadata": {
        "gather": {
          "logged": 1687875939601
        },
        "jupyter": {
          "outputs_hidden": false,
          "source_hidden": false
        },
        "nteract": {
          "transient": {
            "deleting": false
          }
        }
      },
      "outputs": [],
      "source": [
        "# Save\n",
        "#icare_df.to_csv('switch_data/icare_switch_data_2023.csv', index=False)"
      ]
    },
    {
      "cell_type": "code",
      "execution_count": null,
      "metadata": {
        "jupyter": {
          "outputs_hidden": false,
          "source_hidden": false
        },
        "nteract": {
          "transient": {
            "deleting": false
          }
        }
      },
      "outputs": [],
      "source": [
        "# Import\n",
        "#path = r'switch_data/icare_switch_data.csv'\n",
        "#icare_df = pd.read_csv(path)"
      ]
    },
    {
      "cell_type": "code",
      "execution_count": 35,
      "metadata": {
        "gather": {
          "logged": 1687875949012
        },
        "jupyter": {
          "outputs_hidden": false,
          "source_hidden": false
        },
        "nteract": {
          "transient": {
            "deleting": false
          }
        }
      },
      "outputs": [],
      "source": [
        "# Function to remove outliers based using Q(1/3) -+ 2 * IQR\n",
        "def remove_data_outliers(df, coeff=6, tol=0):\n",
        "    \"\"\"Utility function to remove data outliers from the data set using Z-Score method.\n",
        "    Args:\n",
        "        df (DataFrame): Input transformed data set.\n",
        "        coeff (float, optional): Scaling coefficient for outlier removal strategy. Defaults to 6.\n",
        "        tol (int, optional): Feature tolerance on how many features with NaN values may exist. Defaults to 0.\n",
        "    Returns:\n",
        "        Data set (DataFrame): Output data set without outlier values.\n",
        "        Outliers per variable (Series): Number of outliers remaining per variable.\n",
        "    \"\"\"\n",
        "\n",
        "    # Calculate IQR = Q3 - Q1\n",
        "    q1, q3 = df.quantile(.25), df.quantile(.75)\n",
        "    IQR = q3 - q1\n",
        "    lower_bound = q1 - (coeff * IQR)\n",
        "    upper_bound = q3 + (coeff * IQR)\n",
        "\n",
        "    # Set the outliers to unique number\n",
        "    df[(df < lower_bound) | (df > upper_bound)] = 999999999\n",
        "\n",
        "    # Store number of outliers per column\n",
        "    outlier_count = df[df == 999999999].count(axis=0)\n",
        "\n",
        "    # Set the outliers to NaN\n",
        "    df = df.replace(999999999, np.NaN)\n",
        "    #outlier_count2 = df[df == 999999999].count(axis=0)\n",
        "\n",
        "    # Drop NaN values with option for adjusting threshold\n",
        "    #df = df.dropna(how='any', thresh=df.shape[1] - tol)\n",
        "\n",
        "    # Store number of outliers per column\n",
        "    #outlier_count = df.isna().sum(axis=0)\n",
        "\n",
        "    # Return complete profiles and outliers per column\n",
        "    return df, outlier_count#, outlier_count2"
      ]
    },
    {
      "cell_type": "code",
      "execution_count": 36,
      "metadata": {
        "gather": {
          "logged": 1687875951120
        },
        "jupyter": {
          "outputs_hidden": false,
          "source_hidden": false
        },
        "nteract": {
          "transient": {
            "deleting": false
          }
        }
      },
      "outputs": [],
      "source": [
        "from sklearn import preprocessing\n",
        "\n",
        "def preprocess_fun(data):\n",
        "    # Split X y\n",
        "    X = data.drop(columns=['SPELL_IDENTIFIER', 'date', 'ROUTE', 'po_flag', 'iv_treatment_length', '24_hour_flag', '48_hour_flag'])\n",
        "    y = data['po_flag']\n",
        "    # Remove outliers\n",
        "    times = 2\n",
        "    X2, outlier_count = remove_data_outliers(X, coeff=times)\n",
        "    # Forward fill based on stay_id and -1 fill missing\n",
        "    X2 = pd.concat([X2, data['SPELL_IDENTIFIER']], axis=1)\n",
        "    ffilled_data = X2.groupby('SPELL_IDENTIFIER').transform(lambda p: p.ffill())\n",
        "    #ffilled_data = ffilled_data.join(combined_data['stay_id'])\n",
        "    ffilled_features = ffilled_data\n",
        "    # Filling missing data, normalize features\n",
        "    min_max_scaler = preprocessing.MinMaxScaler()\n",
        "    data_scaled = min_max_scaler.fit_transform(ffilled_features)\n",
        "    processed_data = np.nan_to_num(data_scaled, nan=-1)\n",
        "\n",
        "    # Add back lables\n",
        "    feature_names = list(ffilled_features.columns)\n",
        "    X3 = pd.DataFrame(processed_data, columns=feature_names)\n",
        "    #X3.drop(columns=['stay_id'], inplace=True)\n",
        "\n",
        "    # Split into training, validation and testing\n",
        "    model_data = pd.concat([data[['SPELL_IDENTIFIER', 'date', 'ROUTE', 'po_flag', 'iv_treatment_length', '24_hour_flag', '48_hour_flag']], X3], axis=1)\n",
        "\n",
        "    return model_data"
      ]
    },
    {
      "cell_type": "code",
      "execution_count": 37,
      "metadata": {
        "gather": {
          "logged": 1687875956421
        },
        "jupyter": {
          "outputs_hidden": false,
          "source_hidden": false
        },
        "nteract": {
          "transient": {
            "deleting": false
          }
        }
      },
      "outputs": [
        {
          "name": "stderr",
          "output_type": "stream",
          "text": [
            "All-NaN slice encountered\n",
            "All-NaN slice encountered\n"
          ]
        }
      ],
      "source": [
        "# Preprocess\n",
        "icare_df_preprocessed = preprocess_fun(icare_df)"
      ]
    },
    {
      "cell_type": "code",
      "execution_count": 42,
      "metadata": {
        "gather": {
          "logged": 1687876329653
        },
        "jupyter": {
          "outputs_hidden": false,
          "source_hidden": false
        },
        "nteract": {
          "transient": {
            "deleting": false
          }
        }
      },
      "outputs": [],
      "source": [
        "# Save\n",
        "#icare_df_preprocessed.to_csv('switch_data/icare_switch_data_preprocessed_2023.csv', index=False)"
      ]
    }
  ],
  "metadata": {
    "kernel_info": {
      "name": "python310-sdkv2"
    },
    "kernelspec": {
      "display_name": "Python 3.10 - SDK v2",
      "language": "python",
      "name": "python310-sdkv2"
    },
    "language_info": {
      "codemirror_mode": {
        "name": "ipython",
        "version": 3
      },
      "file_extension": ".py",
      "mimetype": "text/x-python",
      "name": "python",
      "nbconvert_exporter": "python",
      "pygments_lexer": "ipython3",
      "version": "3.10.11"
    },
    "microsoft": {
      "host": {
        "AzureML": {
          "notebookHasBeenCompleted": true
        }
      },
      "ms_spell_check": {
        "ms_spell_check_language": "en"
      }
    },
    "nteract": {
      "version": "nteract-front-end@1.0.0"
    }
  },
  "nbformat": 4,
  "nbformat_minor": 2
}
