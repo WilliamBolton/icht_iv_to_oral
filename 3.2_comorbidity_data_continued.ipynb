{
  "cells": [
    {
      "cell_type": "code",
      "execution_count": 39,
      "metadata": {
        "gather": {
          "logged": 1710859840492
        },
        "jupyter": {
          "outputs_hidden": false,
          "source_hidden": false
        },
        "nteract": {
          "transient": {
            "deleting": false
          }
        }
      },
      "outputs": [],
      "source": [
        "# Libraries\n",
        "import pandas as pd\n",
        "pd.set_option('display.max_columns', 40)\n",
        "pd.set_option('display.width', 2000)\n",
        "import json, snowflake.connector\n",
        "\n",
        "from IPython.core.interactiveshell import InteractiveShell\n",
        "InteractiveShell.ast_node_interactivity = \"all\"\n",
        "\n",
        "# Remove printing error\n",
        "pd.options.mode.chained_assignment = None"
      ]
    },
    {
      "cell_type": "code",
      "execution_count": null,
      "metadata": {
        "gather": {
          "logged": 1710857805285
        },
        "jupyter": {
          "outputs_hidden": false,
          "source_hidden": false
        },
        "nteract": {
          "transient": {
            "deleting": false
          }
        }
      },
      "outputs": [],
      "source": [
        "# establish the connection to snowflake\n",
        "ctx = snowflake.connector.connect( \n",
        "    **json.load(open('/opt/ich/python-snowflake-defaults.json')))\n",
        "    \n",
        "# verify and test if connection is working\n",
        "try: \n",
        "    cs = ctx.cursor() \n",
        "    cs.execute('SELECT current_version(), current_role(), current_warehouse()')\n",
        "    print(cs.fetchone())\n",
        "finally: \n",
        "    cs.close()"
      ]
    },
    {
      "cell_type": "code",
      "execution_count": 13,
      "metadata": {
        "gather": {
          "logged": 1710858076059
        },
        "jupyter": {
          "outputs_hidden": false,
          "source_hidden": false
        },
        "nteract": {
          "transient": {
            "deleting": false
          }
        }
      },
      "outputs": [],
      "source": [
        "# Import \n",
        "query = '''\n",
        "SELECT * from ICHT_PROD.ICHT_COVID.PROBLEM_2023\n",
        "'''\n",
        "cur = ctx.cursor().execute(query)\n",
        "problem = pd.DataFrame.from_records(iter(cur), columns=[x[0] for x in cur.description])"
      ]
    },
    {
      "cell_type": "code",
      "execution_count": 2,
      "metadata": {
        "gather": {
          "logged": 1710850747166
        }
      },
      "outputs": [],
      "source": [
        "# Import\n",
        "path = r'switch_data/chronic_switch_icare_df_preprocessed_2023.csv'\n",
        "icare_df_preprocessed = pd.read_csv(path)\n",
        "\n",
        "# Import\n",
        "path = r'switch_data/chronic_switch_episodes_2023.csv'\n",
        "episodes = pd.read_csv(path)\n",
        "\n",
        "# Import\n",
        "path = r'switch_data/chronic_switch_disease_2023.csv'\n",
        "disease = pd.read_csv(path)\n",
        "\n",
        "# Import\n",
        "path = r'switch_data/chronic_switch_demographics_2023.csv'\n",
        "demographics = pd.read_csv(path)\n",
        "\n",
        "# Import\n",
        "path = r'switch_data/snomed_embedding_128d-copy.csv'\n",
        "embedding = pd.read_csv(path)\n",
        "\n",
        "# Import\n",
        "path = r'switch_data/chronic_switch_problem_dummies_2023?.csv'\n",
        "problem_dummies = pd.read_csv(path)"
      ]
    },
    {
      "cell_type": "code",
      "execution_count": 26,
      "metadata": {
        "gather": {
          "logged": 1710858400669
        },
        "jupyter": {
          "outputs_hidden": false,
          "source_hidden": false
        },
        "nteract": {
          "transient": {
            "deleting": false
          }
        }
      },
      "outputs": [],
      "source": [
        "# Get lists\n",
        "problem_list = problem_dummies.iloc[:,3:].rename(columns=lambda x: x.strip('PROBLEM_')).columns.tolist()\n",
        "subject_list = problem_dummies['SUBJECT'].unique().tolist()"
      ]
    },
    {
      "cell_type": "code",
      "execution_count": 54,
      "metadata": {
        "gather": {
          "logged": 1710860902150
        },
        "jupyter": {
          "outputs_hidden": false,
          "source_hidden": false
        },
        "nteract": {
          "transient": {
            "deleting": false
          }
        }
      },
      "outputs": [],
      "source": [
        "# Filter\n",
        "filtered_problem = problem[problem['SUBJECT'].isin(subject_list)]\n",
        "filtered_problem = filtered_problem[filtered_problem['PROBLEM'].isin(problem_list)]\n",
        "filtered_problem = filtered_problem[['SUBJECT',\t'PROBLEM', 'PROBLEM_DT_TM']]"
      ]
    },
    {
      "cell_type": "code",
      "execution_count": 77,
      "metadata": {
        "gather": {
          "logged": 1710862963987
        },
        "jupyter": {
          "outputs_hidden": false,
          "source_hidden": false
        },
        "nteract": {
          "transient": {
            "deleting": false
          }
        }
      },
      "outputs": [],
      "source": [
        "# Create new_subject column\n",
        "# Convert 'date' column to datetime\n",
        "filtered_problem['PROBLEM_DT_TM'] = pd.to_datetime(filtered_problem['PROBLEM_DT_TM'])\n",
        "\n",
        "# Sort DataFrame by 'subject' and 'date'\n",
        "filtered_problem = filtered_problem.sort_values(by=['SUBJECT', 'PROBLEM_DT_TM'])\n",
        "\n",
        "# Initialize the new_subject counter\n",
        "new_subject_counter = 1\n",
        "\n",
        "# Initialize an empty list to store the resulting data\n",
        "result_data = []\n",
        "\n",
        "# Iterate over each subject group\n",
        "for subject, group in filtered_problem.groupby('SUBJECT'):\n",
        "    # Initialize an empty dictionary to store the mapping of dates to new_subject values\n",
        "    date_to_new_subject = {}\n",
        "    # Iterate over each unique date\n",
        "    for date in group['PROBLEM_DT_TM'].unique():\n",
        "        if date not in date_to_new_subject:\n",
        "            # If the date is encountered for the first time, assign a new_subject value\n",
        "            date_to_new_subject[date] = new_subject_counter\n",
        "            new_subject_counter += 1\n",
        "        # Filter rows with date less than or equal to the current date\n",
        "        filtered_rows = group[group['PROBLEM_DT_TM'] <= date].copy()\n",
        "        # Assign new_subject values\n",
        "        filtered_rows['new_subject'] = date_to_new_subject[date]\n",
        "        # Append to result_data\n",
        "        result_data.append(filtered_rows)\n",
        "\n",
        "# Concatenate the filtered dataframes into a new dataframe\n",
        "new_filtered_problem = pd.concat(result_data)\n",
        "\n",
        "# Reset index\n",
        "new_filtered_problem.reset_index(drop=True, inplace=True)"
      ]
    },
    {
      "cell_type": "code",
      "execution_count": 85,
      "metadata": {
        "gather": {
          "logged": 1710863614772
        },
        "jupyter": {
          "outputs_hidden": false,
          "source_hidden": false
        },
        "nteract": {
          "transient": {
            "deleting": false
          }
        }
      },
      "outputs": [
        {
          "data": {
            "text/plain": [
              "Index(['SUBJECT', 'PROBLEM', 'PROBLEM_DT_TM', 'new_subject'], dtype='object')"
            ]
          },
          "execution_count": 85,
          "metadata": {},
          "output_type": "execute_result"
        }
      ],
      "source": [
        "new_filtered_problem.columns"
      ]
    },
    {
      "cell_type": "code",
      "execution_count": 92,
      "metadata": {
        "gather": {
          "logged": 1710864067533
        },
        "jupyter": {
          "outputs_hidden": false,
          "source_hidden": false
        },
        "nteract": {
          "transient": {
            "deleting": false
          }
        }
      },
      "outputs": [],
      "source": [
        "final_dummies = pd.DataFrame(columns=['SUBJECT', 'PROBLEM_DT_TM', 'new_subject'])\n",
        "final_dummies.to_csv('working_problem_dummies_2023.csv', index=False)"
      ]
    },
    {
      "cell_type": "code",
      "execution_count": null,
      "metadata": {
        "gather": {
          "logged": 1710864519942
        },
        "jupyter": {
          "outputs_hidden": false,
          "source_hidden": false
        },
        "nteract": {
          "transient": {
            "deleting": false
          }
        }
      },
      "outputs": [],
      "source": [
        "# Code to transform into one hot df\n",
        "final_dummies = pd.DataFrame()\n",
        "for n in new_filtered_problem.new_subject.unique().tolist():\n",
        "    temp_df = new_filtered_problem[new_filtered_problem['new_subject'] == n]\n",
        "\n",
        "    # Get dummies\n",
        "    temp_dummies = pd.get_dummies(temp_df, columns=['PROBLEM'])\n",
        "\n",
        "    temp_df = temp_dummies.copy()\n",
        "    temp_df = pd.DataFrame(temp_dummies.iloc[-1,:3]).transpose()\n",
        "    temp_df.reset_index(inplace=True, drop=True)\n",
        "\n",
        "    temp_dummies2 = pd.DataFrame(temp_dummies.iloc[:,3:].sum()).transpose()\n",
        "\n",
        "    temp_df2 = temp_df.join(temp_dummies2)\n",
        "\n",
        "    final_dummies = pd.concat([final_dummies, temp_df2], ignore_index=True)\n",
        "\n",
        "    if (n / 100).is_integer():\n",
        "        print(n)\n",
        "        # Load\n",
        "        path = r'working_problem_dummies_2023.csv'\n",
        "        working_dummies = pd.read_csv(path)\n",
        "        # Concat\n",
        "        working_dummies = pd.concat([working_dummies, final_dummies], ignore_index=True)\n",
        "        # Save\n",
        "        working_dummies.to_csv('working_problem_dummies_2023.csv', index=False)\n",
        "        # Delete\n",
        "        del working_dummies\n",
        "        del final_dummies\n",
        "        final_dummies = pd.DataFrame()\n",
        "        print('new 100')\n",
        "\n",
        "# Join end rows    \n",
        "# Load\n",
        "path = r'working_problem_dummies_2023.csv'\n",
        "working_dummies = pd.read_csv(path)\n",
        "# Concat\n",
        "final_working_problem_dummies = pd.concat([working_dummies, final_dummies], ignore_index=True)\n",
        "# Save\n",
        "final_working_problem_dummies.to_csv('chronic_switch_problem_dummies_2023.csv', index=False)"
      ]
    },
    {
      "cell_type": "code",
      "execution_count": null,
      "metadata": {
        "gather": {
          "logged": 1710865076944
        },
        "jupyter": {
          "outputs_hidden": false,
          "source_hidden": false
        },
        "nteract": {
          "transient": {
            "deleting": false
          }
        }
      },
      "outputs": [],
      "source": [
        "# Fillna\n",
        "final_working_problem_dummies.fillna(0, inplace=True)\n",
        "\n",
        "# Find missing columns in df2 compared to df1\n",
        "missing_columns = problem_dummies.columns.difference(final_working_problem_dummies.columns)\n",
        "\n",
        "# Add missing columns to df2 and fill with zeros\n",
        "for col in missing_columns:\n",
        "    final_working_problem_dummies[col] = 0\n",
        "\n",
        "# Reorder columns in df2 to match the order of columns in df1\n",
        "final_working_problem_dummies = final_working_problem_dummies[problem_dummies.columns]"
      ]
    },
    {
      "cell_type": "code",
      "execution_count": 105,
      "metadata": {
        "gather": {
          "logged": 1710865171991
        },
        "jupyter": {
          "outputs_hidden": false,
          "source_hidden": false
        },
        "nteract": {
          "transient": {
            "deleting": false
          }
        }
      },
      "outputs": [],
      "source": [
        "# Save\n",
        "#final_working_problem_dummies.to_csv('chronic_switch_problem_dummies_2023.csv', index=False)"
      ]
    }
  ],
  "metadata": {
    "kernel_info": {
      "name": "python310-sdkv2"
    },
    "kernelspec": {
      "display_name": "Python 3.10 - SDK v2",
      "language": "python",
      "name": "python310-sdkv2"
    },
    "language_info": {
      "codemirror_mode": {
        "name": "ipython",
        "version": 3
      },
      "file_extension": ".py",
      "mimetype": "text/x-python",
      "name": "python",
      "nbconvert_exporter": "python",
      "pygments_lexer": "ipython3",
      "version": "3.10.11"
    },
    "microsoft": {
      "host": {
        "AzureML": {
          "notebookHasBeenCompleted": true
        }
      },
      "ms_spell_check": {
        "ms_spell_check_language": "en"
      }
    },
    "nteract": {
      "version": "nteract-front-end@1.0.0"
    }
  },
  "nbformat": 4,
  "nbformat_minor": 2
}
